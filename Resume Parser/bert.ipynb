{
 "cells": [
  {
   "cell_type": "markdown",
   "metadata": {},
   "source": [
    "# Sentence Transformers"
   ]
  },
  {
   "cell_type": "code",
   "execution_count": 1,
   "metadata": {},
   "outputs": [],
   "source": [
    "import pandas as pd\n",
    "import numpy as np"
   ]
  },
  {
   "cell_type": "code",
   "execution_count": 2,
   "metadata": {},
   "outputs": [],
   "source": [
    "df_jobs = pd.read_csv('jobs.csv')\n",
    "df_resume = pd.read_csv('resume_sections.csv')\n",
    "df_resume.drop(columns=['INTERESTS', 'AWARDS'], inplace=True)\n",
    "df_resume.fillna('', inplace=True)"
   ]
  },
  {
   "cell_type": "markdown",
   "metadata": {},
   "source": [
    "## Preprocessing"
   ]
  },
  {
   "cell_type": "code",
   "execution_count": 3,
   "metadata": {},
   "outputs": [
    {
     "data": {
      "text/plain": [
       "'i have skills in developing applications using python react js and javascript i can use java express js and nodejs'"
      ]
     },
     "execution_count": 3,
     "metadata": {},
     "output_type": "execute_result"
    }
   ],
   "source": [
    "import re\n",
    "\n",
    "def clean_description(text):\n",
    "    # Remove punctuation and numbers\n",
    "    text = re.sub(r'[^a-zA-Z\\+]', ' ', text)\n",
    "    # Remove extra blank spaces\n",
    "    text = re.sub(r'\\s+', ' ', text).strip()\n",
    "    # Convert to lowercase\n",
    "    text = text.lower()\n",
    "    return text\n",
    "\n",
    "clean_description(\"I have skills in developing applications using Python3, React.js, and JavaScript.      I can use Java, express.JS and NodeJS!\")"
   ]
  },
  {
   "cell_type": "code",
   "execution_count": 4,
   "metadata": {},
   "outputs": [
    {
     "data": {
      "text/html": [
       "<div>\n",
       "<style scoped>\n",
       "    .dataframe tbody tr th:only-of-type {\n",
       "        vertical-align: middle;\n",
       "    }\n",
       "\n",
       "    .dataframe tbody tr th {\n",
       "        vertical-align: top;\n",
       "    }\n",
       "\n",
       "    .dataframe thead th {\n",
       "        text-align: right;\n",
       "    }\n",
       "</style>\n",
       "<table border=\"1\" class=\"dataframe\">\n",
       "  <thead>\n",
       "    <tr style=\"text-align: right;\">\n",
       "      <th></th>\n",
       "      <th>Filename</th>\n",
       "      <th>clean_resume_text</th>\n",
       "    </tr>\n",
       "  </thead>\n",
       "  <tbody>\n",
       "    <tr>\n",
       "      <th>0</th>\n",
       "      <td>Albana_be</td>\n",
       "      <td>web developer icf current oklahoma city ok par...</td>\n",
       "    </tr>\n",
       "    <tr>\n",
       "      <th>1</th>\n",
       "      <td>Anil_Sharma_X</td>\n",
       "      <td>as an enthusiastic graduate with a degree in e...</td>\n",
       "    </tr>\n",
       "    <tr>\n",
       "      <th>2</th>\n",
       "      <td>Ayla_Stone</td>\n",
       "      <td>web developer fanatics current jacksonville fl...</td>\n",
       "    </tr>\n",
       "    <tr>\n",
       "      <th>3</th>\n",
       "      <td>Hari_Tamang_I</td>\n",
       "      <td>software intern xyz tech solutions pokhara kas...</td>\n",
       "    </tr>\n",
       "    <tr>\n",
       "      <th>4</th>\n",
       "      <td>Ilias</td>\n",
       "      <td>junior software developer revature llc current...</td>\n",
       "    </tr>\n",
       "  </tbody>\n",
       "</table>\n",
       "</div>"
      ],
      "text/plain": [
       "        Filename                                  clean_resume_text\n",
       "0      Albana_be  web developer icf current oklahoma city ok par...\n",
       "1  Anil_Sharma_X  as an enthusiastic graduate with a degree in e...\n",
       "2     Ayla_Stone  web developer fanatics current jacksonville fl...\n",
       "3  Hari_Tamang_I  software intern xyz tech solutions pokhara kas...\n",
       "4          Ilias  junior software developer revature llc current..."
      ]
     },
     "execution_count": 4,
     "metadata": {},
     "output_type": "execute_result"
    }
   ],
   "source": [
    "# Combine text from all columns to get overall resume text\n",
    "df_resume['clean_resume_text'] = df_resume[['PROFILE', 'EXPERIENCE', 'PROJECTS', 'CERTIFICATIONS']].apply(lambda row: ' '.join(row), axis=1).apply(clean_description)\n",
    "df_resume.head()[['Filename', 'clean_resume_text']]"
   ]
  },
  {
   "cell_type": "code",
   "execution_count": 5,
   "metadata": {},
   "outputs": [],
   "source": [
    "df_resume.drop(columns=['PROFILE', 'CERTIFICATIONS'], inplace=True)"
   ]
  },
  {
   "cell_type": "markdown",
   "metadata": {},
   "source": [
    "# Choose target job"
   ]
  },
  {
   "cell_type": "code",
   "execution_count": 6,
   "metadata": {},
   "outputs": [],
   "source": [
    "target_job = df_jobs.loc[5]"
   ]
  },
  {
   "cell_type": "markdown",
   "metadata": {},
   "source": [
    "Preprocess job description  \n",
    "This adds the title, and skills to the description.  \n",
    "Then cleans it."
   ]
  },
  {
   "cell_type": "code",
   "execution_count": 7,
   "metadata": {},
   "outputs": [],
   "source": [
    "def preprocess_job(target_job):\n",
    "    title, description, skills = (\n",
    "        target_job['title'],\n",
    "        target_job['description'],\n",
    "        target_job['skills'],\n",
    "    )    # Clean description\n",
    "    if skills:\n",
    "        description = skills.replace(',', '') + ' ' + description\n",
    "    if title:\n",
    "        description = f'{title} {description}'\n",
    "    description = clean_description(description)\n",
    "    # print('Cleaned job description:', description)\n",
    "    return description"
   ]
  },
  {
   "cell_type": "code",
   "execution_count": 8,
   "metadata": {},
   "outputs": [
    {
     "name": "stdout",
     "output_type": "stream",
     "text": [
      " • Develop and maintain front-end and back-end components of web applications. • Design and\n",
      "implement user-friendly interfaces using HTML, CSS, and JavaScript frameworks such as React or\n",
      "Angular. • Write clean, efficient, and maintainable code in languages such as JavaScript, Python. •\n",
      "Develop RESTful APIs and integrate third-party services as needed.  • Proficiency in front-end\n",
      "technologies such as HTML, CSS, JavaScript, and front-end frameworks like React, Next.js •\n",
      "Experience with back-end technologies such as Node.js, Python. • Strong understanding of RESTful\n",
      "APIs and web services. • Familiarity with database technologies such as SQL, MongoDB, or PostgreSQL.\n",
      "• Ability to write Unit and Integration Tests • Experience working with CI/CD pipelines • Highly\n",
      "experienced with Agile methodologies like Scrum/Kanban • Strong communication and interpersonal\n",
      "skills.\n"
     ]
    }
   ],
   "source": [
    "import textwrap\n",
    "\n",
    "wrapped_content = textwrap.fill(target_job['description'], 100)\n",
    "print(wrapped_content)"
   ]
  },
  {
   "cell_type": "markdown",
   "metadata": {},
   "source": [
    "## Tfidf\n",
    "For comparing job-description and resume-description"
   ]
  },
  {
   "cell_type": "code",
   "execution_count": 9,
   "metadata": {},
   "outputs": [],
   "source": [
    "from sklearn.feature_extraction.text import TfidfVectorizer\n",
    "from sklearn.metrics.pairwise import cosine_similarity"
   ]
  },
  {
   "cell_type": "code",
   "execution_count": 10,
   "metadata": {},
   "outputs": [],
   "source": [
    "\n",
    "def get_description_score(target_job):\n",
    "    # Initialize the TfidfVectorizer\n",
    "    # min_df=3 means ignore terms that appear in less than 3 document\n",
    "    tfidf_vectorizer = TfidfVectorizer(stop_words='english', min_df=3)\n",
    "\n",
    "    # fit_transform the vectorizers and create tfidf matrix\n",
    "    tfidf_matrix = tfidf_vectorizer.fit_transform([preprocess_job(target_job)] + df_resume['clean_resume_text'].values.tolist())\n",
    "    \n",
    "    # Calculate cosine similarity between the job description and resumes\n",
    "    cosine_similarities = cosine_similarity(tfidf_matrix[0:1], tfidf_matrix[1:]).flatten()\n",
    "\n",
    "    df_resume['description_score'] = cosine_similarities"
   ]
  },
  {
   "cell_type": "code",
   "execution_count": 11,
   "metadata": {},
   "outputs": [],
   "source": [
    "get_description_score(target_job)"
   ]
  },
  {
   "cell_type": "markdown",
   "metadata": {},
   "source": [
    "# BERT"
   ]
  },
  {
   "cell_type": "code",
   "execution_count": 12,
   "metadata": {},
   "outputs": [],
   "source": [
    "from tqdm import tqdm\n",
    "from sklearn.metrics.pairwise import cosine_similarity\n",
    "\n",
    "def get_sentence_transformer_model_score(target_job, model_name, model):\n",
    "    print(f'\\nModel={model_name} Embedding-Dimensions={model.get_sentence_embedding_dimension()}')\n",
    "\n",
    "    job_embeddings = model.encode(preprocess_job(target_job))   \n",
    "    # resume_embeddings = model.encode(df_resume['clean_resume_text'])\n",
    "\n",
    "    resume_embeddings = np.zeros((len(df_resume), model.\n",
    "    get_sentence_embedding_dimension()))\n",
    "    for i in tqdm(range(len(df_resume)), desc='Encoding resume texts', unit='resumes'):\n",
    "        resume_embeddings[i] = model.encode(df_resume.iloc[i]['clean_resume_text'])\n",
    "    \n",
    "    # Calculate cosine similarity between the job description and resumes\n",
    "    cosine_similarities = cosine_similarity(resume_embeddings, [job_embeddings])\n",
    "\n",
    "    # Set negative scores to 0\n",
    "    cosine_similarities[cosine_similarities < 0] = 0\n",
    "\n",
    "    df_resume[model_name] = cosine_similarities"
   ]
  },
  {
   "cell_type": "markdown",
   "metadata": {},
   "source": [
    "## bert-base-nli-mean-tokens"
   ]
  },
  {
   "cell_type": "code",
   "execution_count": 13,
   "metadata": {},
   "outputs": [],
   "source": [
    "from sentence_transformers import SentenceTransformer\n",
    "\n",
    "# Load a pre-trained sentence transformer model\n",
    "MODEL_NAME = 'bert-base-nli-mean-tokens'\n",
    "model = SentenceTransformer(MODEL_NAME)"
   ]
  },
  {
   "cell_type": "code",
   "execution_count": 14,
   "metadata": {},
   "outputs": [
    {
     "name": "stdout",
     "output_type": "stream",
     "text": [
      "\n",
      "Model=bert-base-nli-mean-tokens Embedding-Dimensions=768\n"
     ]
    },
    {
     "name": "stderr",
     "output_type": "stream",
     "text": [
      "Encoding resume texts: 100%|██████████| 15/15 [00:06<00:00,  2.31resumes/s]\n"
     ]
    }
   ],
   "source": [
    "get_sentence_transformer_model_score(target_job, MODEL_NAME, model)"
   ]
  },
  {
   "cell_type": "markdown",
   "metadata": {},
   "source": [
    "## all-MiniLM-L12-v2 model"
   ]
  },
  {
   "cell_type": "code",
   "execution_count": 15,
   "metadata": {},
   "outputs": [],
   "source": [
    "# Load a pre-trained sentence transformer model\n",
    "MODEL_NAME = 'all-MiniLM-L12-v2'\n",
    "model = SentenceTransformer(MODEL_NAME)"
   ]
  },
  {
   "cell_type": "code",
   "execution_count": 16,
   "metadata": {},
   "outputs": [
    {
     "name": "stdout",
     "output_type": "stream",
     "text": [
      "\n",
      "Model=all-MiniLM-L12-v2 Embedding-Dimensions=384\n"
     ]
    },
    {
     "name": "stderr",
     "output_type": "stream",
     "text": [
      "Encoding resume texts: 100%|██████████| 15/15 [00:02<00:00,  6.31resumes/s]\n"
     ]
    }
   ],
   "source": [
    "get_sentence_transformer_model_score(target_job, MODEL_NAME, model)"
   ]
  },
  {
   "cell_type": "markdown",
   "metadata": {},
   "source": [
    "## all-MiniLM-L6-v2"
   ]
  },
  {
   "cell_type": "code",
   "execution_count": 17,
   "metadata": {},
   "outputs": [],
   "source": [
    "# Load a pre-trained sentence transformer model\n",
    "MODEL_NAME = 'all-MiniLM-L6-v2'\n",
    "model = SentenceTransformer(MODEL_NAME)"
   ]
  },
  {
   "cell_type": "code",
   "execution_count": 18,
   "metadata": {},
   "outputs": [
    {
     "name": "stdout",
     "output_type": "stream",
     "text": [
      "\n",
      "Model=all-MiniLM-L6-v2 Embedding-Dimensions=384\n"
     ]
    },
    {
     "name": "stderr",
     "output_type": "stream",
     "text": [
      "Encoding resume texts: 100%|██████████| 15/15 [00:02<00:00,  7.49resumes/s]\n"
     ]
    }
   ],
   "source": [
    "get_sentence_transformer_model_score(target_job, MODEL_NAME, model)"
   ]
  },
  {
   "cell_type": "code",
   "execution_count": 19,
   "metadata": {},
   "outputs": [
    {
     "data": {
      "text/html": [
       "<div>\n",
       "<style scoped>\n",
       "    .dataframe tbody tr th:only-of-type {\n",
       "        vertical-align: middle;\n",
       "    }\n",
       "\n",
       "    .dataframe tbody tr th {\n",
       "        vertical-align: top;\n",
       "    }\n",
       "\n",
       "    .dataframe thead th {\n",
       "        text-align: right;\n",
       "    }\n",
       "</style>\n",
       "<table border=\"1\" class=\"dataframe\">\n",
       "  <thead>\n",
       "    <tr style=\"text-align: right;\">\n",
       "      <th></th>\n",
       "      <th>Filename</th>\n",
       "      <th>clean_resume_text</th>\n",
       "      <th>description_score</th>\n",
       "      <th>bert-base-nli-mean-tokens</th>\n",
       "      <th>all-MiniLM-L12-v2</th>\n",
       "      <th>all-MiniLM-L6-v2</th>\n",
       "    </tr>\n",
       "  </thead>\n",
       "  <tbody>\n",
       "    <tr>\n",
       "      <th>6</th>\n",
       "      <td>Jeong_Kim</td>\n",
       "      <td>donationxchange web developer intern july curr...</td>\n",
       "      <td>0.421095</td>\n",
       "      <td>0.716248</td>\n",
       "      <td>0.589314</td>\n",
       "      <td>0.460648</td>\n",
       "    </tr>\n",
       "    <tr>\n",
       "      <th>2</th>\n",
       "      <td>Ayla_Stone</td>\n",
       "      <td>web developer fanatics current jacksonville fl...</td>\n",
       "      <td>0.128132</td>\n",
       "      <td>0.742487</td>\n",
       "      <td>0.568949</td>\n",
       "      <td>0.599610</td>\n",
       "    </tr>\n",
       "    <tr>\n",
       "      <th>13</th>\n",
       "      <td>SP</td>\n",
       "      <td>highly motivated computer engineering student ...</td>\n",
       "      <td>0.124668</td>\n",
       "      <td>0.707900</td>\n",
       "      <td>0.566015</td>\n",
       "      <td>0.592004</td>\n",
       "    </tr>\n",
       "    <tr>\n",
       "      <th>9</th>\n",
       "      <td>Ramesh_Chaudhary_I</td>\n",
       "      <td>as an enthusiastic graduate with a degree in e...</td>\n",
       "      <td>0.353725</td>\n",
       "      <td>0.756043</td>\n",
       "      <td>0.559163</td>\n",
       "      <td>0.650750</td>\n",
       "    </tr>\n",
       "    <tr>\n",
       "      <th>10</th>\n",
       "      <td>Ramika_Shrestha_I</td>\n",
       "      <td>abc software solutions april october software ...</td>\n",
       "      <td>0.357353</td>\n",
       "      <td>0.699788</td>\n",
       "      <td>0.528207</td>\n",
       "      <td>0.656318</td>\n",
       "    </tr>\n",
       "    <tr>\n",
       "      <th>0</th>\n",
       "      <td>Albana_be</td>\n",
       "      <td>web developer icf current oklahoma city ok par...</td>\n",
       "      <td>0.237370</td>\n",
       "      <td>0.728357</td>\n",
       "      <td>0.519924</td>\n",
       "      <td>0.526595</td>\n",
       "    </tr>\n",
       "    <tr>\n",
       "      <th>7</th>\n",
       "      <td>John_Doe</td>\n",
       "      <td>junior web developer november present resume w...</td>\n",
       "      <td>0.162601</td>\n",
       "      <td>0.573142</td>\n",
       "      <td>0.513866</td>\n",
       "      <td>0.497283</td>\n",
       "    </tr>\n",
       "    <tr>\n",
       "      <th>3</th>\n",
       "      <td>Hari_Tamang_I</td>\n",
       "      <td>software intern xyz tech solutions pokhara kas...</td>\n",
       "      <td>0.448095</td>\n",
       "      <td>0.792409</td>\n",
       "      <td>0.491800</td>\n",
       "      <td>0.663699</td>\n",
       "    </tr>\n",
       "    <tr>\n",
       "      <th>4</th>\n",
       "      <td>Ilias</td>\n",
       "      <td>junior software developer revature llc current...</td>\n",
       "      <td>0.211623</td>\n",
       "      <td>0.784552</td>\n",
       "      <td>0.461769</td>\n",
       "      <td>0.445097</td>\n",
       "    </tr>\n",
       "    <tr>\n",
       "      <th>14</th>\n",
       "      <td>Winston_Rosenberg</td>\n",
       "      <td>web developer spherical june current new york ...</td>\n",
       "      <td>0.047939</td>\n",
       "      <td>0.578164</td>\n",
       "      <td>0.457228</td>\n",
       "      <td>0.420642</td>\n",
       "    </tr>\n",
       "    <tr>\n",
       "      <th>11</th>\n",
       "      <td>Ram_Adhikari_X</td>\n",
       "      <td>online bookstore website react js node js mong...</td>\n",
       "      <td>0.521348</td>\n",
       "      <td>0.759593</td>\n",
       "      <td>0.423891</td>\n",
       "      <td>0.607536</td>\n",
       "    </tr>\n",
       "    <tr>\n",
       "      <th>1</th>\n",
       "      <td>Anil_Sharma_X</td>\n",
       "      <td>as an enthusiastic graduate with a degree in e...</td>\n",
       "      <td>0.153621</td>\n",
       "      <td>0.625444</td>\n",
       "      <td>0.423110</td>\n",
       "      <td>0.473155</td>\n",
       "    </tr>\n",
       "    <tr>\n",
       "      <th>8</th>\n",
       "      <td>John_Doe_i</td>\n",
       "      <td>resume worded co employee venture backed recru...</td>\n",
       "      <td>0.112674</td>\n",
       "      <td>0.716755</td>\n",
       "      <td>0.418000</td>\n",
       "      <td>0.513448</td>\n",
       "    </tr>\n",
       "    <tr>\n",
       "      <th>12</th>\n",
       "      <td>Sita_Karki_X</td>\n",
       "      <td>event planning app march nd year oop project d...</td>\n",
       "      <td>0.242503</td>\n",
       "      <td>0.650404</td>\n",
       "      <td>0.369315</td>\n",
       "      <td>0.415922</td>\n",
       "    </tr>\n",
       "    <tr>\n",
       "      <th>5</th>\n",
       "      <td>Jaydeep_ml</td>\n",
       "      <td>research intern iit indore biomedical signal p...</td>\n",
       "      <td>0.052488</td>\n",
       "      <td>0.650780</td>\n",
       "      <td>0.116934</td>\n",
       "      <td>0.149195</td>\n",
       "    </tr>\n",
       "  </tbody>\n",
       "</table>\n",
       "</div>"
      ],
      "text/plain": [
       "              Filename                                  clean_resume_text   \n",
       "6            Jeong_Kim  donationxchange web developer intern july curr...  \\\n",
       "2           Ayla_Stone  web developer fanatics current jacksonville fl...   \n",
       "13                  SP  highly motivated computer engineering student ...   \n",
       "9   Ramesh_Chaudhary_I  as an enthusiastic graduate with a degree in e...   \n",
       "10   Ramika_Shrestha_I  abc software solutions april october software ...   \n",
       "0            Albana_be  web developer icf current oklahoma city ok par...   \n",
       "7             John_Doe  junior web developer november present resume w...   \n",
       "3        Hari_Tamang_I  software intern xyz tech solutions pokhara kas...   \n",
       "4                Ilias  junior software developer revature llc current...   \n",
       "14   Winston_Rosenberg  web developer spherical june current new york ...   \n",
       "11      Ram_Adhikari_X  online bookstore website react js node js mong...   \n",
       "1        Anil_Sharma_X  as an enthusiastic graduate with a degree in e...   \n",
       "8           John_Doe_i  resume worded co employee venture backed recru...   \n",
       "12        Sita_Karki_X  event planning app march nd year oop project d...   \n",
       "5           Jaydeep_ml  research intern iit indore biomedical signal p...   \n",
       "\n",
       "    description_score  bert-base-nli-mean-tokens  all-MiniLM-L12-v2   \n",
       "6            0.421095                   0.716248           0.589314  \\\n",
       "2            0.128132                   0.742487           0.568949   \n",
       "13           0.124668                   0.707900           0.566015   \n",
       "9            0.353725                   0.756043           0.559163   \n",
       "10           0.357353                   0.699788           0.528207   \n",
       "0            0.237370                   0.728357           0.519924   \n",
       "7            0.162601                   0.573142           0.513866   \n",
       "3            0.448095                   0.792409           0.491800   \n",
       "4            0.211623                   0.784552           0.461769   \n",
       "14           0.047939                   0.578164           0.457228   \n",
       "11           0.521348                   0.759593           0.423891   \n",
       "1            0.153621                   0.625444           0.423110   \n",
       "8            0.112674                   0.716755           0.418000   \n",
       "12           0.242503                   0.650404           0.369315   \n",
       "5            0.052488                   0.650780           0.116934   \n",
       "\n",
       "    all-MiniLM-L6-v2  \n",
       "6           0.460648  \n",
       "2           0.599610  \n",
       "13          0.592004  \n",
       "9           0.650750  \n",
       "10          0.656318  \n",
       "0           0.526595  \n",
       "7           0.497283  \n",
       "3           0.663699  \n",
       "4           0.445097  \n",
       "14          0.420642  \n",
       "11          0.607536  \n",
       "1           0.473155  \n",
       "8           0.513448  \n",
       "12          0.415922  \n",
       "5           0.149195  "
      ]
     },
     "execution_count": 19,
     "metadata": {},
     "output_type": "execute_result"
    }
   ],
   "source": [
    "df_resume[['Filename', 'clean_resume_text', 'description_score', 'bert-base-nli-mean-tokens', 'all-MiniLM-L12-v2', 'all-MiniLM-L6-v2']].sort_values(by='all-MiniLM-L12-v2', ascending=False)"
   ]
  },
  {
   "cell_type": "markdown",
   "metadata": {},
   "source": [
    "## Visualization"
   ]
  },
  {
   "cell_type": "code",
   "execution_count": 20,
   "metadata": {},
   "outputs": [],
   "source": [
    "import matplotlib.pyplot as plt\n",
    "import seaborn as sns"
   ]
  },
  {
   "cell_type": "code",
   "execution_count": 21,
   "metadata": {},
   "outputs": [
    {
     "data": {
      "image/png": "[encoded data removed]",
      "text/plain": [
       "<Figure size 1400x600 with 1 Axes>"
      ]
     },
     "metadata": {},
     "output_type": "display_data"
    }
   ],
   "source": [
    "def visualize_scores(df):\n",
    "    plt.figure(figsize=(14, 6))\n",
    "    ax = sns.barplot(x=\"Filename\", y=\"all-MiniLM-L12-v2\", data=df.sort_values(by='all-MiniLM-L12-v2', ascending=False))\n",
    "    for p in ax.patches:\n",
    "        ax.annotate(f'{int(p.get_height()*100)}', (p.get_x()*1.01, p.get_height()*1.01))\n",
    "    plt.xticks(rotation=90)\n",
    "    plt.title(\"Total Scores by Resume\")\n",
    "    plt.show()\n",
    "\n",
    "visualize_scores(df_resume)"
   ]
  }
 ],
 "metadata": {
  "kernelspec": {
   "display_name": "Python 3",
   "language": "python",
   "name": "python3"
  },
  "language_info": {
   "codemirror_mode": {
    "name": "ipython",
    "version": 3
   },
   "file_extension": ".py",
   "mimetype": "text/x-python",
   "name": "python",
   "nbconvert_exporter": "python",
   "pygments_lexer": "ipython3",
   "version": "3.11.0"
  }
 },
 "nbformat": 4,
 "nbformat_minor": 2
}
