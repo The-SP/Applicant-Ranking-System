{
 "cells": [
  {
   "cell_type": "markdown",
   "metadata": {},
   "source": [
    "# Resume Parsing"
   ]
  },
  {
   "cell_type": "code",
   "execution_count": 1,
   "metadata": {},
   "outputs": [],
   "source": [
    "import fitz\n",
    "\n",
    "PDF_PATH = 'resumes/latex/plushcv.pdf'"
   ]
  },
  {
   "cell_type": "markdown",
   "metadata": {},
   "source": [
    "## Group Text into sections\n",
    "To determine a section title, check if it fulfills all 3 following conditions:\n",
    "1. It is the only text item in the line\n",
    "2. It is bolded\n",
    "3. Its letters are all UPPERCASE  \n",
    "OR,\n",
    "- Perform a keyword matching against a list of common resume section title keywords."
   ]
  },
  {
   "cell_type": "code",
   "execution_count": 2,
   "metadata": {},
   "outputs": [
    {
     "name": "stdout",
     "output_type": "stream",
     "text": [
      "Potential Section Titles \n",
      " ['WEYLAND YUTANI INDUSTRIES', 'TESSIER‑ASHPOOLE S.A.', 'LEXCORP', 'CHESS ENGINE', 'SPEECH‑ENABLED CHATBOT', 'PROGRAMMING', 'LIBRARIES/FRAMEWORKS', 'TOOLS/PLATFORMS', 'UNIVERSITY OF UTAH', 'UNIVERSITY OF OREGON', 'REFERENCES']\n"
     ]
    }
   ],
   "source": [
    "\n",
    "# Initialize an empty dictionary to hold the sections\n",
    "sections = {}\n",
    "current_section = None\n",
    "\n",
    "# Define a dictionary of common resume section titles and their associated keywords\n",
    "section_keywords = {\n",
    "    \"PROFILE\": [\n",
    "        \"PROFILE\",\n",
    "        \"SUMMARY\",\n",
    "        \"ABOUT ME\",\n",
    "        \"PERSONAL PROFILE\",\n",
    "        \"PERSONAL SUMMARY\",\n",
    "    ],\n",
    "    \"EXPERIENCE\": [\n",
    "        \"EXPERIENCE\",\n",
    "        \"WORK EXPERIENCE\",\n",
    "        \"PROFESSIONAL EXPERIENCE\",\n",
    "        \"RELEVANT WORK EXPERIENCE\",\n",
    "        \"JOB HISTORY\",\n",
    "        \"EMPLOYMENT HISTORY\",\n",
    "    ],\n",
    "    \"EDUCATION\": [\"EDUCATION\", \"EDUCATIONAL BACKGROUND\", \"ACADEMIC HISTORY\"],\n",
    "    \"SKILLS\": [\n",
    "        \"SKILLS\",\n",
    "        \"TECHNICAL SKILLS\",\n",
    "        \"PROGRAMMING SKILLS\",\n",
    "        \"ABILITIES\",\n",
    "        \"COMPETENCIES\",\n",
    "        \"EXPERTISE\",\n",
    "    ],\n",
    "    \"PROJECTS\": [\"PROJECTS\", \"PORTFOLIO\"],\n",
    "    \"CERTIFICATIONS\": [\"CERTIFICATIONS\", \"CREDENTIALS\", \"ACCREDITATIONS\"],\n",
    "    \"AWARDS\": [\"AWARDS\", \"HONORS\", \"ACHIEVEMENTS\"],\n",
    "    \"INTERESTS\": [\"INTERESTS\", \"HOBBIES\", \"ACTIVITIES\"],\n",
    "}\n",
    "\n",
    "# Create a list of all keywords from the section_keywords dictionary\n",
    "keywords = [\n",
    "    keyword for keyword_list in section_keywords.values() for keyword in keyword_list\n",
    "]\n",
    "\n",
    "potential_section_titles = []\n",
    "\n",
    "def extract_sections_from_pdf(pdf_path, keywords):\n",
    "    # Open the PDF file\n",
    "    doc = fitz.open(pdf_path)\n",
    "\n",
    "    # Initialize an empty dictionary to hold the sections\n",
    "    sections = {}\n",
    "    current_section = None\n",
    "\n",
    "    # Loop over each page in the document\n",
    "    for page in doc:\n",
    "        # Extract the text as a dictionary\n",
    "        blocks = page.get_text(\"dict\")[\"blocks\"]\n",
    "\n",
    "        for b in blocks:  # iterate through the text blocks\n",
    "            if \"lines\" in b:\n",
    "                for l in b[\"lines\"]:  # iterate through the text lines\n",
    "                    for s in l[\"spans\"]:  # iterate through the text spans\n",
    "                        # check if the text is bold and uppercase\n",
    "                        if s[\"flags\"] == 20 and s[\"text\"].isupper():\n",
    "                            \"\"\"\n",
    "                            This is to identify different new keywords that could be used as section titles by various resumes\n",
    "                            \"\"\"\n",
    "                            if s[\"text\"] not in keywords:\n",
    "                                potential_section_titles.append(s[\"text\"])\n",
    "                            # # This is a section title, so start a new section\n",
    "                            # current_section = s[\"text\"]\n",
    "                            # sections[current_section] = \"\"                        \n",
    "\n",
    "                        if any(keyword == s[\"text\"].strip().upper() for keyword in keywords):\n",
    "                            # The text contains a keyword, so start a new section\n",
    "                            current_section = s[\"text\"].strip().upper()\n",
    "                            sections[current_section] = \"\"\n",
    "                        elif current_section is not None:\n",
    "                            # This is not a section title, so append it to the current section\n",
    "                            sections[current_section] += s[\"text\"] + \" \"\n",
    "\n",
    "    return sections\n",
    "\n",
    "sections = extract_sections_from_pdf(PDF_PATH, keywords)\n",
    "\n",
    "print('Potential Section Titles \\n', potential_section_titles)"
   ]
  },
  {
   "cell_type": "markdown",
   "metadata": {},
   "source": [
    "**Display the extracted sections**"
   ]
  },
  {
   "cell_type": "code",
   "execution_count": 3,
   "metadata": {},
   "outputs": [
    {
     "name": "stdout",
     "output_type": "stream",
     "text": [
      "EXPERIENCE\n",
      "WEYLAND YUTANI INDUSTRIES  | PROGRAM MANAGER May 2021 – Current | Tokyo, Japan    Lorem ipsum dolor\n",
      "sit amet, consectetur adipiscing elit. Proin ullamcorper venenatis nisi at suscipit. Vestibulum vel\n",
      "odio in diam ultrices posuere. Cras suscipit faucibus ullamcorper.    Ut consectetur tempus\n",
      "tincidunt. Curabitur in felis et leo elementum facilisis at non metus. Vestibulum et ullamcorper\n",
      "augue, nec accumsan tellus.    Cras posuere in nunc vel sagittis. Aliquam aliquet non orci id\n",
      "pellentesque. Nul\n",
      "----------------------------------------------------------------------------------------------------\n",
      "PROJECTS\n",
      "CHESS ENGINE  | C++ 2018    Lorem ipsum dolor sit amet, consectetur adipiscing elit. Proin\n",
      "ullamcorper venenatis nisi at suscipit. Vestibulum vel odio in diam ultrices posuere. Cras suscipit\n",
      "faucibus ullamcorper.    Lorem ipsum dolor sit amet, consectetur adipiscing elit. Proin ullamcorper\n",
      "venenatis nisi at suscipit. SPEECH‑ENABLED CHATBOT  | C#, MICROSOFT BOT FRAMEWORK 2018    Lorem\n",
      "ipsum dolor sit amet, consectetur adipiscing elit. Proin ullamcorper venenatis nisi at suscipit.\n",
      "Vestibulum vel o\n",
      "----------------------------------------------------------------------------------------------------\n",
      "SKILLS\n",
      "PROGRAMMING Proficient: C# • C • JavaScript • Python SQL • CSS • HTML • Experienced: Python • LATEX\n",
      "• C++ Familiar: Java • Shell • Assembly LIBRARIES/FRAMEWORKS jQuery • Node.js • Jekyll • React\n",
      "TOOLS/PLATFORMS Git • Gulp • Webpack • Heroku Wordpress • Docker\n",
      "----------------------------------------------------------------------------------------------------\n",
      "EDUCATION\n",
      "UNIVERSITY OF UTAH MASTER'S IN COMPUTER SCIENCE Jan 2021 ‑ Present | SLC, Utah School of Computing\n",
      "Cum. GPA: 3.85 / 4.0 UNIVERSITY OF OREGON BACHELOR'S IN COMPUTER SCIENCE AND ENGINEERING May 2016 |\n",
      "Corvallis, OR School of Computing Cum. GPA: 3.7 / 4.0 REFERENCES John Doe , Senior Software\n",
      "Developer, Tyrell Corp john.doe@email.com +19999999999 Jane Doe , Senior Software Developer,\n",
      "Primatech jane.doe@email.com +19999999999\n",
      "----------------------------------------------------------------------------------------------------\n"
     ]
    }
   ],
   "source": [
    "import textwrap\n",
    "\n",
    "for section, content in sections.items():\n",
    "    print(section)\n",
    "    wrapped_content = textwrap.fill(content, width=100)  # wraps the text at 50 characters\n",
    "    print(wrapped_content[:500])\n",
    "    print(\"-\"*100)  # prints a line for separation"
   ]
  },
  {
   "cell_type": "markdown",
   "metadata": {},
   "source": [
    "### NER"
   ]
  },
  {
   "cell_type": "code",
   "execution_count": 4,
   "metadata": {},
   "outputs": [
    {
     "data": {
      "text/html": [
       "<span class=\"tex2jax_ignore\"><div class=\"entities\" style=\"line-height: 2.5; direction: ltr\">\n",
       "<mark class=\"entity\" style=\"background: #7aecec; padding: 0.45em 0.6em; margin: 0 0.25em; line-height: 1; border-radius: 0.35em;\">\n",
       "    UNIVERSITY OF UTAH MASTER'S\n",
       "    <span style=\"font-size: 0.8em; font-weight: bold; line-height: 1; border-radius: 0.35em; vertical-align: middle; margin-left: 0.5rem\">ORG</span>\n",
       "</mark>\n",
       " IN COMPUTER SCIENCE \n",
       "<mark class=\"entity\" style=\"background: #bfe1d9; padding: 0.45em 0.6em; margin: 0 0.25em; line-height: 1; border-radius: 0.35em;\">\n",
       "    Jan 2021\n",
       "    <span style=\"font-size: 0.8em; font-weight: bold; line-height: 1; border-radius: 0.35em; vertical-align: middle; margin-left: 0.5rem\">DATE</span>\n",
       "</mark>\n",
       " ‑ Present | \n",
       "<mark class=\"entity\" style=\"background: #7aecec; padding: 0.45em 0.6em; margin: 0 0.25em; line-height: 1; border-radius: 0.35em;\">\n",
       "    SLC\n",
       "    <span style=\"font-size: 0.8em; font-weight: bold; line-height: 1; border-radius: 0.35em; vertical-align: middle; margin-left: 0.5rem\">ORG</span>\n",
       "</mark>\n",
       ", \n",
       "<mark class=\"entity\" style=\"background: #7aecec; padding: 0.45em 0.6em; margin: 0 0.25em; line-height: 1; border-radius: 0.35em;\">\n",
       "    Utah School of Computing Cum\n",
       "    <span style=\"font-size: 0.8em; font-weight: bold; line-height: 1; border-radius: 0.35em; vertical-align: middle; margin-left: 0.5rem\">ORG</span>\n",
       "</mark>\n",
       ". \n",
       "<mark class=\"entity\" style=\"background: #7aecec; padding: 0.45em 0.6em; margin: 0 0.25em; line-height: 1; border-radius: 0.35em;\">\n",
       "    GPA\n",
       "    <span style=\"font-size: 0.8em; font-weight: bold; line-height: 1; border-radius: 0.35em; vertical-align: middle; margin-left: 0.5rem\">ORG</span>\n",
       "</mark>\n",
       ": \n",
       "<mark class=\"entity\" style=\"background: #e4e7d2; padding: 0.45em 0.6em; margin: 0 0.25em; line-height: 1; border-radius: 0.35em;\">\n",
       "    3.85 / 4.0 UNIVERSITY OF OREGON BACHELOR'S\n",
       "    <span style=\"font-size: 0.8em; font-weight: bold; line-height: 1; border-radius: 0.35em; vertical-align: middle; margin-left: 0.5rem\">MONEY</span>\n",
       "</mark>\n",
       " IN COMPUTER SCIENCE AND ENGINEERING \n",
       "<mark class=\"entity\" style=\"background: #bfe1d9; padding: 0.45em 0.6em; margin: 0 0.25em; line-height: 1; border-radius: 0.35em;\">\n",
       "    May 2016\n",
       "    <span style=\"font-size: 0.8em; font-weight: bold; line-height: 1; border-radius: 0.35em; vertical-align: middle; margin-left: 0.5rem\">DATE</span>\n",
       "</mark>\n",
       " | \n",
       "<mark class=\"entity\" style=\"background: #aa9cfc; padding: 0.45em 0.6em; margin: 0 0.25em; line-height: 1; border-radius: 0.35em;\">\n",
       "    Corvallis\n",
       "    <span style=\"font-size: 0.8em; font-weight: bold; line-height: 1; border-radius: 0.35em; vertical-align: middle; margin-left: 0.5rem\">PERSON</span>\n",
       "</mark>\n",
       ", OR \n",
       "<mark class=\"entity\" style=\"background: #7aecec; padding: 0.45em 0.6em; margin: 0 0.25em; line-height: 1; border-radius: 0.35em;\">\n",
       "    School of Computing Cum\n",
       "    <span style=\"font-size: 0.8em; font-weight: bold; line-height: 1; border-radius: 0.35em; vertical-align: middle; margin-left: 0.5rem\">ORG</span>\n",
       "</mark>\n",
       ". \n",
       "<mark class=\"entity\" style=\"background: #7aecec; padding: 0.45em 0.6em; margin: 0 0.25em; line-height: 1; border-radius: 0.35em;\">\n",
       "    GPA\n",
       "    <span style=\"font-size: 0.8em; font-weight: bold; line-height: 1; border-radius: 0.35em; vertical-align: middle; margin-left: 0.5rem\">ORG</span>\n",
       "</mark>\n",
       ": \n",
       "<mark class=\"entity\" style=\"background: #e4e7d2; padding: 0.45em 0.6em; margin: 0 0.25em; line-height: 1; border-radius: 0.35em;\">\n",
       "    3.7\n",
       "    <span style=\"font-size: 0.8em; font-weight: bold; line-height: 1; border-radius: 0.35em; vertical-align: middle; margin-left: 0.5rem\">CARDINAL</span>\n",
       "</mark>\n",
       " / 4.0 REFERENCES \n",
       "<mark class=\"entity\" style=\"background: #aa9cfc; padding: 0.45em 0.6em; margin: 0 0.25em; line-height: 1; border-radius: 0.35em;\">\n",
       "    John Doe\n",
       "    <span style=\"font-size: 0.8em; font-weight: bold; line-height: 1; border-radius: 0.35em; vertical-align: middle; margin-left: 0.5rem\">PERSON</span>\n",
       "</mark>\n",
       " , Senior Software Developer, \n",
       "<mark class=\"entity\" style=\"background: #7aecec; padding: 0.45em 0.6em; margin: 0 0.25em; line-height: 1; border-radius: 0.35em;\">\n",
       "    Tyrell Corp\n",
       "    <span style=\"font-size: 0.8em; font-weight: bold; line-height: 1; border-radius: 0.35em; vertical-align: middle; margin-left: 0.5rem\">ORG</span>\n",
       "</mark>\n",
       " john.doe@email.com +19999999999 \n",
       "<mark class=\"entity\" style=\"background: #aa9cfc; padding: 0.45em 0.6em; margin: 0 0.25em; line-height: 1; border-radius: 0.35em;\">\n",
       "    Jane Doe\n",
       "    <span style=\"font-size: 0.8em; font-weight: bold; line-height: 1; border-radius: 0.35em; vertical-align: middle; margin-left: 0.5rem\">PERSON</span>\n",
       "</mark>\n",
       " , Senior Software Developer, \n",
       "<mark class=\"entity\" style=\"background: #c887fb; padding: 0.45em 0.6em; margin: 0 0.25em; line-height: 1; border-radius: 0.35em;\">\n",
       "    Primatech\n",
       "    <span style=\"font-size: 0.8em; font-weight: bold; line-height: 1; border-radius: 0.35em; vertical-align: middle; margin-left: 0.5rem\">NORP</span>\n",
       "</mark>\n",
       " jane.doe@email.com +19999999999 </div></span>"
      ],
      "text/plain": [
       "<IPython.core.display.HTML object>"
      ]
     },
     "metadata": {},
     "output_type": "display_data"
    }
   ],
   "source": [
    "import spacy\n",
    "from spacy import displacy\n",
    "\n",
    "nlp = spacy.load(\"en_core_web_sm\")\n",
    "doc = nlp(sections['EDUCATION'])\n",
    "\n",
    "# Use 'ent' as the style for entity visualization\n",
    "displacy.render(doc, style='ent')"
   ]
  },
  {
   "cell_type": "markdown",
   "metadata": {},
   "source": [
    "## Identify Degree and Major in Education"
   ]
  },
  {
   "cell_type": "markdown",
   "metadata": {},
   "source": [
    "Our system uses spacy library to extract information (degree and major) from Education. We prepared a dictionary that has all education degrees and majors related to computer engineering field. We fed that dictionary to the Spacy rule-based EntityRuler in order to detect and recognize entities in our job description."
   ]
  },
  {
   "cell_type": "code",
   "execution_count": 5,
   "metadata": {},
   "outputs": [],
   "source": [
    "def match_degrees_by_spacy(nlp):\n",
    "    doc = nlp(sections['EDUCATION'])\n",
    "    degree_levels = []\n",
    "    for ent in doc.ents:\n",
    "        labels_parts = ent.label_.split('|')\n",
    "        if labels_parts[0] == 'DEGREE':\n",
    "            print((ent.text, ent.label_))\n",
    "            if labels_parts[1] not in degree_levels:\n",
    "                degree_levels.append(labels_parts[1])\n",
    "    return degree_levels\n",
    "\n",
    "\n",
    "def match_majors_by_spacy(nlp):\n",
    "    doc = nlp(sections['EDUCATION'])\n",
    "\n",
    "    displacy.render(doc, style='ent')\n",
    "\n",
    "    acceptable_majors = []\n",
    "    for ent in doc.ents:\n",
    "        labels_parts = ent.label_.split('|')\n",
    "        if labels_parts[0] == 'MAJOR':\n",
    "            if labels_parts[2].replace('-', ' ') not in acceptable_majors:\n",
    "                acceptable_majors.append(labels_parts[2].replace('-', ' '))\n",
    "            if labels_parts[2].replace('-', ' ') not in acceptable_majors:\n",
    "                acceptable_majors.append(labels_parts[2].replace('-', ' '))\n",
    "    return acceptable_majors"
   ]
  },
  {
   "cell_type": "code",
   "execution_count": 6,
   "metadata": {},
   "outputs": [
    {
     "data": {
      "text/plain": [
       "<spacy.pipeline.entityruler.EntityRuler at 0x18c53788ad0>"
      ]
     },
     "execution_count": 6,
     "metadata": {},
     "output_type": "execute_result"
    }
   ],
   "source": [
    "nlp = spacy.load(\"en_core_web_sm\")\n",
    "# Add the pattern to the matcher\n",
    "patterns_path = 'degrees_majors.jsonl'\n",
    "ruler = nlp.add_pipe(\"entity_ruler\", before='ner')\n",
    "ruler.from_disk(patterns_path)"
   ]
  },
  {
   "cell_type": "code",
   "execution_count": 7,
   "metadata": {},
   "outputs": [
    {
     "name": "stdout",
     "output_type": "stream",
     "text": [
      "('UNIVERSITY', 'DEGREE|BACHELOR')\n",
      "('MASTER', 'DEGREE|MASTER')\n",
      "('UNIVERSITY', 'DEGREE|BACHELOR')\n",
      "('BACHELOR', 'DEGREE|BACHELOR')\n"
     ]
    },
    {
     "data": {
      "text/plain": [
       "['BACHELOR', 'MASTER']"
      ]
     },
     "execution_count": 7,
     "metadata": {},
     "output_type": "execute_result"
    }
   ],
   "source": [
    "match_degrees_by_spacy(nlp)"
   ]
  },
  {
   "cell_type": "code",
   "execution_count": 8,
   "metadata": {},
   "outputs": [
    {
     "data": {
      "text/html": [
       "<span class=\"tex2jax_ignore\"><div class=\"entities\" style=\"line-height: 2.5; direction: ltr\">\n",
       "<mark class=\"entity\" style=\"background: #ddd; padding: 0.45em 0.6em; margin: 0 0.25em; line-height: 1; border-radius: 0.35em;\">\n",
       "    UNIVERSITY\n",
       "    <span style=\"font-size: 0.8em; font-weight: bold; line-height: 1; border-radius: 0.35em; vertical-align: middle; margin-left: 0.5rem\">DEGREE|BACHELOR</span>\n",
       "</mark>\n",
       " OF UTAH \n",
       "<mark class=\"entity\" style=\"background: #ddd; padding: 0.45em 0.6em; margin: 0 0.25em; line-height: 1; border-radius: 0.35em;\">\n",
       "    MASTER\n",
       "    <span style=\"font-size: 0.8em; font-weight: bold; line-height: 1; border-radius: 0.35em; vertical-align: middle; margin-left: 0.5rem\">DEGREE|MASTER</span>\n",
       "</mark>\n",
       "'S IN \n",
       "<mark class=\"entity\" style=\"background: #ddd; padding: 0.45em 0.6em; margin: 0 0.25em; line-height: 1; border-radius: 0.35em;\">\n",
       "    COMPUTER SCIENCE\n",
       "    <span style=\"font-size: 0.8em; font-weight: bold; line-height: 1; border-radius: 0.35em; vertical-align: middle; margin-left: 0.5rem\">MAJOR|DEV MAJOR|computer-science</span>\n",
       "</mark>\n",
       " \n",
       "<mark class=\"entity\" style=\"background: #bfe1d9; padding: 0.45em 0.6em; margin: 0 0.25em; line-height: 1; border-radius: 0.35em;\">\n",
       "    Jan 2021\n",
       "    <span style=\"font-size: 0.8em; font-weight: bold; line-height: 1; border-radius: 0.35em; vertical-align: middle; margin-left: 0.5rem\">DATE</span>\n",
       "</mark>\n",
       " ‑ Present | \n",
       "<mark class=\"entity\" style=\"background: #7aecec; padding: 0.45em 0.6em; margin: 0 0.25em; line-height: 1; border-radius: 0.35em;\">\n",
       "    SLC\n",
       "    <span style=\"font-size: 0.8em; font-weight: bold; line-height: 1; border-radius: 0.35em; vertical-align: middle; margin-left: 0.5rem\">ORG</span>\n",
       "</mark>\n",
       ", \n",
       "<mark class=\"entity\" style=\"background: #7aecec; padding: 0.45em 0.6em; margin: 0 0.25em; line-height: 1; border-radius: 0.35em;\">\n",
       "    Utah School of Computing Cum\n",
       "    <span style=\"font-size: 0.8em; font-weight: bold; line-height: 1; border-radius: 0.35em; vertical-align: middle; margin-left: 0.5rem\">ORG</span>\n",
       "</mark>\n",
       ". \n",
       "<mark class=\"entity\" style=\"background: #7aecec; padding: 0.45em 0.6em; margin: 0 0.25em; line-height: 1; border-radius: 0.35em;\">\n",
       "    GPA\n",
       "    <span style=\"font-size: 0.8em; font-weight: bold; line-height: 1; border-radius: 0.35em; vertical-align: middle; margin-left: 0.5rem\">ORG</span>\n",
       "</mark>\n",
       ": \n",
       "<mark class=\"entity\" style=\"background: #e4e7d2; padding: 0.45em 0.6em; margin: 0 0.25em; line-height: 1; border-radius: 0.35em;\">\n",
       "    3.85 / 4.0\n",
       "    <span style=\"font-size: 0.8em; font-weight: bold; line-height: 1; border-radius: 0.35em; vertical-align: middle; margin-left: 0.5rem\">MONEY</span>\n",
       "</mark>\n",
       " \n",
       "<mark class=\"entity\" style=\"background: #ddd; padding: 0.45em 0.6em; margin: 0 0.25em; line-height: 1; border-radius: 0.35em;\">\n",
       "    UNIVERSITY\n",
       "    <span style=\"font-size: 0.8em; font-weight: bold; line-height: 1; border-radius: 0.35em; vertical-align: middle; margin-left: 0.5rem\">DEGREE|BACHELOR</span>\n",
       "</mark>\n",
       " OF OREGON \n",
       "<mark class=\"entity\" style=\"background: #ddd; padding: 0.45em 0.6em; margin: 0 0.25em; line-height: 1; border-radius: 0.35em;\">\n",
       "    BACHELOR\n",
       "    <span style=\"font-size: 0.8em; font-weight: bold; line-height: 1; border-radius: 0.35em; vertical-align: middle; margin-left: 0.5rem\">DEGREE|BACHELOR</span>\n",
       "</mark>\n",
       "'S IN \n",
       "<mark class=\"entity\" style=\"background: #ddd; padding: 0.45em 0.6em; margin: 0 0.25em; line-height: 1; border-radius: 0.35em;\">\n",
       "    COMPUTER SCIENCE\n",
       "    <span style=\"font-size: 0.8em; font-weight: bold; line-height: 1; border-radius: 0.35em; vertical-align: middle; margin-left: 0.5rem\">MAJOR|DEV MAJOR|computer-science</span>\n",
       "</mark>\n",
       " AND ENGINEERING \n",
       "<mark class=\"entity\" style=\"background: #bfe1d9; padding: 0.45em 0.6em; margin: 0 0.25em; line-height: 1; border-radius: 0.35em;\">\n",
       "    May 2016\n",
       "    <span style=\"font-size: 0.8em; font-weight: bold; line-height: 1; border-radius: 0.35em; vertical-align: middle; margin-left: 0.5rem\">DATE</span>\n",
       "</mark>\n",
       " | \n",
       "<mark class=\"entity\" style=\"background: #aa9cfc; padding: 0.45em 0.6em; margin: 0 0.25em; line-height: 1; border-radius: 0.35em;\">\n",
       "    Corvallis\n",
       "    <span style=\"font-size: 0.8em; font-weight: bold; line-height: 1; border-radius: 0.35em; vertical-align: middle; margin-left: 0.5rem\">PERSON</span>\n",
       "</mark>\n",
       ", OR \n",
       "<mark class=\"entity\" style=\"background: #7aecec; padding: 0.45em 0.6em; margin: 0 0.25em; line-height: 1; border-radius: 0.35em;\">\n",
       "    School of Computing Cum\n",
       "    <span style=\"font-size: 0.8em; font-weight: bold; line-height: 1; border-radius: 0.35em; vertical-align: middle; margin-left: 0.5rem\">ORG</span>\n",
       "</mark>\n",
       ". \n",
       "<mark class=\"entity\" style=\"background: #7aecec; padding: 0.45em 0.6em; margin: 0 0.25em; line-height: 1; border-radius: 0.35em;\">\n",
       "    GPA\n",
       "    <span style=\"font-size: 0.8em; font-weight: bold; line-height: 1; border-radius: 0.35em; vertical-align: middle; margin-left: 0.5rem\">ORG</span>\n",
       "</mark>\n",
       ": \n",
       "<mark class=\"entity\" style=\"background: #e4e7d2; padding: 0.45em 0.6em; margin: 0 0.25em; line-height: 1; border-radius: 0.35em;\">\n",
       "    3.7\n",
       "    <span style=\"font-size: 0.8em; font-weight: bold; line-height: 1; border-radius: 0.35em; vertical-align: middle; margin-left: 0.5rem\">CARDINAL</span>\n",
       "</mark>\n",
       " / 4.0 REFERENCES \n",
       "<mark class=\"entity\" style=\"background: #aa9cfc; padding: 0.45em 0.6em; margin: 0 0.25em; line-height: 1; border-radius: 0.35em;\">\n",
       "    John Doe\n",
       "    <span style=\"font-size: 0.8em; font-weight: bold; line-height: 1; border-radius: 0.35em; vertical-align: middle; margin-left: 0.5rem\">PERSON</span>\n",
       "</mark>\n",
       " , Senior Software Developer, \n",
       "<mark class=\"entity\" style=\"background: #7aecec; padding: 0.45em 0.6em; margin: 0 0.25em; line-height: 1; border-radius: 0.35em;\">\n",
       "    Tyrell Corp\n",
       "    <span style=\"font-size: 0.8em; font-weight: bold; line-height: 1; border-radius: 0.35em; vertical-align: middle; margin-left: 0.5rem\">ORG</span>\n",
       "</mark>\n",
       " john.doe@email.com +19999999999 \n",
       "<mark class=\"entity\" style=\"background: #aa9cfc; padding: 0.45em 0.6em; margin: 0 0.25em; line-height: 1; border-radius: 0.35em;\">\n",
       "    Jane Doe\n",
       "    <span style=\"font-size: 0.8em; font-weight: bold; line-height: 1; border-radius: 0.35em; vertical-align: middle; margin-left: 0.5rem\">PERSON</span>\n",
       "</mark>\n",
       " , Senior Software Developer, \n",
       "<mark class=\"entity\" style=\"background: #c887fb; padding: 0.45em 0.6em; margin: 0 0.25em; line-height: 1; border-radius: 0.35em;\">\n",
       "    Primatech\n",
       "    <span style=\"font-size: 0.8em; font-weight: bold; line-height: 1; border-radius: 0.35em; vertical-align: middle; margin-left: 0.5rem\">NORP</span>\n",
       "</mark>\n",
       " jane.doe@email.com +19999999999 </div></span>"
      ],
      "text/plain": [
       "<IPython.core.display.HTML object>"
      ]
     },
     "metadata": {},
     "output_type": "display_data"
    },
    {
     "data": {
      "text/plain": [
       "['computer science']"
      ]
     },
     "execution_count": 8,
     "metadata": {},
     "output_type": "execute_result"
    }
   ],
   "source": [
    "match_majors_by_spacy(nlp)"
   ]
  },
  {
   "cell_type": "markdown",
   "metadata": {},
   "source": [
    "## Extract Dates"
   ]
  },
  {
   "cell_type": "markdown",
   "metadata": {},
   "source": [
    "We need to extract the dates under EXPERIENCE section. Then calculate the total years of experience from it."
   ]
  },
  {
   "cell_type": "code",
   "execution_count": 9,
   "metadata": {},
   "outputs": [],
   "source": [
    "text_with_dates = '''\n",
    "I was employed at Company D from 05/2015 - 06/2017.\n",
    "I worked on a project from 01/2021 - Present.\n",
    "I worked on a project from Jan 2022 - Present.\n",
    "Then, I joined Company B in March 2018 - Present.  \n",
    "I was part of Company F from Feb 2010 - Jan 2013.\n",
    "I worked at Company A from January 2011 - February 2012. \n",
    "I was part of a project from 10/2019 - 07/2021. \n",
    "I worked at Company A from January 2011 to February 2012. \n",
    "I was part of a project from 2021 - 2023. \n",
    "My time at Company E spanned from 2020 - current.\n",
    "My time at Company E spanned from Jan 2020 - current. \n",
    "\n",
    "Jun 2018 – Present. (This is En-dash '–' not Hyphen '-')\n",
    "Feb 2020 — Present. (Em-dash)\n",
    "\n",
    "June 2018 - January 2020 / Pittsburgh\n",
    "Web Developer Fanatics 2020 - current Jacksonville\n",
    "Web Designer Magic Leap 2018 - 2020\n",
    "Junior Web Developer HSN 2016 - 2018 Saint Petersburg\n",
    "\n",
    "2020-2023\n",
    "2017-2019\n",
    "Jun 2016 – Sep 2016\n",
    "Jun 2016 – Jan 2017\n",
    "'''"
   ]
  },
  {
   "cell_type": "markdown",
   "metadata": {},
   "source": [
    "**En-dash '–' and Hyphen '-'**\n",
    "- In some resumes, date formats use En-dash '–', e.g. Jun 2018 – Present. But, space can't detect these as Date.\n",
    "- So, replace En-dash '–' with Hyphen '-' before NER."
   ]
  },
  {
   "cell_type": "code",
   "execution_count": 10,
   "metadata": {},
   "outputs": [],
   "source": [
    "text_with_dates = text_with_dates.replace('–', '-')"
   ]
  },
  {
   "cell_type": "code",
   "execution_count": 16,
   "metadata": {},
   "outputs": [
    {
     "data": {
      "text/html": [
       "<span class=\"tex2jax_ignore\"><div class=\"entities\" style=\"line-height: 2.5; direction: ltr\"><br>I was employed at Company D from \n",
       "<mark class=\"entity\" style=\"background: #bfe1d9; padding: 0.45em 0.6em; margin: 0 0.25em; line-height: 1; border-radius: 0.35em;\">\n",
       "    05/2015 - 06/2017\n",
       "    <span style=\"font-size: 0.8em; font-weight: bold; line-height: 1; border-radius: 0.35em; vertical-align: middle; margin-left: 0.5rem\">DATE</span>\n",
       "</mark>\n",
       ".<br>I worked on a project from \n",
       "<mark class=\"entity\" style=\"background: #bfe1d9; padding: 0.45em 0.6em; margin: 0 0.25em; line-height: 1; border-radius: 0.35em;\">\n",
       "    01/2021 - Present\n",
       "    <span style=\"font-size: 0.8em; font-weight: bold; line-height: 1; border-radius: 0.35em; vertical-align: middle; margin-left: 0.5rem\">DATE</span>\n",
       "</mark>\n",
       ".<br>I worked on a project from \n",
       "<mark class=\"entity\" style=\"background: #bfe1d9; padding: 0.45em 0.6em; margin: 0 0.25em; line-height: 1; border-radius: 0.35em;\">\n",
       "    Jan 2022 - Present\n",
       "    <span style=\"font-size: 0.8em; font-weight: bold; line-height: 1; border-radius: 0.35em; vertical-align: middle; margin-left: 0.5rem\">DATE</span>\n",
       "</mark>\n",
       ".<br>Then, I joined Company B in \n",
       "<mark class=\"entity\" style=\"background: #bfe1d9; padding: 0.45em 0.6em; margin: 0 0.25em; line-height: 1; border-radius: 0.35em;\">\n",
       "    March 2018 - Present\n",
       "    <span style=\"font-size: 0.8em; font-weight: bold; line-height: 1; border-radius: 0.35em; vertical-align: middle; margin-left: 0.5rem\">DATE</span>\n",
       "</mark>\n",
       ".  <br>I was part of Company F from \n",
       "<mark class=\"entity\" style=\"background: #bfe1d9; padding: 0.45em 0.6em; margin: 0 0.25em; line-height: 1; border-radius: 0.35em;\">\n",
       "    Feb 2010 - Jan 2013\n",
       "    <span style=\"font-size: 0.8em; font-weight: bold; line-height: 1; border-radius: 0.35em; vertical-align: middle; margin-left: 0.5rem\">DATE</span>\n",
       "</mark>\n",
       ".<br>I worked at Company A from \n",
       "<mark class=\"entity\" style=\"background: #bfe1d9; padding: 0.45em 0.6em; margin: 0 0.25em; line-height: 1; border-radius: 0.35em;\">\n",
       "    January 2011 - February 2012\n",
       "    <span style=\"font-size: 0.8em; font-weight: bold; line-height: 1; border-radius: 0.35em; vertical-align: middle; margin-left: 0.5rem\">DATE</span>\n",
       "</mark>\n",
       ". <br>I was part of a project from \n",
       "<mark class=\"entity\" style=\"background: #bfe1d9; padding: 0.45em 0.6em; margin: 0 0.25em; line-height: 1; border-radius: 0.35em;\">\n",
       "    10/2019 - 07/2021\n",
       "    <span style=\"font-size: 0.8em; font-weight: bold; line-height: 1; border-radius: 0.35em; vertical-align: middle; margin-left: 0.5rem\">DATE</span>\n",
       "</mark>\n",
       ". <br>I worked at Company A from \n",
       "<mark class=\"entity\" style=\"background: #bfe1d9; padding: 0.45em 0.6em; margin: 0 0.25em; line-height: 1; border-radius: 0.35em;\">\n",
       "    January 2011 to February 2012\n",
       "    <span style=\"font-size: 0.8em; font-weight: bold; line-height: 1; border-radius: 0.35em; vertical-align: middle; margin-left: 0.5rem\">DATE</span>\n",
       "</mark>\n",
       ". <br>I was part of a project from \n",
       "<mark class=\"entity\" style=\"background: #bfe1d9; padding: 0.45em 0.6em; margin: 0 0.25em; line-height: 1; border-radius: 0.35em;\">\n",
       "    2021 - 2023\n",
       "    <span style=\"font-size: 0.8em; font-weight: bold; line-height: 1; border-radius: 0.35em; vertical-align: middle; margin-left: 0.5rem\">DATE</span>\n",
       "</mark>\n",
       ". <br>My time at Company E spanned from \n",
       "<mark class=\"entity\" style=\"background: #bfe1d9; padding: 0.45em 0.6em; margin: 0 0.25em; line-height: 1; border-radius: 0.35em;\">\n",
       "    2020 - current\n",
       "    <span style=\"font-size: 0.8em; font-weight: bold; line-height: 1; border-radius: 0.35em; vertical-align: middle; margin-left: 0.5rem\">DATE</span>\n",
       "</mark>\n",
       ".<br>My time at Company E spanned from \n",
       "<mark class=\"entity\" style=\"background: #bfe1d9; padding: 0.45em 0.6em; margin: 0 0.25em; line-height: 1; border-radius: 0.35em;\">\n",
       "    Jan 2020 - current\n",
       "    <span style=\"font-size: 0.8em; font-weight: bold; line-height: 1; border-radius: 0.35em; vertical-align: middle; margin-left: 0.5rem\">DATE</span>\n",
       "</mark>\n",
       ". <br><br>\n",
       "<mark class=\"entity\" style=\"background: #bfe1d9; padding: 0.45em 0.6em; margin: 0 0.25em; line-height: 1; border-radius: 0.35em;\">\n",
       "    Jun 2018 - Present\n",
       "    <span style=\"font-size: 0.8em; font-weight: bold; line-height: 1; border-radius: 0.35em; vertical-align: middle; margin-left: 0.5rem\">DATE</span>\n",
       "</mark>\n",
       ". (This is En-dash '-' not Hyphen '-')<br>\n",
       "<mark class=\"entity\" style=\"background: #bfe1d9; padding: 0.45em 0.6em; margin: 0 0.25em; line-height: 1; border-radius: 0.35em;\">\n",
       "    Feb 2020\n",
       "    <span style=\"font-size: 0.8em; font-weight: bold; line-height: 1; border-radius: 0.35em; vertical-align: middle; margin-left: 0.5rem\">DATE</span>\n",
       "</mark>\n",
       " — Present. (Em-dash)<br><br>\n",
       "<mark class=\"entity\" style=\"background: #bfe1d9; padding: 0.45em 0.6em; margin: 0 0.25em; line-height: 1; border-radius: 0.35em;\">\n",
       "    June 2018 - January 2020\n",
       "    <span style=\"font-size: 0.8em; font-weight: bold; line-height: 1; border-radius: 0.35em; vertical-align: middle; margin-left: 0.5rem\">DATE</span>\n",
       "</mark>\n",
       " / Pittsburgh<br>Web Developer Fanatics \n",
       "<mark class=\"entity\" style=\"background: #bfe1d9; padding: 0.45em 0.6em; margin: 0 0.25em; line-height: 1; border-radius: 0.35em;\">\n",
       "    2020 - current\n",
       "    <span style=\"font-size: 0.8em; font-weight: bold; line-height: 1; border-radius: 0.35em; vertical-align: middle; margin-left: 0.5rem\">DATE</span>\n",
       "</mark>\n",
       " Jacksonville<br>Web Designer Magic Leap \n",
       "<mark class=\"entity\" style=\"background: #bfe1d9; padding: 0.45em 0.6em; margin: 0 0.25em; line-height: 1; border-radius: 0.35em;\">\n",
       "    2018 - 2020\n",
       "    <span style=\"font-size: 0.8em; font-weight: bold; line-height: 1; border-radius: 0.35em; vertical-align: middle; margin-left: 0.5rem\">DATE</span>\n",
       "</mark>\n",
       "<br>Junior Web Developer HSN 2016 - 2018 Saint Petersburg<br><br>\n",
       "<mark class=\"entity\" style=\"background: #bfe1d9; padding: 0.45em 0.6em; margin: 0 0.25em; line-height: 1; border-radius: 0.35em;\">\n",
       "    2020-2023\n",
       "    <span style=\"font-size: 0.8em; font-weight: bold; line-height: 1; border-radius: 0.35em; vertical-align: middle; margin-left: 0.5rem\">DATE</span>\n",
       "</mark>\n",
       "<br>\n",
       "<mark class=\"entity\" style=\"background: #bfe1d9; padding: 0.45em 0.6em; margin: 0 0.25em; line-height: 1; border-radius: 0.35em;\">\n",
       "    2017-2019\n",
       "    <span style=\"font-size: 0.8em; font-weight: bold; line-height: 1; border-radius: 0.35em; vertical-align: middle; margin-left: 0.5rem\">DATE</span>\n",
       "</mark>\n",
       "<br>\n",
       "<mark class=\"entity\" style=\"background: #bfe1d9; padding: 0.45em 0.6em; margin: 0 0.25em; line-height: 1; border-radius: 0.35em;\">\n",
       "    Jun 2016 - Sep 2016\n",
       "    <span style=\"font-size: 0.8em; font-weight: bold; line-height: 1; border-radius: 0.35em; vertical-align: middle; margin-left: 0.5rem\">DATE</span>\n",
       "</mark>\n",
       "<br>\n",
       "<mark class=\"entity\" style=\"background: #bfe1d9; padding: 0.45em 0.6em; margin: 0 0.25em; line-height: 1; border-radius: 0.35em;\">\n",
       "    Jun 2016 - Jan 2017\n",
       "    <span style=\"font-size: 0.8em; font-weight: bold; line-height: 1; border-radius: 0.35em; vertical-align: middle; margin-left: 0.5rem\">DATE</span>\n",
       "</mark>\n",
       "<br></div></span>"
      ],
      "text/plain": [
       "<IPython.core.display.HTML object>"
      ]
     },
     "metadata": {},
     "output_type": "display_data"
    }
   ],
   "source": [
    "import spacy\n",
    "from spacy import displacy\n",
    "\n",
    "\n",
    "def create_nlp_for_experience():\n",
    "    nlp = spacy.load(\"en_core_web_sm\")\n",
    "\n",
    "    VALID_MONTH_NAMES = [\"jan\", \"feb\", \"mar\", \"apr\", \"may\", \"jun\", \"jul\", \"aug\", \"sep\", \"oct\", \"nov\", \"dec\", \"january\", \"february\", \"march\", \"april\", \"may\", \"june\", \"july\", \"august\", \"september\", \"october\", \"november\", \"december\"]\n",
    "    \n",
    "    # Most of the date patterns are detected by default DATE entity\n",
    "    # Define the pattern for '05/2015 - 06/2017' and '10/2020 - Present'.\n",
    "    patterns = [\n",
    "        # 05/2015 - 06/2017\n",
    "        {\"label\": \"DATE\", \"pattern\": [{\"SHAPE\": \"dd/dddd\"}, {\"TEXT\": \"-\"}, {\"SHAPE\": \"dd/dddd\"}]},\n",
    "\n",
    "        # 10/2020 - Present\n",
    "        {\"label\": \"DATE\", \"pattern\": [{\"SHAPE\": \"dd/dddd\"}, {\"TEXT\": \"-\"}, {\"LOWER\": \"present\"}]},\n",
    "        {\"label\": \"DATE\", \"pattern\": [{\"SHAPE\": \"dd/dddd\"}, {\"TEXT\": \"-\"}, {\"LOWER\": \"current\"}]},\n",
    "\n",
    "        # Jan 2020 - current, March 2018 - Present\n",
    "        {\"label\": \"DATE\", \"pattern\": [{\"LOWER\": {\"in\": VALID_MONTH_NAMES}}, {\"TEXT\": {\"REGEX\": \"^\\d{4}$\"}}, {\"TEXT\": \"-\"}, {\"LOWER\": {\"in\": [\"current\", \"present\"]}}]},\n",
    "\n",
    "        # Jun 2016 - Sep 2016\n",
    "        {\"label\": \"DATE\", \"pattern\": [{\"LOWER\": {\"in\": VALID_MONTH_NAMES}},\n",
    "        {\"TEXT\": {\"REGEX\": \"^\\d{4}$\"}}, {\"TEXT\": \"-\"}, {\"LOWER\": {\"in\": VALID_MONTH_NAMES}}, {\"TEXT\": {\"REGEX\": \"^\\d{4}$\"}}]},\n",
    "\n",
    "        # 2020 - current\n",
    "        {\"label\": \"DATE\", \"pattern\": [{\"SHAPE\": \"dddd\"}, {\"TEXT\": \"-\"}, {\"LOWER\": {\"in\": [\"current\", \"present\"]}}]},\n",
    "        ]\n",
    "\n",
    "    ruler = nlp.add_pipe(\"entity_ruler\", before=\"ner\")\n",
    "    # Add the pattern to the ruler\n",
    "    ruler.add_patterns(patterns)\n",
    "\n",
    "    return nlp\n",
    "\n",
    "nlp = create_nlp_for_experience()\n",
    "\n",
    "# Use the nlp object on your text\n",
    "doc = nlp(text_with_dates)\n",
    "\n",
    "# Test on experience section from resume\n",
    "# doc = nlp(sections['EXPERIENCE'])\n",
    "\n",
    "# Specify options for displacy\n",
    "options = {'ents': ['DATE']}\n",
    "# Use 'ent' as the style for entity visualization\n",
    "displacy.render(doc, style='ent', options=options)\n"
   ]
  },
  {
   "cell_type": "markdown",
   "metadata": {},
   "source": [
    "#### Calculate years of experience"
   ]
  },
  {
   "cell_type": "code",
   "execution_count": 17,
   "metadata": {},
   "outputs": [
    {
     "name": "stdout",
     "output_type": "stream",
     "text": [
      "['05/2015 - 06/2017', '01/2021 - Present', 'Jan 2022 - Present', 'March 2018 - Present', 'Feb 2010 - Jan 2013', 'January 2011 - February 2012', '10/2019 - 07/2021', '2021 - 2023', '2020 - current', 'Jan 2020 - current', 'Jun 2018 - Present', 'June 2018 - January 2020', '2020 - current', '2018 - 2020', '2020-2023', '2017-2019', 'Jun 2016 - Sep 2016', 'Jun 2016 - Jan 2017']\n"
     ]
    }
   ],
   "source": [
    "# Extract the dates that are in the \"start - end\" format\n",
    "dates = [ent.text for ent in doc.ents if ent.label_ == 'DATE' and ('-' in ent.text)]\n",
    "print(dates)"
   ]
  },
  {
   "cell_type": "code",
   "execution_count": 18,
   "metadata": {},
   "outputs": [
    {
     "name": "stdout",
     "output_type": "stream",
     "text": [
      "05/2015 - 06/2017 \t 2.08 yr\n",
      "01/2021 - Present \t 2.92 yr\n",
      "Jan 2022 - Present \t 1.92 yr\n",
      "March 2018 - Present \t 5.75 yr\n",
      "Feb 2010 - Jan 2013 \t 2.92 yr\n",
      "January 2011 - February 2012 \t 1.08 yr\n",
      "10/2019 - 07/2021 \t 1.75 yr\n",
      "2021 - 2023 \t 2.0 yr\n",
      "2020 - current \t 3.0 yr\n",
      "Jan 2020 - current \t 3.92 yr\n",
      "Jun 2018 - Present \t 5.5 yr\n",
      "June 2018 - January 2020 \t 1.58 yr\n",
      "2020 - current \t 3.0 yr\n",
      "2018 - 2020 \t 2.0 yr\n",
      "2020-2023 \t 3.0 yr\n",
      "2017-2019 \t 2.0 yr\n",
      "Jun 2016 - Sep 2016 \t 0.25 yr\n",
      "Jun 2016 - Jan 2017 \t 0.58 yr\n",
      "[2.08, 2.92, 1.92, 5.75, 2.92, 1.08, 1.75, 2.0, 3.0, 3.92, 5.5, 1.58, 3.0, 2.0, 3.0, 2.0, 0.25, 0.58]\n"
     ]
    }
   ],
   "source": [
    "from dateutil import parser\n",
    "from dateutil.relativedelta import relativedelta\n",
    "from datetime import datetime\n",
    "\n",
    "def calculate_years(dates):\n",
    "    year_diffs = []\n",
    "    for date in dates:\n",
    "        # Check if the date is in the \"start - end\" format\n",
    "        if '-' not in date:\n",
    "            continue\n",
    "        \n",
    "        try:\n",
    "            # Split the date range into start and end dates\n",
    "            start_date, end_date = date.split('-')\n",
    "            \n",
    "            # Replace 'Present' or 'current' with today's date\n",
    "            if 'present' in end_date.lower() or 'current' in end_date.lower():\n",
    "                end_date = datetime.today().strftime('%m/%Y')\n",
    "            \n",
    "            # Parse the dates\n",
    "            start_date = parser.parse(start_date)\n",
    "            end_date = parser.parse(end_date)\n",
    "            \n",
    "            # Calculate the difference in years (considering months)\n",
    "            diff = relativedelta(end_date, start_date)\n",
    "            years = diff.years + diff.months / 12\n",
    "            years = round(years, 2)\n",
    "            year_diffs.append(years)\n",
    "            print(f'{date} \\t {years} yr')\n",
    "        except ValueError as e:\n",
    "            print(f\"Error parsing dates: {e}. Skipping this entry.\")\n",
    "\n",
    "    return year_diffs\n",
    "\n",
    "print(calculate_years(dates))"
   ]
  },
  {
   "cell_type": "markdown",
   "metadata": {},
   "source": [
    "Job Experience Requirements"
   ]
  },
  {
   "cell_type": "code",
   "execution_count": 19,
   "metadata": {},
   "outputs": [
    {
     "data": {
      "text/plain": [
       "[0.5, 1, 2, 0]"
      ]
     },
     "execution_count": 19,
     "metadata": {},
     "output_type": "execute_result"
    }
   ],
   "source": [
    "import re\n",
    "\n",
    "def extract_min_experience(text):\n",
    "    # Define the regular expression patterns\n",
    "    pattern_months = r'(\\d+)(?=\\s*month)'\n",
    "    pattern_years = r'(\\d+)(?=\\s*year)'\n",
    "    \n",
    "    # Use search to get the first match\n",
    "    match_years = re.search(pattern_years, text)\n",
    "    match_months = re.search(pattern_months, text)\n",
    "    \n",
    "    # If a match was found, convert it to an integer and return\n",
    "    if match_years:\n",
    "        return int(match_years.group())\n",
    "    elif match_months:\n",
    "        return int(match_months.group()) / 12  # Convert months to years\n",
    "    \n",
    "    # If no match was found, return None\n",
    "    return 0\n",
    "\n",
    "# Test the function\n",
    "job_exp = [\n",
    "'Minimum 6 months of professional front-end development experience.',\n",
    "'More than 1 year.',\n",
    "'A minimum of 2 years of professional experience',\n",
    "'No experience'\n",
    "]\n",
    "min_yoe = [extract_min_experience(job) for job in job_exp]\n",
    "min_yoe"
   ]
  },
  {
   "cell_type": "markdown",
   "metadata": {},
   "source": [
    "Find experience_score"
   ]
  },
  {
   "cell_type": "code",
   "execution_count": 20,
   "metadata": {},
   "outputs": [
    {
     "name": "stdout",
     "output_type": "stream",
     "text": [
      "2.08 \t 1.0\n",
      "2.92 \t 1.0\n",
      "1.92 \t 0.96\n",
      "2.92 \t 1.0\n",
      "2.08 \t 1.0\n",
      "1.08 \t 0.54\n",
      "5.75 \t 1.0\n",
      "1.75 \t 0.875\n",
      "2.0 \t 1.0\n",
      "3.0 \t 1.0\n",
      "3.92 \t 1.0\n"
     ]
    }
   ],
   "source": [
    "applicant_years_list = [2.08, 2.92, 1.92, 2.92, 2.08, 1.08, 5.75, 1.75, 2.0, 3.0, 3.92]\n",
    "target_job_experience = 2\n",
    "for applicant_years in applicant_years_list:\n",
    "    if target_job_experience == 0: # no experience required\n",
    "        experience_score = 1.0\n",
    "    else:\n",
    "        experience_score = min(applicant_years / target_job_experience, 1.0)\n",
    "    print(f'{applicant_years} \\t {experience_score}')"
   ]
  }
 ],
 "metadata": {
  "kernelspec": {
   "display_name": "Python 3",
   "language": "python",
   "name": "python3"
  },
  "language_info": {
   "codemirror_mode": {
    "name": "ipython",
    "version": 3
   },
   "file_extension": ".py",
   "mimetype": "text/x-python",
   "name": "python",
   "nbconvert_exporter": "python",
   "pygments_lexer": "ipython3",
   "version": "3.11.0"
  }
 },
 "nbformat": 4,
 "nbformat_minor": 2
}
