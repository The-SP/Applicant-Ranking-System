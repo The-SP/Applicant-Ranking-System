{
 "cells": [
  {
   "cell_type": "markdown",
   "metadata": {},
   "source": [
    "# Resume Parsing"
   ]
  },
  {
   "cell_type": "code",
   "execution_count": 59,
   "metadata": {},
   "outputs": [],
   "source": [
    "import fitz\n",
    "\n",
    "# Open the PDF file\n",
    "doc = fitz.open('resumes/sw2.pdf')"
   ]
  },
  {
   "cell_type": "markdown",
   "metadata": {},
   "source": [
    "## Group Text into sections\n",
    "To determine a section title, check if it fulfills all 3 following conditions:\n",
    "1. It is the only text item in the line\n",
    "2. It is bolded\n",
    "3. Its letters are all UPPERCASE  \n",
    "OR,\n",
    "- Perform a keyword matching against a list of common resume section title keywords."
   ]
  },
  {
   "cell_type": "code",
   "execution_count": 60,
   "metadata": {},
   "outputs": [
    {
     "data": {
      "text/plain": [
       "{'PROFESSIONAL EXPERIENCE': \"Resume Worded , New York, NY Jun 2018 – Present Software Developer ● Created a new system that tracked and examined customer data, increasing sales by 23% within 32 days of implementation. ● Conceived and introduced an automated email response system, which reduced response time to 3K email messages by 71%. ● Saved 13 person-hours daily by writing scripts to automate 25 tasks like database backups, restores, and server provisioning. ● Developed a user interface as a single-page application using React and MobX, which increased the productivity of 10K users by 87%. Growthsi , New York, NY Jan 2015 – May 2018 Software Tester ● Introduced the idea of bug fixing during graveyard shifts, which led to a quarterly savings of $950K in labor costs. ● Championed a major decision to abandon 17 projects by discovering critical defects in a high-level application worth $2M ● Completed and achieved the launch of 15 products within 35 days with a moderate error rate of 1%, an improvement over previous years. ● Performed penetration tests with zero-day vulnerability discovery devices on 25 internally developed applications; identified that 75% of the software code was vulnerable to attack. Resume Worded Exciting Company , San Diego, CA June 2010 – Dec 2014 IT Support Engineer ● Overhauled Growthsi help desk by reducing average ticket time from 7 business days to 30 minutes in the first month of employment. ● Contributed to developing a new access system that reduced 65% of data collection by completing 25 projects on schedule with zero server downtime. ● Established a naming convention for all files and identified 18 process improvement opportunities, reducing helpdesk calls from 27% of total IT calls to <2%. ● Developed an automated software to resolve customers' issues based on user performance analysis and error reports; reduced resolution time from 24 hours to 15 minutes. ● Saved the company over $78K in repair costs by performing data recovery after its server was destroyed by malware. \",\n",
       " 'EDUCATION': 'Resume Worded University,  San Francisco, CA May 2010 Master of Science; Major in Information Technology ',\n",
       " 'SKILLS': '●  Technical Skills ●  Industry Knowledge ●  Tools & Software ●  Docker Products ●  Software Development ●  Maven ●  Web Development ●  Agile Methodologies ●  Microsoft Visual Studio ●  Coding. ●  .NET Framework. ●  Jenkins '}"
      ]
     },
     "execution_count": 60,
     "metadata": {},
     "output_type": "execute_result"
    }
   ],
   "source": [
    "\n",
    "# Initialize an empty dictionary to hold the sections\n",
    "sections = {}\n",
    "current_section = None\n",
    "\n",
    "# Define a dictionary of common resume section titles and their associated keywords\n",
    "section_keywords = {\n",
    "    \"PROFILE\": [\n",
    "        \"PROFILE\",\n",
    "        \"SUMMARY\",\n",
    "        \"ABOUT ME\",\n",
    "        \"PERSONAL PROFILE\",\n",
    "        \"PERSONAL SUMMARY\",\n",
    "    ],\n",
    "    \"EXPERIENCE\": [\n",
    "        \"EXPERIENCE\",\n",
    "        \"WORK EXPERIENCE\",\n",
    "        \"PROFESSIONAL EXPERIENCE\",\n",
    "        \"JOB HISTORY\",\n",
    "        \"EMPLOYMENT HISTORY\",\n",
    "    ],\n",
    "    \"EDUCATION\": [\"EDUCATION\", \"EDUCATIONAL BACKGROUND\", \"ACADEMIC HISTORY\"],\n",
    "    \"SKILLS\": [\n",
    "        \"SKILLS\",\n",
    "        \"PROGRAMMING SKILLS\",\n",
    "        \"ABILITIES\",\n",
    "        \"COMPETENCIES\",\n",
    "        \"EXPERTISE\",\n",
    "    ],\n",
    "    \"PROJECTS\": [\"PROJECTS\", \"PORTFOLIO\"],\n",
    "    \"CERTIFICATIONS\": [\"CERTIFICATIONS\", \"CREDENTIALS\", \"ACCREDITATIONS\"],\n",
    "    \"AWARDS\": [\"AWARDS\", \"HONORS\", \"ACHIEVEMENTS\"],\n",
    "    \"INTERESTS\": [\"INTERESTS\", \"HOBBIES\", \"ACTIVITIES\"],\n",
    "}\n",
    "\n",
    "# Create a list of all keywords from the section_keywords dictionary\n",
    "keywords = [\n",
    "    keyword for keyword_list in section_keywords.values() for keyword in keyword_list\n",
    "]\n",
    "\n",
    "# Loop over each page in the document\n",
    "for page in doc:\n",
    "    # Extract the text as a dictionary\n",
    "    blocks = page.get_text(\"dict\")[\"blocks\"]\n",
    "    \n",
    "    for b in blocks:  # iterate through the text blocks\n",
    "        if \"lines\" in b:\n",
    "            for l in b[\"lines\"]:  # iterate through the text lines\n",
    "                for s in l[\"spans\"]:  # iterate through the text spans\n",
    "\n",
    "                    # if s[\"flags\"] == 20 and s[\"text\"].isupper():  # check if the text is bold and uppercase\n",
    "                    #     # This is a section title, so start a new section\n",
    "                    #     current_section = s[\"text\"]\n",
    "                    #     sections[current_section] = \"\"\n",
    "                    \n",
    "                    if any(keyword == s[\"text\"].upper() for keyword in keywords):\n",
    "                        # The text contains a keyword, so start a new section\n",
    "                        current_section = s[\"text\"].upper()\n",
    "                        sections[current_section] = \"\"\n",
    "                    elif current_section is not None:\n",
    "                        # This is not a section title, so append it to the current section\n",
    "                        sections[current_section] += s[\"text\"] + \" \"\n",
    "\n",
    "sections"
   ]
  },
  {
   "cell_type": "code",
   "execution_count": 61,
   "metadata": {},
   "outputs": [
    {
     "name": "stdout",
     "output_type": "stream",
     "text": [
      "PROFESSIONAL EXPERIENCE\n",
      "Resume Worded , New York, NY Jun 2018 – Present Software Developer ● Created a new system that\n",
      "tracked and examined customer data, increasing sales by 23% within 32 days of implementation. ●\n",
      "Conceived and introduced an automated email response system, which reduced response time to 3K email\n",
      "messages by 71%. ● Saved 13 person-hours daily by writing scripts to automate 25 tasks like database\n",
      "backups, restores, and server provisioning. ● Developed a user interface as a single-page\n",
      "application using React and MobX, which increased the productivity of 10K users by 87%. Growthsi ,\n",
      "New York, NY Jan 2015 – May 2018 Software Tester ● Introduced the idea of bug fixing during\n",
      "graveyard shifts, which led to a quarterly savings of $950K in labor costs. ● Championed a major\n",
      "decision to abandon 17 projects by discovering critical defects in a high-level application worth\n",
      "$2M ● Completed and achieved the launch of 15 products within 35 days with a moderate error rate of\n",
      "1%, an improvement over previous years. ● Performed penetration tests with zero-day vulnerability\n",
      "discovery devices on 25 internally developed applications; identified that 75% of the software code\n",
      "was vulnerable to attack. Resume Worded Exciting Company , San Diego, CA June 2010 – Dec 2014 IT\n",
      "Support Engineer ● Overhauled Growthsi help desk by reducing average ticket time from 7 business\n",
      "days to 30 minutes in the first month of employment. ● Contributed to developing a new access system\n",
      "that reduced 65% of data collection by completing 25 projects on schedule with zero server downtime.\n",
      "● Established a naming convention for all files and identified 18 process improvement opportunities,\n",
      "reducing helpdesk calls from 27% of total IT calls to <2%. ● Developed an automated software to\n",
      "resolve customers' issues based on user performance analysis and error reports; reduced resolution\n",
      "time from 24 hours to 15 minutes. ● Saved the company over $78K in repair costs by performing data\n",
      "recovery after its server was destroyed by malware.\n",
      "----------------------------------------------------------------------------------------------------\n",
      "EDUCATION\n",
      "Resume Worded University,  San Francisco, CA May 2010 Master of Science; Major in Information\n",
      "Technology\n",
      "----------------------------------------------------------------------------------------------------\n",
      "SKILLS\n",
      "●  Technical Skills ●  Industry Knowledge ●  Tools & Software ●  Docker Products ●  Software\n",
      "Development ●  Maven ●  Web Development ●  Agile Methodologies ●  Microsoft Visual Studio ●  Coding.\n",
      "●  .NET Framework. ●  Jenkins\n",
      "----------------------------------------------------------------------------------------------------\n"
     ]
    }
   ],
   "source": [
    "import textwrap\n",
    "\n",
    "for section, content in sections.items():\n",
    "    print(section)\n",
    "    wrapped_content = textwrap.fill(content, width=100)  # wraps the text at 50 characters\n",
    "    print(wrapped_content)\n",
    "    print(\"-\"*100)  # prints a line for separation"
   ]
  },
  {
   "cell_type": "markdown",
   "metadata": {},
   "source": [
    "### NER"
   ]
  },
  {
   "cell_type": "code",
   "execution_count": 62,
   "metadata": {},
   "outputs": [
    {
     "data": {
      "text/html": [
       "<span class=\"tex2jax_ignore\"><div class=\"entities\" style=\"line-height: 2.5; direction: ltr\">\n",
       "<mark class=\"entity\" style=\"background: #7aecec; padding: 0.45em 0.6em; margin: 0 0.25em; line-height: 1; border-radius: 0.35em;\">\n",
       "    Resume Worded University\n",
       "    <span style=\"font-size: 0.8em; font-weight: bold; line-height: 1; border-radius: 0.35em; vertical-align: middle; margin-left: 0.5rem\">ORG</span>\n",
       "</mark>\n",
       ",  \n",
       "<mark class=\"entity\" style=\"background: #feca74; padding: 0.45em 0.6em; margin: 0 0.25em; line-height: 1; border-radius: 0.35em;\">\n",
       "    San Francisco\n",
       "    <span style=\"font-size: 0.8em; font-weight: bold; line-height: 1; border-radius: 0.35em; vertical-align: middle; margin-left: 0.5rem\">GPE</span>\n",
       "</mark>\n",
       ", \n",
       "<mark class=\"entity\" style=\"background: #bfe1d9; padding: 0.45em 0.6em; margin: 0 0.25em; line-height: 1; border-radius: 0.35em;\">\n",
       "    CA\n",
       "    <span style=\"font-size: 0.8em; font-weight: bold; line-height: 1; border-radius: 0.35em; vertical-align: middle; margin-left: 0.5rem\">TIME</span>\n",
       "</mark>\n",
       " \n",
       "<mark class=\"entity\" style=\"background: #bfe1d9; padding: 0.45em 0.6em; margin: 0 0.25em; line-height: 1; border-radius: 0.35em;\">\n",
       "    May 2010\n",
       "    <span style=\"font-size: 0.8em; font-weight: bold; line-height: 1; border-radius: 0.35em; vertical-align: middle; margin-left: 0.5rem\">DATE</span>\n",
       "</mark>\n",
       " Master of Science; Major in \n",
       "<mark class=\"entity\" style=\"background: #7aecec; padding: 0.45em 0.6em; margin: 0 0.25em; line-height: 1; border-radius: 0.35em;\">\n",
       "    Information Technology\n",
       "    <span style=\"font-size: 0.8em; font-weight: bold; line-height: 1; border-radius: 0.35em; vertical-align: middle; margin-left: 0.5rem\">ORG</span>\n",
       "</mark>\n",
       " </div></span>"
      ],
      "text/plain": [
       "<IPython.core.display.HTML object>"
      ]
     },
     "metadata": {},
     "output_type": "display_data"
    }
   ],
   "source": [
    "import spacy\n",
    "from spacy import displacy\n",
    "\n",
    "nlp = spacy.load(\"en_core_web_sm\")\n",
    "doc = nlp(sections['EDUCATION'])\n",
    "\n",
    "# Use 'ent' as the style for entity visualization\n",
    "displacy.render(doc, style='ent')"
   ]
  },
  {
   "cell_type": "markdown",
   "metadata": {},
   "source": [
    "## Identify Degree and Major in Education"
   ]
  },
  {
   "cell_type": "markdown",
   "metadata": {},
   "source": [
    "Our system uses spacy library to extract information (degree and major) from Education. We prepared a dictionary that has all education degrees and majors related to computer engineering field. We fed that dictionary to the Spacy rule-based EntityRuler in order to detect and recognize entities in our job description."
   ]
  },
  {
   "cell_type": "code",
   "execution_count": 63,
   "metadata": {},
   "outputs": [],
   "source": [
    "import spacy"
   ]
  },
  {
   "cell_type": "code",
   "execution_count": 64,
   "metadata": {},
   "outputs": [],
   "source": [
    "def match_degrees_by_spacy(nlp):\n",
    "    doc = nlp(sections['EDUCATION'])\n",
    "    degree_levels = []\n",
    "    for ent in doc.ents:\n",
    "        labels_parts = ent.label_.split('|')\n",
    "        if labels_parts[0] == 'DEGREE':\n",
    "            print((ent.text, ent.label_))\n",
    "            if labels_parts[1] not in degree_levels:\n",
    "                degree_levels.append(labels_parts[1])\n",
    "    return degree_levels\n",
    "\n",
    "\n",
    "def match_majors_by_spacy(nlp):\n",
    "    doc = nlp(sections['EDUCATION'])\n",
    "\n",
    "    displacy.render(doc, style='ent')\n",
    "\n",
    "    acceptable_majors = []\n",
    "    for ent in doc.ents:\n",
    "        labels_parts = ent.label_.split('|')\n",
    "        if labels_parts[0] == 'MAJOR':\n",
    "            if labels_parts[2].replace('-', ' ') not in acceptable_majors:\n",
    "                acceptable_majors.append(labels_parts[2].replace('-', ' '))\n",
    "            if labels_parts[2].replace('-', ' ') not in acceptable_majors:\n",
    "                acceptable_majors.append(labels_parts[2].replace('-', ' '))\n",
    "    return acceptable_majors"
   ]
  },
  {
   "cell_type": "code",
   "execution_count": 65,
   "metadata": {},
   "outputs": [
    {
     "data": {
      "text/plain": [
       "<spacy.pipeline.entityruler.EntityRuler at 0x1f70e4d5390>"
      ]
     },
     "execution_count": 65,
     "metadata": {},
     "output_type": "execute_result"
    }
   ],
   "source": [
    "nlp = spacy.load(\"en_core_web_sm\")\n",
    "# Add the pattern to the matcher\n",
    "patterns_path = 'degrees_majors.jsonl'\n",
    "ruler = nlp.add_pipe(\"entity_ruler\", before='ner')\n",
    "ruler.from_disk(patterns_path)"
   ]
  },
  {
   "cell_type": "code",
   "execution_count": 66,
   "metadata": {},
   "outputs": [
    {
     "name": "stdout",
     "output_type": "stream",
     "text": [
      "('University', 'DEGREE|BACHELOR')\n",
      "('Master', 'DEGREE|MASTER')\n"
     ]
    },
    {
     "data": {
      "text/plain": [
       "['BACHELOR', 'MASTER']"
      ]
     },
     "execution_count": 66,
     "metadata": {},
     "output_type": "execute_result"
    }
   ],
   "source": [
    "match_degrees_by_spacy(nlp)"
   ]
  },
  {
   "cell_type": "code",
   "execution_count": 67,
   "metadata": {},
   "outputs": [
    {
     "data": {
      "text/html": [
       "<span class=\"tex2jax_ignore\"><div class=\"entities\" style=\"line-height: 2.5; direction: ltr\">\n",
       "<mark class=\"entity\" style=\"background: #7aecec; padding: 0.45em 0.6em; margin: 0 0.25em; line-height: 1; border-radius: 0.35em;\">\n",
       "    Resume Worded\n",
       "    <span style=\"font-size: 0.8em; font-weight: bold; line-height: 1; border-radius: 0.35em; vertical-align: middle; margin-left: 0.5rem\">ORG</span>\n",
       "</mark>\n",
       " \n",
       "<mark class=\"entity\" style=\"background: #ddd; padding: 0.45em 0.6em; margin: 0 0.25em; line-height: 1; border-radius: 0.35em;\">\n",
       "    University\n",
       "    <span style=\"font-size: 0.8em; font-weight: bold; line-height: 1; border-radius: 0.35em; vertical-align: middle; margin-left: 0.5rem\">DEGREE|BACHELOR</span>\n",
       "</mark>\n",
       ",  \n",
       "<mark class=\"entity\" style=\"background: #feca74; padding: 0.45em 0.6em; margin: 0 0.25em; line-height: 1; border-radius: 0.35em;\">\n",
       "    San Francisco\n",
       "    <span style=\"font-size: 0.8em; font-weight: bold; line-height: 1; border-radius: 0.35em; vertical-align: middle; margin-left: 0.5rem\">GPE</span>\n",
       "</mark>\n",
       ", \n",
       "<mark class=\"entity\" style=\"background: #bfe1d9; padding: 0.45em 0.6em; margin: 0 0.25em; line-height: 1; border-radius: 0.35em;\">\n",
       "    CA\n",
       "    <span style=\"font-size: 0.8em; font-weight: bold; line-height: 1; border-radius: 0.35em; vertical-align: middle; margin-left: 0.5rem\">TIME</span>\n",
       "</mark>\n",
       " \n",
       "<mark class=\"entity\" style=\"background: #bfe1d9; padding: 0.45em 0.6em; margin: 0 0.25em; line-height: 1; border-radius: 0.35em;\">\n",
       "    May 2010\n",
       "    <span style=\"font-size: 0.8em; font-weight: bold; line-height: 1; border-radius: 0.35em; vertical-align: middle; margin-left: 0.5rem\">DATE</span>\n",
       "</mark>\n",
       " \n",
       "<mark class=\"entity\" style=\"background: #ddd; padding: 0.45em 0.6em; margin: 0 0.25em; line-height: 1; border-radius: 0.35em;\">\n",
       "    Master\n",
       "    <span style=\"font-size: 0.8em; font-weight: bold; line-height: 1; border-radius: 0.35em; vertical-align: middle; margin-left: 0.5rem\">DEGREE|MASTER</span>\n",
       "</mark>\n",
       " of Science; Major in \n",
       "<mark class=\"entity\" style=\"background: #ddd; padding: 0.45em 0.6em; margin: 0 0.25em; line-height: 1; border-radius: 0.35em;\">\n",
       "    Information Technology\n",
       "    <span style=\"font-size: 0.8em; font-weight: bold; line-height: 1; border-radius: 0.35em; vertical-align: middle; margin-left: 0.5rem\">MAJOR|DEV MAJOR|information-technology</span>\n",
       "</mark>\n",
       " </div></span>"
      ],
      "text/plain": [
       "<IPython.core.display.HTML object>"
      ]
     },
     "metadata": {},
     "output_type": "display_data"
    },
    {
     "data": {
      "text/plain": [
       "['information technology']"
      ]
     },
     "execution_count": 67,
     "metadata": {},
     "output_type": "execute_result"
    }
   ],
   "source": [
    "match_majors_by_spacy(nlp)"
   ]
  },
  {
   "cell_type": "markdown",
   "metadata": {},
   "source": [
    "## Extract Dates"
   ]
  },
  {
   "cell_type": "markdown",
   "metadata": {},
   "source": [
    "We need to extract the dates under EXPERIENCE section. Then calculate the total years of experience from it."
   ]
  },
  {
   "cell_type": "code",
   "execution_count": 68,
   "metadata": {},
   "outputs": [],
   "source": [
    "text_with_dates = '''\n",
    "I was employed at Company D from 05/2015 - 06/2017.\n",
    "I worked on a project from 01/2021 - Present.\n",
    "I worked on a project from Jan 2022 - Present.\n",
    "I was part of Company F from Feb 2010 - Jan 2013.\n",
    "My tenure at Company G was from 07/2014 - 08/2016.\n",
    "I worked at Company A from January 2011 - February 2012. \n",
    "Then, I joined Company B in March 2018 - Present. \n",
    "I was part of a project from 10/2019 - 07/2021. \n",
    "I worked at Company A from January 2011 to February 2012. \n",
    "I was part of a project from 2019 - 2021. \n",
    "I was part of a project from 2021 - 2023. \n",
    "My time at Company E spanned from 2020 - current.\n",
    "My time at Company E spanned from Jan 2020 - current. \n",
    "Jun 2018 – Present. (This is En-dash '–' not Hyphen '-'. So, spacy can't detect this as Date)\n",
    "'''"
   ]
  },
  {
   "cell_type": "code",
   "execution_count": 74,
   "metadata": {},
   "outputs": [
    {
     "data": {
      "text/html": [
       "<span class=\"tex2jax_ignore\"><div class=\"entities\" style=\"line-height: 2.5; direction: ltr\"><br>I was employed at Company D from \n",
       "<mark class=\"entity\" style=\"background: #bfe1d9; padding: 0.45em 0.6em; margin: 0 0.25em; line-height: 1; border-radius: 0.35em;\">\n",
       "    05/2015 - 06/2017\n",
       "    <span style=\"font-size: 0.8em; font-weight: bold; line-height: 1; border-radius: 0.35em; vertical-align: middle; margin-left: 0.5rem\">DATE</span>\n",
       "</mark>\n",
       ".<br>I worked on a project from \n",
       "<mark class=\"entity\" style=\"background: #bfe1d9; padding: 0.45em 0.6em; margin: 0 0.25em; line-height: 1; border-radius: 0.35em;\">\n",
       "    01/2021 - Present\n",
       "    <span style=\"font-size: 0.8em; font-weight: bold; line-height: 1; border-radius: 0.35em; vertical-align: middle; margin-left: 0.5rem\">DATE</span>\n",
       "</mark>\n",
       ".<br>I worked on a project from \n",
       "<mark class=\"entity\" style=\"background: #bfe1d9; padding: 0.45em 0.6em; margin: 0 0.25em; line-height: 1; border-radius: 0.35em;\">\n",
       "    Jan 2022 - Present\n",
       "    <span style=\"font-size: 0.8em; font-weight: bold; line-height: 1; border-radius: 0.35em; vertical-align: middle; margin-left: 0.5rem\">DATE</span>\n",
       "</mark>\n",
       ".<br>I was part of Company F from \n",
       "<mark class=\"entity\" style=\"background: #bfe1d9; padding: 0.45em 0.6em; margin: 0 0.25em; line-height: 1; border-radius: 0.35em;\">\n",
       "    Feb 2010 - Jan 2013\n",
       "    <span style=\"font-size: 0.8em; font-weight: bold; line-height: 1; border-radius: 0.35em; vertical-align: middle; margin-left: 0.5rem\">DATE</span>\n",
       "</mark>\n",
       ".<br>My tenure at Company G was from \n",
       "<mark class=\"entity\" style=\"background: #bfe1d9; padding: 0.45em 0.6em; margin: 0 0.25em; line-height: 1; border-radius: 0.35em;\">\n",
       "    07/2014 - 08/2016\n",
       "    <span style=\"font-size: 0.8em; font-weight: bold; line-height: 1; border-radius: 0.35em; vertical-align: middle; margin-left: 0.5rem\">DATE</span>\n",
       "</mark>\n",
       ".<br>I worked at Company A from \n",
       "<mark class=\"entity\" style=\"background: #bfe1d9; padding: 0.45em 0.6em; margin: 0 0.25em; line-height: 1; border-radius: 0.35em;\">\n",
       "    January 2011 - February 2012\n",
       "    <span style=\"font-size: 0.8em; font-weight: bold; line-height: 1; border-radius: 0.35em; vertical-align: middle; margin-left: 0.5rem\">DATE</span>\n",
       "</mark>\n",
       ". <br>Then, I joined Company B in \n",
       "<mark class=\"entity\" style=\"background: #bfe1d9; padding: 0.45em 0.6em; margin: 0 0.25em; line-height: 1; border-radius: 0.35em;\">\n",
       "    March 2018 - Present\n",
       "    <span style=\"font-size: 0.8em; font-weight: bold; line-height: 1; border-radius: 0.35em; vertical-align: middle; margin-left: 0.5rem\">DATE</span>\n",
       "</mark>\n",
       ". <br>I was part of a project from \n",
       "<mark class=\"entity\" style=\"background: #bfe1d9; padding: 0.45em 0.6em; margin: 0 0.25em; line-height: 1; border-radius: 0.35em;\">\n",
       "    10/2019 - 07/2021\n",
       "    <span style=\"font-size: 0.8em; font-weight: bold; line-height: 1; border-radius: 0.35em; vertical-align: middle; margin-left: 0.5rem\">DATE</span>\n",
       "</mark>\n",
       ". <br>I worked at Company A from \n",
       "<mark class=\"entity\" style=\"background: #bfe1d9; padding: 0.45em 0.6em; margin: 0 0.25em; line-height: 1; border-radius: 0.35em;\">\n",
       "    January 2011 to February 2012\n",
       "    <span style=\"font-size: 0.8em; font-weight: bold; line-height: 1; border-radius: 0.35em; vertical-align: middle; margin-left: 0.5rem\">DATE</span>\n",
       "</mark>\n",
       ". <br>I was part of a project from \n",
       "<mark class=\"entity\" style=\"background: #bfe1d9; padding: 0.45em 0.6em; margin: 0 0.25em; line-height: 1; border-radius: 0.35em;\">\n",
       "    2019 - 2021\n",
       "    <span style=\"font-size: 0.8em; font-weight: bold; line-height: 1; border-radius: 0.35em; vertical-align: middle; margin-left: 0.5rem\">DATE</span>\n",
       "</mark>\n",
       ". <br>I was part of a project from \n",
       "<mark class=\"entity\" style=\"background: #bfe1d9; padding: 0.45em 0.6em; margin: 0 0.25em; line-height: 1; border-radius: 0.35em;\">\n",
       "    2021 - 2023\n",
       "    <span style=\"font-size: 0.8em; font-weight: bold; line-height: 1; border-radius: 0.35em; vertical-align: middle; margin-left: 0.5rem\">DATE</span>\n",
       "</mark>\n",
       ". <br>My time at Company E spanned from \n",
       "<mark class=\"entity\" style=\"background: #bfe1d9; padding: 0.45em 0.6em; margin: 0 0.25em; line-height: 1; border-radius: 0.35em;\">\n",
       "    2020 - current\n",
       "    <span style=\"font-size: 0.8em; font-weight: bold; line-height: 1; border-radius: 0.35em; vertical-align: middle; margin-left: 0.5rem\">DATE</span>\n",
       "</mark>\n",
       ".<br>My time at Company E spanned from \n",
       "<mark class=\"entity\" style=\"background: #bfe1d9; padding: 0.45em 0.6em; margin: 0 0.25em; line-height: 1; border-radius: 0.35em;\">\n",
       "    Jan 2020 - current\n",
       "    <span style=\"font-size: 0.8em; font-weight: bold; line-height: 1; border-radius: 0.35em; vertical-align: middle; margin-left: 0.5rem\">DATE</span>\n",
       "</mark>\n",
       ". <br>Jun 2018 – Present. (This is En-dash '–' not Hyphen '-'. So, spacy can't detect this as Date)<br></div></span>"
      ],
      "text/plain": [
       "<IPython.core.display.HTML object>"
      ]
     },
     "metadata": {},
     "output_type": "display_data"
    }
   ],
   "source": [
    "import spacy\n",
    "from spacy import displacy\n",
    "\n",
    "nlp = spacy.load(\"en_core_web_sm\")\n",
    "\n",
    "# Most of the date patterns are detected by default DATE entity\n",
    "# Define the pattern for '05/2015 - 06/2017' and '10/2020 - Present'.\n",
    "patterns = [\n",
    "    # 05/2015 - 06/2017\n",
    "    {\"label\": \"DATE\", \"pattern\": [{\"SHAPE\": \"dd/dddd\"}, {\"TEXT\": \"-\"}, {\"SHAPE\": \"dd/dddd\"}]},\n",
    "\n",
    "    # 10/2020 - Present\n",
    "    {\"label\": \"DATE\", \"pattern\": [{\"SHAPE\": \"dd/dddd\"}, {\"TEXT\": \"-\"}, {\"LOWER\": \"present\"}]},\n",
    "    {\"label\": \"DATE\", \"pattern\": [{\"SHAPE\": \"dd/dddd\"}, {\"TEXT\": \"-\"}, {\"LOWER\": \"current\"}]},\n",
    "\n",
    "    # Jan 2020 - current, March 2018 - Present\n",
    "    {\"label\": \"DATE\", \"pattern\": [{\"LOWER\": {\"in\": [\"jan\", \"feb\", \"mar\", \"apr\", \"may\", \"jun\", \"jul\", \"aug\", \"sep\", \"oct\", \"nov\", \"dec\", \"january\", \"february\", \"march\", \"april\", \"may\", \"june\", \"july\", \"august\", \"september\", \"october\", \"november\", \"december\"]}}, {\"TEXT\": {\"REGEX\": \"^\\d{4}$\"}}, {\"TEXT\": \"-\"}, {\"LOWER\": {\"in\": [\"current\", \"present\"]}}]},\n",
    "\n",
    "    # 2020 - current\n",
    "    {\"label\": \"DATE\", \"pattern\": [{\"SHAPE\": \"dddd\"}, {\"TEXT\": \"-\"}, {\"LOWER\": {\"in\": [\"current\", \"present\"]}}]},\n",
    "    ]\n",
    "\n",
    "ruler = nlp.add_pipe(\"entity_ruler\", before='ner')\n",
    "# Add the pattern to the ruler\n",
    "ruler.add_patterns(patterns)\n",
    "\n",
    "# Use the nlp object on your text\n",
    "doc = nlp(text_with_dates)\n",
    "\n",
    "# Specify options for displacy\n",
    "options = {'ents': ['DATE']}\n",
    "# Use 'ent' as the style for entity visualization\n",
    "displacy.render(doc, style='ent', options=options)\n"
   ]
  },
  {
   "cell_type": "markdown",
   "metadata": {},
   "source": [
    "#### Calculate years of experience"
   ]
  },
  {
   "cell_type": "code",
   "execution_count": 70,
   "metadata": {},
   "outputs": [
    {
     "name": "stdout",
     "output_type": "stream",
     "text": [
      "['05/2015 - 06/2017', '01/2021 - Present', 'Jan 2022 - Present', 'Feb 2010 - Jan 2013', '07/2014 - 08/2016', 'January 2011 - February 2012', 'March 2018 - Present', '10/2019 - 07/2021', 'January 2011 to February 2012', '2019 - 2021', '2021 - 2023', '2020', 'Jan 2020 - current']\n"
     ]
    }
   ],
   "source": [
    "# Extract the dates\n",
    "dates = [ent.text for ent in doc.ents if ent.label_ == 'DATE']\n",
    "print(dates)"
   ]
  },
  {
   "cell_type": "code",
   "execution_count": 71,
   "metadata": {},
   "outputs": [
    {
     "name": "stdout",
     "output_type": "stream",
     "text": [
      "05/2015 - 06/2017 \t 2.08 yr\n",
      "01/2021 - Present \t 2.92 yr\n",
      "Jan 2022 - Present \t 1.92 yr\n",
      "Feb 2010 - Jan 2013 \t 2.92 yr\n",
      "07/2014 - 08/2016 \t 2.08 yr\n",
      "January 2011 - February 2012 \t 1.08 yr\n",
      "March 2018 - Present \t 5.75 yr\n",
      "10/2019 - 07/2021 \t 1.75 yr\n",
      "2019 - 2021 \t 2.0 yr\n",
      "2021 - 2023 \t 2.0 yr\n",
      "Jan 2020 - current \t 3.92 yr\n",
      "[2.08, 2.92, 1.92, 2.92, 2.08, 1.08, 5.75, 1.75, 2.0, 2.0, 3.92]\n"
     ]
    }
   ],
   "source": [
    "from dateutil import parser\n",
    "from dateutil.relativedelta import relativedelta\n",
    "from datetime import datetime\n",
    "\n",
    "def calculate_years(dates):\n",
    "    year_diffs = []\n",
    "    for date in dates:\n",
    "        # Check if the date is in the \"start - end\" format\n",
    "        if ' - ' not in date:\n",
    "            continue\n",
    "        \n",
    "        # Split the date range into start and end dates\n",
    "        start_date, end_date = date.split(' - ')\n",
    "        \n",
    "        # Replace 'Present' or 'current' with today's date\n",
    "        if 'present' in end_date.lower() or 'current' in end_date.lower():\n",
    "            end_date = datetime.today().strftime('%m/%Y')\n",
    "        \n",
    "        # Parse the dates\n",
    "        start_date = parser.parse(start_date)\n",
    "        end_date = parser.parse(end_date)\n",
    "        \n",
    "        # Calculate the difference in years (considering months)\n",
    "        diff = relativedelta(end_date, start_date)\n",
    "        years = diff.years + diff.months / 12\n",
    "        years = round(years, 2)\n",
    "        \n",
    "        year_diffs.append(years)\n",
    "        print(f'{date} \\t {years} yr')\n",
    "    return year_diffs\n",
    "\n",
    "print(calculate_years(dates))"
   ]
  },
  {
   "cell_type": "markdown",
   "metadata": {},
   "source": [
    "Job Experience Requirements"
   ]
  },
  {
   "cell_type": "code",
   "execution_count": 72,
   "metadata": {},
   "outputs": [
    {
     "data": {
      "text/plain": [
       "[0.5, 1, 2, 0]"
      ]
     },
     "execution_count": 72,
     "metadata": {},
     "output_type": "execute_result"
    }
   ],
   "source": [
    "import re\n",
    "\n",
    "def extract_min_experience(text):\n",
    "    # Define the regular expression patterns\n",
    "    pattern_months = r'(\\d+)(?=\\s*month)'\n",
    "    pattern_years = r'(\\d+)(?=\\s*year)'\n",
    "    \n",
    "    # Use search to get the first match\n",
    "    match_years = re.search(pattern_years, text)\n",
    "    match_months = re.search(pattern_months, text)\n",
    "    \n",
    "    # If a match was found, convert it to an integer and return\n",
    "    if match_years:\n",
    "        return int(match_years.group())\n",
    "    elif match_months:\n",
    "        return int(match_months.group()) / 12  # Convert months to years\n",
    "    \n",
    "    # If no match was found, return None\n",
    "    return 0\n",
    "\n",
    "# Test the function\n",
    "job_exp = [\n",
    "'Minimum 6 months of professional front-end development experience.',\n",
    "'More than 1 year.',\n",
    "'A minimum of 2 years of professional experience',\n",
    "'No experience'\n",
    "]\n",
    "min_yoe = [extract_min_experience(job) for job in job_exp]\n",
    "min_yoe"
   ]
  },
  {
   "cell_type": "markdown",
   "metadata": {},
   "source": [
    "Find experience_score"
   ]
  },
  {
   "cell_type": "code",
   "execution_count": 73,
   "metadata": {},
   "outputs": [
    {
     "name": "stdout",
     "output_type": "stream",
     "text": [
      "2.08 \t 1.0\n",
      "2.92 \t 1.0\n",
      "1.92 \t 0.96\n",
      "2.92 \t 1.0\n",
      "2.08 \t 1.0\n",
      "1.08 \t 0.54\n",
      "5.75 \t 1.0\n",
      "1.75 \t 0.875\n",
      "2.0 \t 1.0\n",
      "3.0 \t 1.0\n",
      "3.92 \t 1.0\n"
     ]
    }
   ],
   "source": [
    "applicant_years_list = [2.08, 2.92, 1.92, 2.92, 2.08, 1.08, 5.75, 1.75, 2.0, 3.0, 3.92]\n",
    "target_job_experience = 2\n",
    "for applicant_years in applicant_years_list:\n",
    "    if target_job_experience == 0:\n",
    "        experience_score = 1.0\n",
    "    else:\n",
    "        experience_score = min(applicant_years / target_job_experience, 1.0)\n",
    "    print(f'{applicant_years} \\t {experience_score}')"
   ]
  }
 ],
 "metadata": {
  "kernelspec": {
   "display_name": "Python 3",
   "language": "python",
   "name": "python3"
  },
  "language_info": {
   "codemirror_mode": {
    "name": "ipython",
    "version": 3
   },
   "file_extension": ".py",
   "mimetype": "text/x-python",
   "name": "python",
   "nbconvert_exporter": "python",
   "pygments_lexer": "ipython3",
   "version": "3.11.0"
  }
 },
 "nbformat": 4,
 "nbformat_minor": 2
}
