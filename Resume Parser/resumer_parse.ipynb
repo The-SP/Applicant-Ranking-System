{
 "cells": [
  {
   "cell_type": "markdown",
   "metadata": {},
   "source": [
    "# Resume Parsing"
   ]
  },
  {
   "cell_type": "code",
   "execution_count": 39,
   "metadata": {},
   "outputs": [],
   "source": [
    "import fitz\n",
    "\n",
    "# Open the PDF file\n",
    "doc = fitz.open('resumes/node.pdf')"
   ]
  },
  {
   "cell_type": "markdown",
   "metadata": {},
   "source": [
    "## Group Text into sections\n",
    "To determine a section title, check if it fulfills all 3 following conditions:\n",
    "1. It is the only text item in the line\n",
    "2. It is bolded\n",
    "3. Its letters are all UPPERCASE  \n",
    "OR,\n",
    "- Perform a keyword matching against a list of common resume section title keywords."
   ]
  },
  {
   "cell_type": "code",
   "execution_count": 40,
   "metadata": {},
   "outputs": [
    {
     "data": {
      "text/plain": [
       "{'WORK EXPERIENCE': \"______________________________________________________________________ Resume Worded,  London, United Kingdom Education technology startup with 50+ employees and $100m+ annual revenue Node.js Developer 08/2021 – Present ● Developed a chatbot for RW's regional branch oﬃces, allowing sales teams to sell popular services to 1500+ customers. ● Built a high-performance, scalable, and effortless solution for web, N-tier, and 20+ distributed systems. ● Created the technical ﬂow, selection of tools and strategy for over 1200+ bots in the ﬁrst month of employment. ● Integrated 40+ user-facing elements created by front-end developers with server-side logic. Polyhire,  London, United Kingdom NYSE-listed recruitment and employer branding company VMware Administrator 10/2019 – 07/2021 ● Delivered OS support for 60+ non-virtualized servers using Microsoft Windows Group Policy Objects (GPO) and other software tools. ● Established VPN connectivity for remote access to 30+ internal resources at Polyhire in 2020 and 2021. ● Provided support for outdated accounting systems and installed software on 120+ client machines within 15 weeks on the job. ● Created and maintained a virtual environment using VSphere 5.0 and ESXi 5.0 with 210+ virtual and 440+ physical servers. Growthsi,  London, United Kingdom & Barcelona, Spain Career training and membership SaaS with 150,000 users Mobile Developer 11/2018 – 09/2019 ● Launched a new mobile app that generated 50K downloads within 48 hours of release on Google Playstore. ● Initiated work on DVR Remote services that allow mobile app communication with 250+ setup boxes to get data about available disk space, programs, and other information. ● Developed a mobile app prototype used by 10+ senior management teams during negotiation for $400K acquisition ﬁnancing by a Fortune 500 company. ● Incorporated feedback from 3400+ beta testers to produce version 2.0.15 of 'Instagrowth,' a popular app by Growthsi. \",\n",
       " 'PREVIOUS EXPERIENCE': '______________________________________________________________________ Programmer,  ABC Company, London, UK 06/2017 – 10/2018 Game Developer,  XYZ Company, New York, USA 01/2016 – 05/2017 Java Web Developer (Internship),  ABC, New York, USA 07/2014 – 12/2015 ',\n",
       " 'CONTACT': '__________________________ •  Dundee, United Kingdom •  +44 1234567890 •  ﬁrst.last@gmail.com ',\n",
       " 'SKILLS': '__________________________ Hard Skills: •  Software Testing •  Front-end Framing •  Asynchronous Programming •  Error-Handling •  Long Polling •  Sharding Techniques : •  Package Management •  Web Application Frameworks •  Authentication Architecture: •  Monolith •  Microservices •  Serverless •  Layers Languages : •  English (Native) •  Romanian (Native) •  Spanish (Conversational) ',\n",
       " 'EDUCATION': '__________________________ University of New York Associate of Applied Science Computer Programming New York City, New York 10/2011 - 06/2014 ',\n",
       " 'OTHER': '___________________________ •  Node.js Application Developer Certiﬁcation •  Certiﬁed Node.js Developer (CND) '}"
      ]
     },
     "execution_count": 40,
     "metadata": {},
     "output_type": "execute_result"
    }
   ],
   "source": [
    "\n",
    "# Initialize an empty dictionary to hold the sections\n",
    "sections = {}\n",
    "current_section = None\n",
    "\n",
    "# Define a list of common resume section titles\n",
    "keywords = [\n",
    "    \"PROFILE\", \"SUMMARY\", \"ABOUT ME\", \"PERSONAL PROFILE\", \"PERSONAL SUMMARY\",\n",
    "    \"WORK EXPERIENCE\", \"EXPERIENCE\", \"JOB HISTORY\", \"EMPLOYMENT HISTORY\",\n",
    "    \"EDUCATION\", \"EDUCATIONAL BACKGROUND\", \"ACADEMIC HISTORY\",\n",
    "    \"SKILLS\", \"ABILITIES\", \"COMPETENCIES\", \"EXPERTISE\",\n",
    "    \"PROJECTS\", \"PORTFOLIO\",\n",
    "    \"CERTIFICATIONS\", \"CREDENTIALS\", \"ACCREDITATIONS\",\n",
    "    \"AWARDS\", \"HONORS\", \"ACHIEVEMENTS\",\n",
    "    \"INTERESTS\", \"HOBBIES\", \"ACTIVITIES\",\n",
    "]\n",
    "\n",
    "# Loop over each page in the document\n",
    "for page in doc:\n",
    "    # Extract the text as a dictionary\n",
    "    blocks = page.get_text(\"dict\")[\"blocks\"]\n",
    "    \n",
    "    for b in blocks:  # iterate through the text blocks\n",
    "        if \"lines\" in b:\n",
    "            for l in b[\"lines\"]:  # iterate through the text lines\n",
    "                for s in l[\"spans\"]:  # iterate through the text spans\n",
    "                    if s[\"flags\"] == 20 and s[\"text\"].isupper():  # check if the text is bold and uppercase\n",
    "                        # This is a section title, so start a new section\n",
    "                        current_section = s[\"text\"]\n",
    "                        sections[current_section] = \"\"\n",
    "                    elif any(keyword == s[\"text\"].upper() for keyword in keywords):\n",
    "                        # The text contains a keyword, so start a new section\n",
    "                        current_section = s[\"text\"].upper()\n",
    "                        sections[current_section] = \"\"\n",
    "                    elif current_section is not None:\n",
    "                        # This is not a section title, so append it to the current section\n",
    "                        sections[current_section] += s[\"text\"] + \" \"\n",
    "\n",
    "sections"
   ]
  },
  {
   "cell_type": "code",
   "execution_count": 41,
   "metadata": {},
   "outputs": [
    {
     "name": "stdout",
     "output_type": "stream",
     "text": [
      "WORK EXPERIENCE\n",
      "______________________________________________________________________ Resume Worded,  London,\n",
      "United Kingdom Education technology startup with 50+ employees and $100m+ annual revenue Node.js\n",
      "Developer 08/2021 – Present ● Developed a chatbot for RW's regional branch oﬃces, allowing sales\n",
      "teams to sell popular services to 1500+ customers. ● Built a high-performance, scalable, and\n",
      "effortless solution for web, N-tier, and 20+ distributed systems. ● Created the technical ﬂow,\n",
      "selection of tools and strategy for over 1200+ bots in the ﬁrst month of employment. ● Integrated\n",
      "40+ user-facing elements created by front-end developers with server-side logic. Polyhire,  London,\n",
      "United Kingdom NYSE-listed recruitment and employer branding company VMware Administrator 10/2019 –\n",
      "07/2021 ● Delivered OS support for 60+ non-virtualized servers using Microsoft Windows Group Policy\n",
      "Objects (GPO) and other software tools. ● Established VPN connectivity for remote access to 30+\n",
      "internal resources at Polyhire in 2020 and 2021. ● Provided support for outdated accounting systems\n",
      "and installed software on 120+ client machines within 15 weeks on the job. ● Created and maintained\n",
      "a virtual environment using VSphere 5.0 and ESXi 5.0 with 210+ virtual and 440+ physical servers.\n",
      "Growthsi,  London, United Kingdom & Barcelona, Spain Career training and membership SaaS with\n",
      "150,000 users Mobile Developer 11/2018 – 09/2019 ● Launched a new mobile app that generated 50K\n",
      "downloads within 48 hours of release on Google Playstore. ● Initiated work on DVR Remote services\n",
      "that allow mobile app communication with 250+ setup boxes to get data about available disk space,\n",
      "programs, and other information. ● Developed a mobile app prototype used by 10+ senior management\n",
      "teams during negotiation for $400K acquisition ﬁnancing by a Fortune 500 company. ● Incorporated\n",
      "feedback from 3400+ beta testers to produce version 2.0.15 of 'Instagrowth,' a popular app by\n",
      "Growthsi.\n",
      "----------------------------------------------------------------------------------------------------\n",
      "PREVIOUS EXPERIENCE\n",
      "______________________________________________________________________ Programmer,  ABC Company,\n",
      "London, UK 06/2017 – 10/2018 Game Developer,  XYZ Company, New York, USA 01/2016 – 05/2017 Java Web\n",
      "Developer (Internship),  ABC, New York, USA 07/2014 – 12/2015\n",
      "----------------------------------------------------------------------------------------------------\n",
      "CONTACT\n",
      "__________________________ •  Dundee, United Kingdom •  +44 1234567890 •  ﬁrst.last@gmail.com\n",
      "----------------------------------------------------------------------------------------------------\n",
      "SKILLS\n",
      "__________________________ Hard Skills: •  Software Testing •  Front-end Framing •  Asynchronous\n",
      "Programming •  Error-Handling •  Long Polling •  Sharding Techniques : •  Package Management •  Web\n",
      "Application Frameworks •  Authentication Architecture: •  Monolith •  Microservices •  Serverless •\n",
      "Layers Languages : •  English (Native) •  Romanian (Native) •  Spanish (Conversational)\n",
      "----------------------------------------------------------------------------------------------------\n",
      "EDUCATION\n",
      "__________________________ University of New York Associate of Applied Science Computer Programming\n",
      "New York City, New York 10/2011 - 06/2014\n",
      "----------------------------------------------------------------------------------------------------\n",
      "OTHER\n",
      "___________________________ •  Node.js Application Developer Certiﬁcation •  Certiﬁed Node.js\n",
      "Developer (CND)\n",
      "----------------------------------------------------------------------------------------------------\n"
     ]
    }
   ],
   "source": [
    "import textwrap\n",
    "\n",
    "for section, content in sections.items():\n",
    "    print(section)\n",
    "    wrapped_content = textwrap.fill(content, width=100)  # wraps the text at 50 characters\n",
    "    print(wrapped_content)\n",
    "    print(\"-\"*100)  # prints a line for separation"
   ]
  },
  {
   "cell_type": "markdown",
   "metadata": {},
   "source": [
    "### NER"
   ]
  },
  {
   "cell_type": "code",
   "execution_count": 42,
   "metadata": {},
   "outputs": [
    {
     "data": {
      "text/html": [
       "<span class=\"tex2jax_ignore\"><div class=\"entities\" style=\"line-height: 2.5; direction: ltr\">__________________________ \n",
       "<mark class=\"entity\" style=\"background: #7aecec; padding: 0.45em 0.6em; margin: 0 0.25em; line-height: 1; border-radius: 0.35em;\">\n",
       "    University of New York Associate of\n",
       "    <span style=\"font-size: 0.8em; font-weight: bold; line-height: 1; border-radius: 0.35em; vertical-align: middle; margin-left: 0.5rem\">ORG</span>\n",
       "</mark>\n",
       " \n",
       "<mark class=\"entity\" style=\"background: #7aecec; padding: 0.45em 0.6em; margin: 0 0.25em; line-height: 1; border-radius: 0.35em;\">\n",
       "    Applied Science Computer Programming New York City\n",
       "    <span style=\"font-size: 0.8em; font-weight: bold; line-height: 1; border-radius: 0.35em; vertical-align: middle; margin-left: 0.5rem\">ORG</span>\n",
       "</mark>\n",
       ", \n",
       "<mark class=\"entity\" style=\"background: #feca74; padding: 0.45em 0.6em; margin: 0 0.25em; line-height: 1; border-radius: 0.35em;\">\n",
       "    New York\n",
       "    <span style=\"font-size: 0.8em; font-weight: bold; line-height: 1; border-radius: 0.35em; vertical-align: middle; margin-left: 0.5rem\">GPE</span>\n",
       "</mark>\n",
       " 10/2011 - 06/2014 </div></span>"
      ],
      "text/plain": [
       "<IPython.core.display.HTML object>"
      ]
     },
     "metadata": {},
     "output_type": "display_data"
    }
   ],
   "source": [
    "import spacy\n",
    "from spacy import displacy\n",
    "\n",
    "nlp = spacy.load(\"en_core_web_sm\")\n",
    "doc = nlp(sections['EDUCATION'])\n",
    "\n",
    "# Use 'ent' as the style for entity visualization\n",
    "displacy.render(doc, style='ent')"
   ]
  },
  {
   "cell_type": "markdown",
   "metadata": {},
   "source": [
    "## Identify Degree and Major in Education"
   ]
  },
  {
   "cell_type": "markdown",
   "metadata": {},
   "source": [
    "Our system uses spacy library to extract information (degree and major) from Education. We prepared a dictionary that has all education degrees and majors related to computer engineering field. We fed that dictionary to the Spacy rule-based EntityRuler in order to detect and recognize entities in our job description."
   ]
  },
  {
   "cell_type": "code",
   "execution_count": 43,
   "metadata": {},
   "outputs": [],
   "source": [
    "import spacy"
   ]
  },
  {
   "cell_type": "code",
   "execution_count": 44,
   "metadata": {},
   "outputs": [],
   "source": [
    "def match_degrees_by_spacy():\n",
    "    nlp = spacy.load(\"en_core_web_sm\")\n",
    "    # Add the pattern to the matcher\n",
    "    patterns_path = 'degrees.jsonl'\n",
    "    ruler = nlp.add_pipe(\"entity_ruler\", before='ner')\n",
    "    ruler.from_disk(patterns_path)\n",
    "    # Process some text\n",
    "    doc1 = nlp(sections['EDUCATION'])\n",
    "    degree_levels = []\n",
    "    for ent in doc1.ents:\n",
    "        labels_parts = ent.label_.split('|')\n",
    "        if labels_parts[0] == 'DEGREE':\n",
    "            print((ent.text, ent.label_))\n",
    "            if labels_parts[1] not in degree_levels:\n",
    "                degree_levels.append(labels_parts[1])\n",
    "    return degree_levels\n",
    "\n",
    "\n",
    "def match_majors_by_spacy():\n",
    "    nlp = spacy.load(\"en_core_web_sm\")\n",
    "    # Add the pattern to the matcher\n",
    "    patterns_path = 'majors.jsonl'\n",
    "    ruler = nlp.add_pipe(\"entity_ruler\", before='ner')\n",
    "    ruler.from_disk(patterns_path)\n",
    "    # Process some text\n",
    "    doc1 = nlp(sections['EDUCATION'])\n",
    "\n",
    "    displacy.render(doc1, style='ent')\n",
    "\n",
    "    acceptable_majors = []\n",
    "    for ent in doc1.ents:\n",
    "        labels_parts = ent.label_.split('|')\n",
    "        if labels_parts[0] == 'MAJOR':\n",
    "            if labels_parts[2].replace('-', ' ') not in acceptable_majors:\n",
    "                acceptable_majors.append(labels_parts[2].replace('-', ' '))\n",
    "            if labels_parts[2].replace('-', ' ') not in acceptable_majors:\n",
    "                acceptable_majors.append(labels_parts[2].replace('-', ' '))\n",
    "    return acceptable_majors"
   ]
  },
  {
   "cell_type": "code",
   "execution_count": 45,
   "metadata": {},
   "outputs": [
    {
     "name": "stdout",
     "output_type": "stream",
     "text": [
      "('University', 'DEGREE|BACHELOR')\n"
     ]
    },
    {
     "data": {
      "text/plain": [
       "['BACHELOR']"
      ]
     },
     "execution_count": 45,
     "metadata": {},
     "output_type": "execute_result"
    }
   ],
   "source": [
    "match_degrees_by_spacy()"
   ]
  },
  {
   "cell_type": "code",
   "execution_count": 46,
   "metadata": {},
   "outputs": [
    {
     "data": {
      "text/html": [
       "<span class=\"tex2jax_ignore\"><div class=\"entities\" style=\"line-height: 2.5; direction: ltr\">__________________________ \n",
       "<mark class=\"entity\" style=\"background: #7aecec; padding: 0.45em 0.6em; margin: 0 0.25em; line-height: 1; border-radius: 0.35em;\">\n",
       "    University of New York Associate of\n",
       "    <span style=\"font-size: 0.8em; font-weight: bold; line-height: 1; border-radius: 0.35em; vertical-align: middle; margin-left: 0.5rem\">ORG</span>\n",
       "</mark>\n",
       " \n",
       "<mark class=\"entity\" style=\"background: #7aecec; padding: 0.45em 0.6em; margin: 0 0.25em; line-height: 1; border-radius: 0.35em;\">\n",
       "    Applied Science\n",
       "    <span style=\"font-size: 0.8em; font-weight: bold; line-height: 1; border-radius: 0.35em; vertical-align: middle; margin-left: 0.5rem\">ORG</span>\n",
       "</mark>\n",
       " \n",
       "<mark class=\"entity\" style=\"background: #ddd; padding: 0.45em 0.6em; margin: 0 0.25em; line-height: 1; border-radius: 0.35em;\">\n",
       "    Computer Programming\n",
       "    <span style=\"font-size: 0.8em; font-weight: bold; line-height: 1; border-radius: 0.35em; vertical-align: middle; margin-left: 0.5rem\">MAJOR|DEV MAJOR|computer-programming</span>\n",
       "</mark>\n",
       " \n",
       "<mark class=\"entity\" style=\"background: #feca74; padding: 0.45em 0.6em; margin: 0 0.25em; line-height: 1; border-radius: 0.35em;\">\n",
       "    New York City\n",
       "    <span style=\"font-size: 0.8em; font-weight: bold; line-height: 1; border-radius: 0.35em; vertical-align: middle; margin-left: 0.5rem\">GPE</span>\n",
       "</mark>\n",
       ", \n",
       "<mark class=\"entity\" style=\"background: #feca74; padding: 0.45em 0.6em; margin: 0 0.25em; line-height: 1; border-radius: 0.35em;\">\n",
       "    New York\n",
       "    <span style=\"font-size: 0.8em; font-weight: bold; line-height: 1; border-radius: 0.35em; vertical-align: middle; margin-left: 0.5rem\">GPE</span>\n",
       "</mark>\n",
       " 10/2011 - 06/2014 </div></span>"
      ],
      "text/plain": [
       "<IPython.core.display.HTML object>"
      ]
     },
     "metadata": {},
     "output_type": "display_data"
    },
    {
     "data": {
      "text/plain": [
       "['computer programming']"
      ]
     },
     "execution_count": 46,
     "metadata": {},
     "output_type": "execute_result"
    }
   ],
   "source": [
    "match_majors_by_spacy()"
   ]
  },
  {
   "cell_type": "markdown",
   "metadata": {},
   "source": [
    "## Extract Dates"
   ]
  },
  {
   "cell_type": "markdown",
   "metadata": {},
   "source": [
    "We need to extract the dates under EXPERIENCE section. Then calculate the total years of experience from it."
   ]
  },
  {
   "cell_type": "code",
   "execution_count": 48,
   "metadata": {},
   "outputs": [],
   "source": [
    "text_with_dates = '''\n",
    "I was employed at Company D from 05/2015 - 06/2017.\n",
    "My time at Company E spanned from March '18 - April '20.\n",
    "I worked on a project from 01/2021 - Present.\n",
    "I was part of Company F from Feb 2010 - Jan 2013.\n",
    "My tenure at Company G was from 07/2014 - 08/2016.\n",
    "I worked at Company A from January 2011 - February 2012. \n",
    "Then, I joined Company B in March 2012 - Present. \n",
    "I was part of a project from 10/2019 - 07/2021. \n",
    "My tenure at Company C spanned from Jan '15 - Dec '18.\n",
    "I worked at Company A from January 2011 to February 2012. \n",
    "Then, I joined Company B in March 2012 and have been working there till present. \n",
    "I was part of a project from 10/2019 to 07/2021. \n",
    "'''"
   ]
  },
  {
   "cell_type": "code",
   "execution_count": 51,
   "metadata": {},
   "outputs": [
    {
     "data": {
      "text/html": [
       "<span class=\"tex2jax_ignore\"><div class=\"entities\" style=\"line-height: 2.5; direction: ltr\"><br>I was employed at Company D from \n",
       "<mark class=\"entity\" style=\"background: #e4e7d2; padding: 0.45em 0.6em; margin: 0 0.25em; line-height: 1; border-radius: 0.35em;\">\n",
       "    05/2015 - 06/2017\n",
       "    <span style=\"font-size: 0.8em; font-weight: bold; line-height: 1; border-radius: 0.35em; vertical-align: middle; margin-left: 0.5rem\">CARDINAL</span>\n",
       "</mark>\n",
       ".<br>My time at Company E spanned from \n",
       "<mark class=\"entity\" style=\"background: #bfe1d9; padding: 0.45em 0.6em; margin: 0 0.25em; line-height: 1; border-radius: 0.35em;\">\n",
       "    March\n",
       "    <span style=\"font-size: 0.8em; font-weight: bold; line-height: 1; border-radius: 0.35em; vertical-align: middle; margin-left: 0.5rem\">DATE</span>\n",
       "</mark>\n",
       " '\n",
       "<mark class=\"entity\" style=\"background: #bfe1d9; padding: 0.45em 0.6em; margin: 0 0.25em; line-height: 1; border-radius: 0.35em;\">\n",
       "    18 - April '20\n",
       "    <span style=\"font-size: 0.8em; font-weight: bold; line-height: 1; border-radius: 0.35em; vertical-align: middle; margin-left: 0.5rem\">DATE</span>\n",
       "</mark>\n",
       ".<br>I worked on a project from 01/2021 - Present.<br>I was part of Company F from \n",
       "<mark class=\"entity\" style=\"background: #bfe1d9; padding: 0.45em 0.6em; margin: 0 0.25em; line-height: 1; border-radius: 0.35em;\">\n",
       "    Feb 2010 - Jan 2013\n",
       "    <span style=\"font-size: 0.8em; font-weight: bold; line-height: 1; border-radius: 0.35em; vertical-align: middle; margin-left: 0.5rem\">DATE</span>\n",
       "</mark>\n",
       ".<br>My tenure at Company G was from 07/2014 - 08/2016.<br>I worked at Company A from \n",
       "<mark class=\"entity\" style=\"background: #bfe1d9; padding: 0.45em 0.6em; margin: 0 0.25em; line-height: 1; border-radius: 0.35em;\">\n",
       "    January 2011 - February 2012\n",
       "    <span style=\"font-size: 0.8em; font-weight: bold; line-height: 1; border-radius: 0.35em; vertical-align: middle; margin-left: 0.5rem\">DATE</span>\n",
       "</mark>\n",
       ". <br>Then, I joined Company B in \n",
       "<mark class=\"entity\" style=\"background: #bfe1d9; padding: 0.45em 0.6em; margin: 0 0.25em; line-height: 1; border-radius: 0.35em;\">\n",
       "    March 2012 - Present\n",
       "    <span style=\"font-size: 0.8em; font-weight: bold; line-height: 1; border-radius: 0.35em; vertical-align: middle; margin-left: 0.5rem\">DATE</span>\n",
       "</mark>\n",
       ". <br>I was part of a project from \n",
       "<mark class=\"entity\" style=\"background: #e4e7d2; padding: 0.45em 0.6em; margin: 0 0.25em; line-height: 1; border-radius: 0.35em;\">\n",
       "    10/2019\n",
       "    <span style=\"font-size: 0.8em; font-weight: bold; line-height: 1; border-radius: 0.35em; vertical-align: middle; margin-left: 0.5rem\">CARDINAL</span>\n",
       "</mark>\n",
       " - 07/2021. <br>My tenure at Company C spanned from \n",
       "<mark class=\"entity\" style=\"background: #bfe1d9; padding: 0.45em 0.6em; margin: 0 0.25em; line-height: 1; border-radius: 0.35em;\">\n",
       "    Jan '\n",
       "    <span style=\"font-size: 0.8em; font-weight: bold; line-height: 1; border-radius: 0.35em; vertical-align: middle; margin-left: 0.5rem\">DATE</span>\n",
       "</mark>\n",
       "15 - Dec \n",
       "<mark class=\"entity\" style=\"background: #bfe1d9; padding: 0.45em 0.6em; margin: 0 0.25em; line-height: 1; border-radius: 0.35em;\">\n",
       "    '18\n",
       "    <span style=\"font-size: 0.8em; font-weight: bold; line-height: 1; border-radius: 0.35em; vertical-align: middle; margin-left: 0.5rem\">DATE</span>\n",
       "</mark>\n",
       ".<br>I worked at Company A from \n",
       "<mark class=\"entity\" style=\"background: #bfe1d9; padding: 0.45em 0.6em; margin: 0 0.25em; line-height: 1; border-radius: 0.35em;\">\n",
       "    January 2011 to February 2012\n",
       "    <span style=\"font-size: 0.8em; font-weight: bold; line-height: 1; border-radius: 0.35em; vertical-align: middle; margin-left: 0.5rem\">DATE</span>\n",
       "</mark>\n",
       ". <br>Then, I joined Company B in \n",
       "<mark class=\"entity\" style=\"background: #bfe1d9; padding: 0.45em 0.6em; margin: 0 0.25em; line-height: 1; border-radius: 0.35em;\">\n",
       "    March 2012\n",
       "    <span style=\"font-size: 0.8em; font-weight: bold; line-height: 1; border-radius: 0.35em; vertical-align: middle; margin-left: 0.5rem\">DATE</span>\n",
       "</mark>\n",
       " and have been working there till present. <br>I was part of a project from \n",
       "<mark class=\"entity\" style=\"background: #e4e7d2; padding: 0.45em 0.6em; margin: 0 0.25em; line-height: 1; border-radius: 0.35em;\">\n",
       "    10/2019\n",
       "    <span style=\"font-size: 0.8em; font-weight: bold; line-height: 1; border-radius: 0.35em; vertical-align: middle; margin-left: 0.5rem\">CARDINAL</span>\n",
       "</mark>\n",
       " to 07/2021. <br></div></span>"
      ],
      "text/plain": [
       "<IPython.core.display.HTML object>"
      ]
     },
     "metadata": {},
     "output_type": "display_data"
    }
   ],
   "source": [
    "doc = nlp(text_with_dates)\n",
    "\n",
    "# Specify options for displacy\n",
    "options = {'ents': ['DATE', 'Cardinal']}\n",
    "# Use 'ent' as the style for entity visualization\n",
    "displacy.render(doc, style='ent', options=options)"
   ]
  }
 ],
 "metadata": {
  "kernelspec": {
   "display_name": "Python 3",
   "language": "python",
   "name": "python3"
  },
  "language_info": {
   "codemirror_mode": {
    "name": "ipython",
    "version": 3
   },
   "file_extension": ".py",
   "mimetype": "text/x-python",
   "name": "python",
   "nbconvert_exporter": "python",
   "pygments_lexer": "ipython3",
   "version": "3.11.0"
  }
 },
 "nbformat": 4,
 "nbformat_minor": 2
}
