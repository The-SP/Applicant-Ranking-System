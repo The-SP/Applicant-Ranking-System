{
 "cells": [
  {
   "cell_type": "markdown",
   "metadata": {},
   "source": [
    "# Resume Parsing"
   ]
  },
  {
   "cell_type": "code",
   "execution_count": 1,
   "metadata": {},
   "outputs": [],
   "source": [
    "import fitz\n",
    "\n",
    "# Open the PDF file\n",
    "doc = fitz.open('resumes/react.pdf')"
   ]
  },
  {
   "cell_type": "markdown",
   "metadata": {},
   "source": [
    "## Group Text into sections\n",
    "To determine a section title, check if it fulfills all 3 following conditions:\n",
    "1. It is the only text item in the line\n",
    "2. It is bolded\n",
    "3. Its letters are all UPPERCASE  \n",
    "OR,\n",
    "- Perform a keyword matching against a list of common resume section title keywords."
   ]
  },
  {
   "cell_type": "code",
   "execution_count": 2,
   "metadata": {},
   "outputs": [
    {
     "data": {
      "text/plain": [
       "{'WORK EXPERIENCE': '_______________________________________________________________________________________________________________ Resume Worded, New York, NY 09/2015 – Present Education technology startup with 50+ employees and $100m+ annual revenue React Developer ● Decreased load times by 58% using isomorphic React and Node.js for 13 web applications one month after taking over the project. ● Partnered with a team of 5 developers to create 14 e-commerce websites using React and NodeJS in the ﬁrst month on the job. ● Reduced the time spent on development by 73% by creating maintainable reusable components. ● Created an interactive and user-friendly website experience by working with a team of 25 developers for one month. Polyhire, London, United Kingdom 10/2012 – 08/2015 NYSE-listed recruitment and employer branding company Mobile Application Developer ● Created a web service used by 200K clients and generates $100K monthly within 20 days after inception. ● Devised a system to host mobile applications using Polyhire servers instead of remote, leading to cost savings of $940K per month. ● Designed a video game idea for 2M children on Ubuntu-based PCs scaled for large TV displays across the country. Growthsi, London, United Kingdom 07/2010 – 09/2012 Career training and membership SaaS with 150,000 paying users Mobile Developer ● Launched a new mobile app, BMI First, that generated 100K downloads and was featured in Time Magazine as the  “App of the Year.\" ● Created a mobile game \\'SpaceX\\' program that was downloaded 200K times and played by 15M people. ● Established Objective-C libraries & APIs, utilizing OOP and modeled data structures that can be used on 48 different apps. UI Developer,  ABC Company, London, United Kingdom 10/2008 – 06/2009 Programmer,  XYZ Company, London, United Kingdom 07/2005 – 09/2008 ',\n",
       " 'EDUCATION': '_______________________________________________________________________________________________________________ Resume Worded University,  New York, NY 06/2005 Bachelor of Science —\\xa0Computer Science ',\n",
       " 'SKILLS': '_______________________________________________________________________________________________________________ Hard Skills : SEO Integration (Advanced), Unit Testing (Experienced), TDD/BDD, UI Development, Debugging, Coding. Programming Languages : PHP, MySQL, MongoDB (Advanced), C++, Java, JSX, Angular, Sigma, DevOps, JUnit. '}"
      ]
     },
     "execution_count": 2,
     "metadata": {},
     "output_type": "execute_result"
    }
   ],
   "source": [
    "\n",
    "# Initialize an empty dictionary to hold the sections\n",
    "sections = {}\n",
    "current_section = None\n",
    "\n",
    "# Define a list of common resume section titles\n",
    "keywords = [\n",
    "    \"PROFILE\", \"SUMMARY\", \"ABOUT ME\", \"PERSONAL PROFILE\", \"PERSONAL SUMMARY\",\n",
    "    \"WORK EXPERIENCE\", \"EXPERIENCE\", \"JOB HISTORY\", \"EMPLOYMENT HISTORY\",\n",
    "    \"EDUCATION\", \"EDUCATIONAL BACKGROUND\", \"ACADEMIC HISTORY\",\n",
    "    \"SKILLS\", \"ABILITIES\", \"COMPETENCIES\", \"EXPERTISE\",\n",
    "    \"PROJECTS\", \"PORTFOLIO\",\n",
    "    \"CERTIFICATIONS\", \"CREDENTIALS\", \"ACCREDITATIONS\",\n",
    "    \"AWARDS\", \"HONORS\", \"ACHIEVEMENTS\",\n",
    "    \"INTERESTS\", \"HOBBIES\", \"ACTIVITIES\",\n",
    "]\n",
    "\n",
    "# Loop over each page in the document\n",
    "for page in doc:\n",
    "    # Extract the text as a dictionary\n",
    "    blocks = page.get_text(\"dict\")[\"blocks\"]\n",
    "    \n",
    "    for b in blocks:  # iterate through the text blocks\n",
    "        if \"lines\" in b:\n",
    "            for l in b[\"lines\"]:  # iterate through the text lines\n",
    "                for s in l[\"spans\"]:  # iterate through the text spans\n",
    "                    if s[\"flags\"] == 20 and s[\"text\"].isupper():  # check if the text is bold and uppercase\n",
    "                        # This is a section title, so start a new section\n",
    "                        current_section = s[\"text\"]\n",
    "                        sections[current_section] = \"\"\n",
    "                    elif any(keyword == s[\"text\"].upper() for keyword in keywords):\n",
    "                        # The text contains a keyword, so start a new section\n",
    "                        current_section = s[\"text\"].upper()\n",
    "                        sections[current_section] = \"\"\n",
    "                    elif current_section is not None:\n",
    "                        # This is not a section title, so append it to the current section\n",
    "                        sections[current_section] += s[\"text\"] + \" \"\n",
    "\n",
    "sections"
   ]
  },
  {
   "cell_type": "code",
   "execution_count": 3,
   "metadata": {},
   "outputs": [
    {
     "name": "stdout",
     "output_type": "stream",
     "text": [
      "WORK EXPERIENCE\n",
      "____________________________________________________________________________________________________\n",
      "___________ Resume Worded, New York, NY 09/2015 – Present Education technology startup with 50+\n",
      "employees and $100m+ annual revenue React Developer ● Decreased load times by 58% using isomorphic\n",
      "React and Node.js for 13 web applications one month after taking over the project. ● Partnered with\n",
      "a team of 5 developers to create 14 e-commerce websites using React and NodeJS in the ﬁrst month on\n",
      "the job. ● Reduced the time spent on development by 73% by creating maintainable reusable\n",
      "components. ● Created an interactive and user-friendly website experience by working with a team of\n",
      "25 developers for one month. Polyhire, London, United Kingdom 10/2012 – 08/2015 NYSE-listed\n",
      "recruitment and employer branding company Mobile Application Developer ● Created a web service used\n",
      "by 200K clients and generates $100K monthly within 20 days after inception. ● Devised a system to\n",
      "host mobile applications using Polyhire servers instead of remote, leading to cost savings of $940K\n",
      "per month. ● Designed a video game idea for 2M children on Ubuntu-based PCs scaled for large TV\n",
      "displays across the country. Growthsi, London, United Kingdom 07/2010 – 09/2012 Career training and\n",
      "membership SaaS with 150,000 paying users Mobile Developer ● Launched a new mobile app, BMI First,\n",
      "that generated 100K downloads and was featured in Time Magazine as the  “App of the Year.\" ● Created\n",
      "a mobile game 'SpaceX' program that was downloaded 200K times and played by 15M people. ●\n",
      "Established Objective-C libraries & APIs, utilizing OOP and modeled data structures that can be used\n",
      "on 48 different apps. UI Developer,  ABC Company, London, United Kingdom 10/2008 – 06/2009\n",
      "Programmer,  XYZ Company, London, United Kingdom 07/2005 – 09/2008\n",
      "----------------------------------------------------------------------------------------------------\n",
      "EDUCATION\n",
      "____________________________________________________________________________________________________\n",
      "___________ Resume Worded University,  New York, NY 06/2005 Bachelor of Science — Computer Science\n",
      "----------------------------------------------------------------------------------------------------\n",
      "SKILLS\n",
      "____________________________________________________________________________________________________\n",
      "___________ Hard Skills : SEO Integration (Advanced), Unit Testing (Experienced), TDD/BDD, UI\n",
      "Development, Debugging, Coding. Programming Languages : PHP, MySQL, MongoDB (Advanced), C++, Java,\n",
      "JSX, Angular, Sigma, DevOps, JUnit.\n",
      "----------------------------------------------------------------------------------------------------\n"
     ]
    }
   ],
   "source": [
    "import textwrap\n",
    "\n",
    "for section, content in sections.items():\n",
    "    print(section)\n",
    "    wrapped_content = textwrap.fill(content, width=100)  # wraps the text at 50 characters\n",
    "    print(wrapped_content)\n",
    "    print(\"-\"*100)  # prints a line for separation"
   ]
  },
  {
   "cell_type": "markdown",
   "metadata": {},
   "source": [
    "### NER"
   ]
  },
  {
   "cell_type": "code",
   "execution_count": 2,
   "metadata": {},
   "outputs": [
    {
     "ename": "NameError",
     "evalue": "name 'sections' is not defined",
     "output_type": "error",
     "traceback": [
      "\u001b[1;31m---------------------------------------------------------------------------\u001b[0m",
      "\u001b[1;31mNameError\u001b[0m                                 Traceback (most recent call last)",
      "\u001b[1;32md:\\Programming\\Major Project\\Applicant Ranking\\Resume Parser\\resumer_parse.ipynb Cell 7\u001b[0m line \u001b[0;36m5\n\u001b[0;32m      <a href='vscode-notebook-cell:/d%3A/Programming/Major%20Project/Applicant%20Ranking/Resume%20Parser/resumer_parse.ipynb#W6sZmlsZQ%3D%3D?line=1'>2</a>\u001b[0m \u001b[39mfrom\u001b[39;00m \u001b[39mspacy\u001b[39;00m \u001b[39mimport\u001b[39;00m displacy\n\u001b[0;32m      <a href='vscode-notebook-cell:/d%3A/Programming/Major%20Project/Applicant%20Ranking/Resume%20Parser/resumer_parse.ipynb#W6sZmlsZQ%3D%3D?line=3'>4</a>\u001b[0m nlp \u001b[39m=\u001b[39m spacy\u001b[39m.\u001b[39mload(\u001b[39m\"\u001b[39m\u001b[39men_core_web_sm\u001b[39m\u001b[39m\"\u001b[39m)\n\u001b[1;32m----> <a href='vscode-notebook-cell:/d%3A/Programming/Major%20Project/Applicant%20Ranking/Resume%20Parser/resumer_parse.ipynb#W6sZmlsZQ%3D%3D?line=4'>5</a>\u001b[0m doc \u001b[39m=\u001b[39m nlp(sections[\u001b[39m'\u001b[39m\u001b[39mEDUCATION\u001b[39m\u001b[39m'\u001b[39m])\n\u001b[0;32m      <a href='vscode-notebook-cell:/d%3A/Programming/Major%20Project/Applicant%20Ranking/Resume%20Parser/resumer_parse.ipynb#W6sZmlsZQ%3D%3D?line=6'>7</a>\u001b[0m \u001b[39m# Use 'ent' as the style for entity visualization\u001b[39;00m\n\u001b[0;32m      <a href='vscode-notebook-cell:/d%3A/Programming/Major%20Project/Applicant%20Ranking/Resume%20Parser/resumer_parse.ipynb#W6sZmlsZQ%3D%3D?line=7'>8</a>\u001b[0m displacy\u001b[39m.\u001b[39mrender(doc, style\u001b[39m=\u001b[39m\u001b[39m'\u001b[39m\u001b[39ment\u001b[39m\u001b[39m'\u001b[39m)\n",
      "\u001b[1;31mNameError\u001b[0m: name 'sections' is not defined"
     ]
    }
   ],
   "source": [
    "import spacy\n",
    "from spacy import displacy\n",
    "\n",
    "nlp = spacy.load(\"en_core_web_sm\")\n",
    "doc = nlp(sections['EDUCATION'])\n",
    "\n",
    "# Use 'ent' as the style for entity visualization\n",
    "displacy.render(doc, style='ent')"
   ]
  },
  {
   "cell_type": "markdown",
   "metadata": {},
   "source": [
    "## Identify Degree and Major in Education"
   ]
  },
  {
   "cell_type": "markdown",
   "metadata": {},
   "source": [
    "Our system uses spacy library to extract information (degree and major) from Education. We prepared a dictionary that has all education degrees and majors related to computer engineering field. We fed that dictionary to the Spacy rule-based EntityRuler in order to detect and recognize entities in our job description."
   ]
  },
  {
   "cell_type": "code",
   "execution_count": 1,
   "metadata": {},
   "outputs": [],
   "source": [
    "import spacy"
   ]
  },
  {
   "cell_type": "code",
   "execution_count": 7,
   "metadata": {},
   "outputs": [],
   "source": [
    "def match_degrees_by_spacy():\n",
    "    nlp = spacy.load(\"en_core_web_sm\")\n",
    "    # Add the pattern to the matcher\n",
    "    patterns_path = 'degrees.jsonl'\n",
    "    ruler = nlp.add_pipe(\"entity_ruler\", before='ner')\n",
    "    ruler.from_disk(patterns_path)\n",
    "    # Process some text\n",
    "    doc1 = nlp(sections['EDUCATION'])\n",
    "    degree_levels = []\n",
    "    for ent in doc1.ents:\n",
    "        labels_parts = ent.label_.split('|')\n",
    "        if labels_parts[0] == 'DEGREE':\n",
    "            print((ent.text, ent.label_))\n",
    "            if labels_parts[1] not in degree_levels:\n",
    "                degree_levels.append(labels_parts[1])\n",
    "    return degree_levels\n",
    "\n",
    "\n",
    "def match_majors_by_spacy():\n",
    "    nlp = spacy.load(\"en_core_web_sm\")\n",
    "    # Add the pattern to the matcher\n",
    "    patterns_path = 'majors.jsonl'\n",
    "    ruler = nlp.add_pipe(\"entity_ruler\", before='ner')\n",
    "    ruler.from_disk(patterns_path)\n",
    "    # Process some text\n",
    "    doc1 = nlp(sections['EDUCATION'])\n",
    "\n",
    "    displacy.render(doc1, style='ent')\n",
    "\n",
    "    acceptable_majors = []\n",
    "    for ent in doc1.ents:\n",
    "        labels_parts = ent.label_.split('|')\n",
    "        if labels_parts[0] == 'MAJOR':\n",
    "            if labels_parts[2].replace('-', ' ') not in acceptable_majors:\n",
    "                acceptable_majors.append(labels_parts[2].replace('-', ' '))\n",
    "            if labels_parts[2].replace('-', ' ') not in acceptable_majors:\n",
    "                acceptable_majors.append(labels_parts[2].replace('-', ' '))\n",
    "    return acceptable_majors"
   ]
  },
  {
   "cell_type": "code",
   "execution_count": 8,
   "metadata": {},
   "outputs": [
    {
     "name": "stdout",
     "output_type": "stream",
     "text": [
      "('University', 'DEGREE|BACHELOR')\n",
      "('Bachelor', 'DEGREE|BACHELOR')\n"
     ]
    },
    {
     "data": {
      "text/plain": [
       "['BACHELOR']"
      ]
     },
     "execution_count": 8,
     "metadata": {},
     "output_type": "execute_result"
    }
   ],
   "source": [
    "match_degrees_by_spacy()"
   ]
  },
  {
   "cell_type": "code",
   "execution_count": 9,
   "metadata": {},
   "outputs": [
    {
     "data": {
      "text/html": [
       "<span class=\"tex2jax_ignore\"><div class=\"entities\" style=\"line-height: 2.5; direction: ltr\">_______________________________________________________________________________________________________________ \n",
       "<mark class=\"entity\" style=\"background: #7aecec; padding: 0.45em 0.6em; margin: 0 0.25em; line-height: 1; border-radius: 0.35em;\">\n",
       "    Resume Worded University\n",
       "    <span style=\"font-size: 0.8em; font-weight: bold; line-height: 1; border-radius: 0.35em; vertical-align: middle; margin-left: 0.5rem\">ORG</span>\n",
       "</mark>\n",
       ",  \n",
       "<mark class=\"entity\" style=\"background: #feca74; padding: 0.45em 0.6em; margin: 0 0.25em; line-height: 1; border-radius: 0.35em;\">\n",
       "    New York\n",
       "    <span style=\"font-size: 0.8em; font-weight: bold; line-height: 1; border-radius: 0.35em; vertical-align: middle; margin-left: 0.5rem\">GPE</span>\n",
       "</mark>\n",
       ", \n",
       "<mark class=\"entity\" style=\"background: #7aecec; padding: 0.45em 0.6em; margin: 0 0.25em; line-height: 1; border-radius: 0.35em;\">\n",
       "    NY\n",
       "    <span style=\"font-size: 0.8em; font-weight: bold; line-height: 1; border-radius: 0.35em; vertical-align: middle; margin-left: 0.5rem\">ORG</span>\n",
       "</mark>\n",
       " 06/2005 Bachelor of Science — \n",
       "<mark class=\"entity\" style=\"background: #ddd; padding: 0.45em 0.6em; margin: 0 0.25em; line-height: 1; border-radius: 0.35em;\">\n",
       "    Computer Science\n",
       "    <span style=\"font-size: 0.8em; font-weight: bold; line-height: 1; border-radius: 0.35em; vertical-align: middle; margin-left: 0.5rem\">MAJOR|DEV MAJOR|computer-science</span>\n",
       "</mark>\n",
       " </div></span>"
      ],
      "text/plain": [
       "<IPython.core.display.HTML object>"
      ]
     },
     "metadata": {},
     "output_type": "display_data"
    },
    {
     "data": {
      "text/plain": [
       "['computer science']"
      ]
     },
     "execution_count": 9,
     "metadata": {},
     "output_type": "execute_result"
    }
   ],
   "source": [
    "match_majors_by_spacy()"
   ]
  },
  {
   "cell_type": "markdown",
   "metadata": {},
   "source": [
    "## Extract Dates"
   ]
  },
  {
   "cell_type": "markdown",
   "metadata": {},
   "source": [
    "We need to extract the dates under EXPERIENCE section. Then calculate the total years of experience from it."
   ]
  },
  {
   "cell_type": "code",
   "execution_count": 10,
   "metadata": {},
   "outputs": [],
   "source": [
    "text_with_dates = '''\n",
    "I was employed at Company D from 05/2015 - 06/2017.\n",
    "I worked on a project from 01/2021 - Present.\n",
    "I worked on a project from Jan 2022 - Present.\n",
    "I was part of Company F from Feb 2010 - Jan 2013.\n",
    "My tenure at Company G was from 07/2014 - 08/2016.\n",
    "I worked at Company A from January 2011 - February 2012. \n",
    "Then, I joined Company B in March 2018 - Present. \n",
    "I was part of a project from 10/2019 - 07/2021. \n",
    "I worked at Company A from January 2011 to February 2012. \n",
    "I was part of a project from 10/2019 to 07/2021. \n",
    "My tenure at Company C spanned from Jan '15 - Dec '18.\n",
    "My time at Company E spanned from March '18 - April '20.\n",
    "'''"
   ]
  },
  {
   "cell_type": "code",
   "execution_count": 11,
   "metadata": {},
   "outputs": [
    {
     "data": {
      "text/html": [
       "<span class=\"tex2jax_ignore\"><div class=\"entities\" style=\"line-height: 2.5; direction: ltr\"><br>I was employed at Company D from \n",
       "<mark class=\"entity\" style=\"background: #bfe1d9; padding: 0.45em 0.6em; margin: 0 0.25em; line-height: 1; border-radius: 0.35em;\">\n",
       "    05/2015 - 06/2017\n",
       "    <span style=\"font-size: 0.8em; font-weight: bold; line-height: 1; border-radius: 0.35em; vertical-align: middle; margin-left: 0.5rem\">DATE</span>\n",
       "</mark>\n",
       ".<br>I worked on a project from \n",
       "<mark class=\"entity\" style=\"background: #bfe1d9; padding: 0.45em 0.6em; margin: 0 0.25em; line-height: 1; border-radius: 0.35em;\">\n",
       "    01/2021 - Present\n",
       "    <span style=\"font-size: 0.8em; font-weight: bold; line-height: 1; border-radius: 0.35em; vertical-align: middle; margin-left: 0.5rem\">DATE</span>\n",
       "</mark>\n",
       ".<br>I worked on a project from \n",
       "<mark class=\"entity\" style=\"background: #bfe1d9; padding: 0.45em 0.6em; margin: 0 0.25em; line-height: 1; border-radius: 0.35em;\">\n",
       "    Jan 2022 - Present\n",
       "    <span style=\"font-size: 0.8em; font-weight: bold; line-height: 1; border-radius: 0.35em; vertical-align: middle; margin-left: 0.5rem\">DATE</span>\n",
       "</mark>\n",
       ".<br>I was part of Company F from \n",
       "<mark class=\"entity\" style=\"background: #bfe1d9; padding: 0.45em 0.6em; margin: 0 0.25em; line-height: 1; border-radius: 0.35em;\">\n",
       "    Feb 2010 - Jan 2013\n",
       "    <span style=\"font-size: 0.8em; font-weight: bold; line-height: 1; border-radius: 0.35em; vertical-align: middle; margin-left: 0.5rem\">DATE</span>\n",
       "</mark>\n",
       ".<br>My tenure at Company G was from \n",
       "<mark class=\"entity\" style=\"background: #bfe1d9; padding: 0.45em 0.6em; margin: 0 0.25em; line-height: 1; border-radius: 0.35em;\">\n",
       "    07/2014 - 08/2016\n",
       "    <span style=\"font-size: 0.8em; font-weight: bold; line-height: 1; border-radius: 0.35em; vertical-align: middle; margin-left: 0.5rem\">DATE</span>\n",
       "</mark>\n",
       ".<br>I worked at Company A from \n",
       "<mark class=\"entity\" style=\"background: #bfe1d9; padding: 0.45em 0.6em; margin: 0 0.25em; line-height: 1; border-radius: 0.35em;\">\n",
       "    January 2011 - February 2012\n",
       "    <span style=\"font-size: 0.8em; font-weight: bold; line-height: 1; border-radius: 0.35em; vertical-align: middle; margin-left: 0.5rem\">DATE</span>\n",
       "</mark>\n",
       ". <br>Then, I joined Company B in \n",
       "<mark class=\"entity\" style=\"background: #bfe1d9; padding: 0.45em 0.6em; margin: 0 0.25em; line-height: 1; border-radius: 0.35em;\">\n",
       "    March 2018 - Present\n",
       "    <span style=\"font-size: 0.8em; font-weight: bold; line-height: 1; border-radius: 0.35em; vertical-align: middle; margin-left: 0.5rem\">DATE</span>\n",
       "</mark>\n",
       ". <br>I was part of a project from \n",
       "<mark class=\"entity\" style=\"background: #bfe1d9; padding: 0.45em 0.6em; margin: 0 0.25em; line-height: 1; border-radius: 0.35em;\">\n",
       "    10/2019 - 07/2021\n",
       "    <span style=\"font-size: 0.8em; font-weight: bold; line-height: 1; border-radius: 0.35em; vertical-align: middle; margin-left: 0.5rem\">DATE</span>\n",
       "</mark>\n",
       ". <br>I worked at Company A from \n",
       "<mark class=\"entity\" style=\"background: #bfe1d9; padding: 0.45em 0.6em; margin: 0 0.25em; line-height: 1; border-radius: 0.35em;\">\n",
       "    January 2011 to February 2012\n",
       "    <span style=\"font-size: 0.8em; font-weight: bold; line-height: 1; border-radius: 0.35em; vertical-align: middle; margin-left: 0.5rem\">DATE</span>\n",
       "</mark>\n",
       ". <br>I was part of a project from 10/2019 to 07/2021. <br>My tenure at Company C spanned from \n",
       "<mark class=\"entity\" style=\"background: #bfe1d9; padding: 0.45em 0.6em; margin: 0 0.25em; line-height: 1; border-radius: 0.35em;\">\n",
       "    Jan '\n",
       "    <span style=\"font-size: 0.8em; font-weight: bold; line-height: 1; border-radius: 0.35em; vertical-align: middle; margin-left: 0.5rem\">DATE</span>\n",
       "</mark>\n",
       "15 - Dec \n",
       "<mark class=\"entity\" style=\"background: #bfe1d9; padding: 0.45em 0.6em; margin: 0 0.25em; line-height: 1; border-radius: 0.35em;\">\n",
       "    '18\n",
       "    <span style=\"font-size: 0.8em; font-weight: bold; line-height: 1; border-radius: 0.35em; vertical-align: middle; margin-left: 0.5rem\">DATE</span>\n",
       "</mark>\n",
       ".<br>My time at Company E spanned from \n",
       "<mark class=\"entity\" style=\"background: #bfe1d9; padding: 0.45em 0.6em; margin: 0 0.25em; line-height: 1; border-radius: 0.35em;\">\n",
       "    March\n",
       "    <span style=\"font-size: 0.8em; font-weight: bold; line-height: 1; border-radius: 0.35em; vertical-align: middle; margin-left: 0.5rem\">DATE</span>\n",
       "</mark>\n",
       " '\n",
       "<mark class=\"entity\" style=\"background: #bfe1d9; padding: 0.45em 0.6em; margin: 0 0.25em; line-height: 1; border-radius: 0.35em;\">\n",
       "    18 - April '20\n",
       "    <span style=\"font-size: 0.8em; font-weight: bold; line-height: 1; border-radius: 0.35em; vertical-align: middle; margin-left: 0.5rem\">DATE</span>\n",
       "</mark>\n",
       ".<br></div></span>"
      ],
      "text/plain": [
       "<IPython.core.display.HTML object>"
      ]
     },
     "metadata": {},
     "output_type": "display_data"
    }
   ],
   "source": [
    "import spacy\n",
    "from spacy import displacy\n",
    "\n",
    "nlp = spacy.load(\"en_core_web_sm\")\n",
    "\n",
    "# Most of the date patterns are detected by default DATE entity\n",
    "# Define the pattern for '05/2015 - 06/2017' and '10/2020 - Present'.\n",
    "patterns = [{\"label\": \"DATE\", \"pattern\": [{\"SHAPE\": \"dd/dddd\"}, {\"TEXT\": \"-\"}, {\"SHAPE\": \"dd/dddd\"}]},\n",
    "             {\"label\": \"DATE\", \"pattern\": [{\"SHAPE\": \"dd/dddd\"}, {\"TEXT\": \"-\"}, {\"LOWER\": \"present\"}]}]\n",
    "\n",
    "ruler = nlp.add_pipe(\"entity_ruler\", before='ner')\n",
    "# Add the pattern to the ruler\n",
    "ruler.add_patterns(patterns)\n",
    "\n",
    "# Use the nlp object on your text\n",
    "doc = nlp(text_with_dates)\n",
    "\n",
    "# Specify options for displacy\n",
    "options = {'ents': ['DATE']}\n",
    "# Use 'ent' as the style for entity visualization\n",
    "displacy.render(doc, style='ent', options=options)\n"
   ]
  },
  {
   "cell_type": "markdown",
   "metadata": {},
   "source": [
    "#### Calculate years of experience"
   ]
  },
  {
   "cell_type": "code",
   "execution_count": 12,
   "metadata": {},
   "outputs": [
    {
     "name": "stdout",
     "output_type": "stream",
     "text": [
      "['05/2015 - 06/2017', '01/2021 - Present', 'Jan 2022 - Present', 'Feb 2010 - Jan 2013', '07/2014 - 08/2016', 'January 2011 - February 2012', 'March 2018 - Present', '10/2019 - 07/2021', 'January 2011 to February 2012', \"Jan '\", \"'18\", 'March', \"18 - April '20\"]\n"
     ]
    }
   ],
   "source": [
    "# Extract the dates\n",
    "dates = [ent.text for ent in doc.ents if ent.label_ == 'DATE']\n",
    "print(dates)"
   ]
  },
  {
   "cell_type": "code",
   "execution_count": 17,
   "metadata": {},
   "outputs": [
    {
     "name": "stdout",
     "output_type": "stream",
     "text": [
      "05/2015 - 06/2017 \t 2.08 yr\n",
      "01/2021 - Present \t 2.75 yr\n",
      "Jan 2022 - Present \t 1.75 yr\n",
      "Feb 2010 - Jan 2013 \t 2.92 yr\n",
      "07/2014 - 08/2016 \t 2.08 yr\n",
      "January 2011 - February 2012 \t 1.08 yr\n",
      "March 2018 - Present \t 5.58 yr\n",
      "10/2019 - 07/2021 \t 1.75 yr\n",
      "18 - April '20 \t -0.42 yr\n",
      "[2.08, 2.75, 1.75, 2.92, 2.08, 1.08, 5.58, 1.75, -0.42]\n"
     ]
    }
   ],
   "source": [
    "from dateutil import parser\n",
    "from dateutil.relativedelta import relativedelta\n",
    "from datetime import datetime\n",
    "\n",
    "def calculate_years(dates):\n",
    "    year_diffs = []\n",
    "    for date in dates:\n",
    "        # Check if the date is in the \"start - end\" format\n",
    "        if ' - ' not in date:\n",
    "            continue\n",
    "        \n",
    "        # Split the date range into start and end dates\n",
    "        start_date, end_date = date.split(' - ')\n",
    "        \n",
    "        # Replace 'Present' with today's date\n",
    "        if 'Present' in end_date:\n",
    "            end_date = datetime.today().strftime('%m/%Y')\n",
    "        \n",
    "        # Parse the dates\n",
    "        start_date = parser.parse(start_date)\n",
    "        end_date = parser.parse(end_date)\n",
    "        \n",
    "        # Calculate the difference in years (considering months)\n",
    "        diff = relativedelta(end_date, start_date)\n",
    "        years = diff.years + diff.months / 12\n",
    "        years = round(years, 2)\n",
    "        \n",
    "        year_diffs.append(years)\n",
    "        print(f'{date} \\t {years} yr')\n",
    "    return year_diffs\n",
    "\n",
    "print(calculate_years(dates))"
   ]
  },
  {
   "cell_type": "markdown",
   "metadata": {},
   "source": [
    "Job Experience Requirements"
   ]
  },
  {
   "cell_type": "code",
   "execution_count": 24,
   "metadata": {},
   "outputs": [
    {
     "data": {
      "text/plain": [
       "[0.5, 1, 2, 0]"
      ]
     },
     "execution_count": 24,
     "metadata": {},
     "output_type": "execute_result"
    }
   ],
   "source": [
    "import re\n",
    "\n",
    "def extract_min_experience(text):\n",
    "    # Define the regular expression patterns\n",
    "    pattern_months = r'(\\d+)(?=\\s*month)'\n",
    "    pattern_years = r'(\\d+)(?=\\s*year)'\n",
    "    \n",
    "    # Use search to get the first match\n",
    "    match_years = re.search(pattern_years, text)\n",
    "    match_months = re.search(pattern_months, text)\n",
    "    \n",
    "    # If a match was found, convert it to an integer and return\n",
    "    if match_years:\n",
    "        return int(match_years.group())\n",
    "    elif match_months:\n",
    "        return int(match_months.group()) / 12  # Convert months to years\n",
    "    \n",
    "    # If no match was found, return None\n",
    "    return 0\n",
    "\n",
    "# Test the function\n",
    "job_exp = [\n",
    "'Minimum 6 months of professional front-end development experience.',\n",
    "'More than 1 year.',\n",
    "'A minimum of 2 years of professional experience',\n",
    "'No experience'\n",
    "]\n",
    "min_yoe = [extract_min_experience(job) for job in job_exp]\n",
    "min_yoe"
   ]
  }
 ],
 "metadata": {
  "kernelspec": {
   "display_name": "Python 3",
   "language": "python",
   "name": "python3"
  },
  "language_info": {
   "codemirror_mode": {
    "name": "ipython",
    "version": 3
   },
   "file_extension": ".py",
   "mimetype": "text/x-python",
   "name": "python",
   "nbconvert_exporter": "python",
   "pygments_lexer": "ipython3",
   "version": "3.11.0"
  }
 },
 "nbformat": 4,
 "nbformat_minor": 2
}
