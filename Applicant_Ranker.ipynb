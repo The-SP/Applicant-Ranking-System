{
 "cells": [
  {
   "cell_type": "markdown",
   "metadata": {},
   "source": [
    "# Applicant Ranking"
   ]
  },
  {
   "cell_type": "code",
   "execution_count": 37,
   "metadata": {},
   "outputs": [],
   "source": [
    "import pandas as pd\n",
    "import numpy as np"
   ]
  },
  {
   "cell_type": "code",
   "execution_count": 38,
   "metadata": {},
   "outputs": [],
   "source": [
    "df_jobs = pd.read_csv('fake_jobs.csv')\n",
    "df_resume = pd.read_csv('fake_resume.csv')"
   ]
  },
  {
   "cell_type": "code",
   "execution_count": 39,
   "metadata": {},
   "outputs": [
    {
     "data": {
      "text/html": [
       "<div>\n",
       "<style scoped>\n",
       "    .dataframe tbody tr th:only-of-type {\n",
       "        vertical-align: middle;\n",
       "    }\n",
       "\n",
       "    .dataframe tbody tr th {\n",
       "        vertical-align: top;\n",
       "    }\n",
       "\n",
       "    .dataframe thead th {\n",
       "        text-align: right;\n",
       "    }\n",
       "</style>\n",
       "<table border=\"1\" class=\"dataframe\">\n",
       "  <thead>\n",
       "    <tr style=\"text-align: right;\">\n",
       "      <th></th>\n",
       "      <th>title</th>\n",
       "      <th>description</th>\n",
       "      <th>skills</th>\n",
       "      <th>education</th>\n",
       "      <th>experience</th>\n",
       "    </tr>\n",
       "  </thead>\n",
       "  <tbody>\n",
       "    <tr>\n",
       "      <th>0</th>\n",
       "      <td>Senior Backend Developer</td>\n",
       "      <td>We are seeking a highly skilled Senior Backend...</td>\n",
       "      <td>Python, Django, RESTful APIs, SQL</td>\n",
       "      <td>Bachelor in Computer Engineering</td>\n",
       "      <td>3 years of software development experience in ...</td>\n",
       "    </tr>\n",
       "    <tr>\n",
       "      <th>1</th>\n",
       "      <td>Full Stack Developer</td>\n",
       "      <td>We are hiring a versatile Full Stack Developer...</td>\n",
       "      <td>HTML, CSS, JavaScript, Node.js, Express, MongoDB</td>\n",
       "      <td>Bachelor Degree in Computer Science</td>\n",
       "      <td>2 years of data analysis experience using Exce...</td>\n",
       "    </tr>\n",
       "    <tr>\n",
       "      <th>2</th>\n",
       "      <td>Python Backend Engineer</td>\n",
       "      <td>We have an exciting opportunity for a Python B...</td>\n",
       "      <td>Python, Django, Flask, SQL, AWS</td>\n",
       "      <td>Masters in IT</td>\n",
       "      <td>4 years of marketing experience with a focus o...</td>\n",
       "    </tr>\n",
       "    <tr>\n",
       "      <th>3</th>\n",
       "      <td>Backend Software Engineer</td>\n",
       "      <td>We are looking for a talented Backend Software...</td>\n",
       "      <td>Java, Spring, Hibernate, RESTful APIs, MySQL</td>\n",
       "      <td>PhD in Computer Science</td>\n",
       "      <td>2 years of web development experience using Dj...</td>\n",
       "    </tr>\n",
       "    <tr>\n",
       "      <th>4</th>\n",
       "      <td>Junior Backend Developer</td>\n",
       "      <td>We are seeking a motivated Junior Backend Deve...</td>\n",
       "      <td>Python, Django, Git, Linux, SQL</td>\n",
       "      <td>Bachelor in Computer Engineering</td>\n",
       "      <td>1 year of data analytics experience with Table...</td>\n",
       "    </tr>\n",
       "  </tbody>\n",
       "</table>\n",
       "</div>"
      ],
      "text/plain": [
       "                       title   \n",
       "0   Senior Backend Developer  \\\n",
       "1       Full Stack Developer   \n",
       "2    Python Backend Engineer   \n",
       "3  Backend Software Engineer   \n",
       "4   Junior Backend Developer   \n",
       "\n",
       "                                         description   \n",
       "0  We are seeking a highly skilled Senior Backend...  \\\n",
       "1  We are hiring a versatile Full Stack Developer...   \n",
       "2  We have an exciting opportunity for a Python B...   \n",
       "3  We are looking for a talented Backend Software...   \n",
       "4  We are seeking a motivated Junior Backend Deve...   \n",
       "\n",
       "                                             skills   \n",
       "0                 Python, Django, RESTful APIs, SQL  \\\n",
       "1  HTML, CSS, JavaScript, Node.js, Express, MongoDB   \n",
       "2                   Python, Django, Flask, SQL, AWS   \n",
       "3      Java, Spring, Hibernate, RESTful APIs, MySQL   \n",
       "4                   Python, Django, Git, Linux, SQL   \n",
       "\n",
       "                             education   \n",
       "0     Bachelor in Computer Engineering  \\\n",
       "1  Bachelor Degree in Computer Science   \n",
       "2                        Masters in IT   \n",
       "3              PhD in Computer Science   \n",
       "4     Bachelor in Computer Engineering   \n",
       "\n",
       "                                          experience  \n",
       "0  3 years of software development experience in ...  \n",
       "1  2 years of data analysis experience using Exce...  \n",
       "2  4 years of marketing experience with a focus o...  \n",
       "3  2 years of web development experience using Dj...  \n",
       "4  1 year of data analytics experience with Table...  "
      ]
     },
     "execution_count": 39,
     "metadata": {},
     "output_type": "execute_result"
    }
   ],
   "source": [
    "df_jobs"
   ]
  },
  {
   "cell_type": "code",
   "execution_count": 40,
   "metadata": {},
   "outputs": [
    {
     "data": {
      "text/html": [
       "<div>\n",
       "<style scoped>\n",
       "    .dataframe tbody tr th:only-of-type {\n",
       "        vertical-align: middle;\n",
       "    }\n",
       "\n",
       "    .dataframe tbody tr th {\n",
       "        vertical-align: top;\n",
       "    }\n",
       "\n",
       "    .dataframe thead th {\n",
       "        text-align: right;\n",
       "    }\n",
       "</style>\n",
       "<table border=\"1\" class=\"dataframe\">\n",
       "  <thead>\n",
       "    <tr style=\"text-align: right;\">\n",
       "      <th></th>\n",
       "      <th>Category</th>\n",
       "      <th>Resume</th>\n",
       "      <th>education</th>\n",
       "      <th>skills</th>\n",
       "      <th>projects</th>\n",
       "      <th>experience</th>\n",
       "    </tr>\n",
       "  </thead>\n",
       "  <tbody>\n",
       "    <tr>\n",
       "      <th>0</th>\n",
       "      <td>Java Developer</td>\n",
       "      <td>Operating Systems Windows XP, 7, 10. Tools/Pac...</td>\n",
       "      <td>Bachelor in Computer Engineering</td>\n",
       "      <td>C, Python, JavaScript</td>\n",
       "      <td>[{'title': 'Project X', 'description': 'Create...</td>\n",
       "      <td>5 years of experience in software development ...</td>\n",
       "    </tr>\n",
       "    <tr>\n",
       "      <th>1</th>\n",
       "      <td>Java Developer</td>\n",
       "      <td>Operating Systems Windows XP, 7, 10. Tools/Pac...</td>\n",
       "      <td>Bachelor Degree in Computer Science</td>\n",
       "      <td>Python, Java, HTML, CSS</td>\n",
       "      <td>[{'title': 'Project A', 'description': 'Develo...</td>\n",
       "      <td>3 years of experience in data science and mach...</td>\n",
       "    </tr>\n",
       "    <tr>\n",
       "      <th>2</th>\n",
       "      <td>Python Developer</td>\n",
       "      <td>â¢ Operating Systems: Windows â¢ Others: MS ...</td>\n",
       "      <td>Masters in IT</td>\n",
       "      <td>C, Python, Java, SQL, Go</td>\n",
       "      <td>[{'title': 'Project Z', 'description': 'Design...</td>\n",
       "      <td>1 years of experience in project management an...</td>\n",
       "    </tr>\n",
       "    <tr>\n",
       "      <th>3</th>\n",
       "      <td>Python Developer</td>\n",
       "      <td>â¢ Operating Systems: Windows â¢ Others: MS ...</td>\n",
       "      <td>PhD in Computer Science</td>\n",
       "      <td>C, Python, Django, Pandas</td>\n",
       "      <td>[{'title': 'Project K', 'description': 'Create...</td>\n",
       "      <td>2 years of experience in mobile app developmen...</td>\n",
       "    </tr>\n",
       "    <tr>\n",
       "      <th>4</th>\n",
       "      <td>Python Developer</td>\n",
       "      <td>â¢ Operating Systems: Windows â¢ Others: MS ...</td>\n",
       "      <td>Bachelor in Computer Engineering</td>\n",
       "      <td>Python, JavaScript, ReactJS, Express, Node</td>\n",
       "      <td>[{'title': 'Project K', 'description': 'Create...</td>\n",
       "      <td>4 years of experience in financial analysis an...</td>\n",
       "    </tr>\n",
       "  </tbody>\n",
       "</table>\n",
       "</div>"
      ],
      "text/plain": [
       "           Category                                             Resume   \n",
       "0    Java Developer  Operating Systems Windows XP, 7, 10. Tools/Pac...  \\\n",
       "1    Java Developer  Operating Systems Windows XP, 7, 10. Tools/Pac...   \n",
       "2  Python Developer  â¢ Operating Systems: Windows â¢ Others: MS ...   \n",
       "3  Python Developer  â¢ Operating Systems: Windows â¢ Others: MS ...   \n",
       "4  Python Developer  â¢ Operating Systems: Windows â¢ Others: MS ...   \n",
       "\n",
       "                             education   \n",
       "0     Bachelor in Computer Engineering  \\\n",
       "1  Bachelor Degree in Computer Science   \n",
       "2                        Masters in IT   \n",
       "3              PhD in Computer Science   \n",
       "4     Bachelor in Computer Engineering   \n",
       "\n",
       "                                       skills   \n",
       "0                       C, Python, JavaScript  \\\n",
       "1                     Python, Java, HTML, CSS   \n",
       "2                    C, Python, Java, SQL, Go   \n",
       "3                   C, Python, Django, Pandas   \n",
       "4  Python, JavaScript, ReactJS, Express, Node   \n",
       "\n",
       "                                            projects   \n",
       "0  [{'title': 'Project X', 'description': 'Create...  \\\n",
       "1  [{'title': 'Project A', 'description': 'Develo...   \n",
       "2  [{'title': 'Project Z', 'description': 'Design...   \n",
       "3  [{'title': 'Project K', 'description': 'Create...   \n",
       "4  [{'title': 'Project K', 'description': 'Create...   \n",
       "\n",
       "                                          experience  \n",
       "0  5 years of experience in software development ...  \n",
       "1  3 years of experience in data science and mach...  \n",
       "2  1 years of experience in project management an...  \n",
       "3  2 years of experience in mobile app developmen...  \n",
       "4  4 years of experience in financial analysis an...  "
      ]
     },
     "execution_count": 40,
     "metadata": {},
     "output_type": "execute_result"
    }
   ],
   "source": [
    "df_resume"
   ]
  },
  {
   "cell_type": "markdown",
   "metadata": {},
   "source": [
    "## Preprocessing"
   ]
  },
  {
   "cell_type": "code",
   "execution_count": 41,
   "metadata": {},
   "outputs": [
    {
     "data": {
      "text/plain": [
       "'i have skills in developing and maintaining software applications using python  java  and javascript '"
      ]
     },
     "execution_count": 41,
     "metadata": {},
     "output_type": "execute_result"
    }
   ],
   "source": [
    "import re\n",
    "\n",
    "def clean_description(text):\n",
    "    # Remove punctuation and numbers\n",
    "    text = re.sub(r'[^a-zA-Z\\+]', ' ', text)\n",
    "    # Convert to lowercase\n",
    "    text = text.lower()\n",
    "    return text\n",
    "\n",
    "clean_description(\"I have skills in developing and maintaining software applications using Python, Java, and JavaScript.\")"
   ]
  },
  {
   "cell_type": "code",
   "execution_count": 42,
   "metadata": {},
   "outputs": [
    {
     "data": {
      "text/html": [
       "<div>\n",
       "<style scoped>\n",
       "    .dataframe tbody tr th:only-of-type {\n",
       "        vertical-align: middle;\n",
       "    }\n",
       "\n",
       "    .dataframe tbody tr th {\n",
       "        vertical-align: top;\n",
       "    }\n",
       "\n",
       "    .dataframe thead th {\n",
       "        text-align: right;\n",
       "    }\n",
       "</style>\n",
       "<table border=\"1\" class=\"dataframe\">\n",
       "  <thead>\n",
       "    <tr style=\"text-align: right;\">\n",
       "      <th></th>\n",
       "      <th>Category</th>\n",
       "      <th>Resume</th>\n",
       "      <th>education</th>\n",
       "      <th>skills</th>\n",
       "      <th>projects</th>\n",
       "      <th>experience</th>\n",
       "      <th>clean_resume</th>\n",
       "    </tr>\n",
       "  </thead>\n",
       "  <tbody>\n",
       "    <tr>\n",
       "      <th>0</th>\n",
       "      <td>Java Developer</td>\n",
       "      <td>Operating Systems Windows XP, 7, 10. Tools/Pac...</td>\n",
       "      <td>Bachelor in Computer Engineering</td>\n",
       "      <td>C, Python, JavaScript</td>\n",
       "      <td>[{'title': 'Project X', 'description': 'Create...</td>\n",
       "      <td>5 years of experience in software development ...</td>\n",
       "      <td>operating systems windows xp         tools pac...</td>\n",
       "    </tr>\n",
       "    <tr>\n",
       "      <th>1</th>\n",
       "      <td>Java Developer</td>\n",
       "      <td>Operating Systems Windows XP, 7, 10. Tools/Pac...</td>\n",
       "      <td>Bachelor Degree in Computer Science</td>\n",
       "      <td>Python, Java, HTML, CSS</td>\n",
       "      <td>[{'title': 'Project A', 'description': 'Develo...</td>\n",
       "      <td>3 years of experience in data science and mach...</td>\n",
       "      <td>operating systems windows xp         tools pac...</td>\n",
       "    </tr>\n",
       "  </tbody>\n",
       "</table>\n",
       "</div>"
      ],
      "text/plain": [
       "         Category                                             Resume   \n",
       "0  Java Developer  Operating Systems Windows XP, 7, 10. Tools/Pac...  \\\n",
       "1  Java Developer  Operating Systems Windows XP, 7, 10. Tools/Pac...   \n",
       "\n",
       "                             education                   skills   \n",
       "0     Bachelor in Computer Engineering    C, Python, JavaScript  \\\n",
       "1  Bachelor Degree in Computer Science  Python, Java, HTML, CSS   \n",
       "\n",
       "                                            projects   \n",
       "0  [{'title': 'Project X', 'description': 'Create...  \\\n",
       "1  [{'title': 'Project A', 'description': 'Develo...   \n",
       "\n",
       "                                          experience   \n",
       "0  5 years of experience in software development ...  \\\n",
       "1  3 years of experience in data science and mach...   \n",
       "\n",
       "                                        clean_resume  \n",
       "0  operating systems windows xp         tools pac...  \n",
       "1  operating systems windows xp         tools pac...  "
      ]
     },
     "execution_count": 42,
     "metadata": {},
     "output_type": "execute_result"
    }
   ],
   "source": [
    "df_resume['clean_resume'] = df_resume['Resume'].apply(clean_description)\n",
    "df_resume.head(2)"
   ]
  },
  {
   "cell_type": "code",
   "execution_count": 43,
   "metadata": {},
   "outputs": [],
   "source": [
    "df_resume_rankings = df_resume.copy()"
   ]
  },
  {
   "cell_type": "markdown",
   "metadata": {},
   "source": [
    "## Tfidf\n",
    "For comparing job-description and resume-description"
   ]
  },
  {
   "cell_type": "code",
   "execution_count": 44,
   "metadata": {},
   "outputs": [],
   "source": [
    "from sklearn.feature_extraction.text import TfidfVectorizer\n",
    "from sklearn.metrics.pairwise import cosine_similarity"
   ]
  },
  {
   "cell_type": "code",
   "execution_count": 45,
   "metadata": {},
   "outputs": [],
   "source": [
    "# Initialize the TfidfVectorizer\n",
    "description_vectorizer = TfidfVectorizer(stop_words='english')\n",
    "\n",
    "# fit_transform the vectorizers and create tfidf matrix\n",
    "description_matrix = description_vectorizer.fit_transform(df_resume['clean_resume'])"
   ]
  },
  {
   "cell_type": "markdown",
   "metadata": {},
   "source": [
    "Preprocess job description  \n",
    "This adds the title, and skills to the description.  \n",
    "Then cleans it."
   ]
  },
  {
   "cell_type": "code",
   "execution_count": 46,
   "metadata": {},
   "outputs": [],
   "source": [
    "def preprocess_job(target_job):\n",
    "    title, description, skills = target_job.title, target_job.description, target_job.skills\n",
    "    # Clean description\n",
    "    if skills:\n",
    "        description = skills.replace(',', '') + ' ' + description\n",
    "    if title:\n",
    "        description = f'{title} {description}'\n",
    "    description = clean_description(description)\n",
    "    print('Cleaned job description:', description)\n",
    "    return description"
   ]
  },
  {
   "cell_type": "code",
   "execution_count": 47,
   "metadata": {},
   "outputs": [],
   "source": [
    "\n",
    "def get_description_score(target_job):\n",
    "    job_description = preprocess_job(target_job)\n",
    "\n",
    "    # Compute vectorizer\n",
    "    query_description_vec = description_vectorizer.transform([job_description])\n",
    "\n",
    "    # Compute cosine similarity\n",
    "    cosine_sim_description = cosine_similarity(query_description_vec, description_matrix).flatten()\n",
    "\n",
    "    df_resume_rankings['description_score'] = cosine_sim_description"
   ]
  },
  {
   "cell_type": "markdown",
   "metadata": {},
   "source": [
    "# Choose target job"
   ]
  },
  {
   "cell_type": "code",
   "execution_count": 48,
   "metadata": {},
   "outputs": [],
   "source": [
    "target_job = df_jobs.loc[2]"
   ]
  },
  {
   "cell_type": "code",
   "execution_count": 49,
   "metadata": {},
   "outputs": [
    {
     "name": "stdout",
     "output_type": "stream",
     "text": [
      "Cleaned job description: python backend engineer python django flask sql aws we have an exciting opportunity for a python backend engineer to join our growing team  in this role  you will be responsible for building robust and scalable web applications using python and frameworks like django and flask  your expertise in server side logic  api integrations  and database management will be crucial to the success of our projects  proficiency in sql databases and experience with cloud platforms such as aws are highly desirable  you will collaborate closely with frontend developers to ensure seamless integration of user interfaces and backend functionality  if you are a detail oriented and passionate backend engineer who enjoys solving complex problems  we look forward to reviewing your application \n"
     ]
    }
   ],
   "source": [
    "get_description_score(target_job)"
   ]
  },
  {
   "cell_type": "markdown",
   "metadata": {},
   "source": [
    "## 1. Skills"
   ]
  },
  {
   "cell_type": "markdown",
   "metadata": {},
   "source": [
    "#### How it works?\n",
    "For each applicant, a binary vector is created where each element represents the presence (1) or absence (0) of a specific skill from the target job in the applicant's skills."
   ]
  },
  {
   "cell_type": "code",
   "execution_count": 50,
   "metadata": {},
   "outputs": [],
   "source": [
    "# Calculate cosine similarity between job description vector and each applicant vector\n",
    "def cosine_similarity(vector1, vector2):\n",
    "    dot_product = np.dot(vector1, vector2)\n",
    "    norm_vector1 = np.linalg.norm(vector1)\n",
    "    norm_vector2 = np.linalg.norm(vector2)\n",
    "    if norm_vector2 == 0 or norm_vector1 == 0:\n",
    "        similarity = 0\n",
    "    else:\n",
    "        similarity = dot_product / (norm_vector1 * norm_vector2)\n",
    "    return similarity"
   ]
  },
  {
   "cell_type": "markdown",
   "metadata": {},
   "source": [
    "**Convert job description skills and applicant skills into binary feature vectors**"
   ]
  },
  {
   "cell_type": "code",
   "execution_count": 51,
   "metadata": {},
   "outputs": [
    {
     "data": {
      "text/plain": [
       "['Python', 'Django', 'Flask', 'SQL', 'AWS']"
      ]
     },
     "execution_count": 51,
     "metadata": {},
     "output_type": "execute_result"
    }
   ],
   "source": [
    "target_job['skills'].split(', ')"
   ]
  },
  {
   "cell_type": "code",
   "execution_count": 52,
   "metadata": {},
   "outputs": [],
   "source": [
    "def vectorize_skills(applicant_skills):\n",
    "    # The 'skills' column has string values. Each string has skills sepearated by comma. So convert them to array of skills.\n",
    "    target_job_skills = target_job['skills'].split(', ')\n",
    "    applicant_skills = applicant_skills.split(', ')\n",
    "    applicant_vector = [1 if skill in applicant_skills else 0 for skill in target_job_skills]\n",
    "    return applicant_vector"
   ]
  },
  {
   "cell_type": "code",
   "execution_count": 53,
   "metadata": {},
   "outputs": [
    {
     "data": {
      "text/plain": [
       "('Python, Django, Flask, SQL, AWS', [1, 1, 1, 1, 1])"
      ]
     },
     "execution_count": 53,
     "metadata": {},
     "output_type": "execute_result"
    }
   ],
   "source": [
    "target_job['skills_vector'] = vectorize_skills(target_job.skills)\n",
    "target_job.skills, target_job.skills_vector"
   ]
  },
  {
   "cell_type": "code",
   "execution_count": 54,
   "metadata": {},
   "outputs": [
    {
     "data": {
      "text/html": [
       "<div>\n",
       "<style scoped>\n",
       "    .dataframe tbody tr th:only-of-type {\n",
       "        vertical-align: middle;\n",
       "    }\n",
       "\n",
       "    .dataframe tbody tr th {\n",
       "        vertical-align: top;\n",
       "    }\n",
       "\n",
       "    .dataframe thead th {\n",
       "        text-align: right;\n",
       "    }\n",
       "</style>\n",
       "<table border=\"1\" class=\"dataframe\">\n",
       "  <thead>\n",
       "    <tr style=\"text-align: right;\">\n",
       "      <th></th>\n",
       "      <th>skills</th>\n",
       "      <th>skills_vector</th>\n",
       "    </tr>\n",
       "  </thead>\n",
       "  <tbody>\n",
       "    <tr>\n",
       "      <th>0</th>\n",
       "      <td>C, Python, JavaScript</td>\n",
       "      <td>[1, 0, 0, 0, 0]</td>\n",
       "    </tr>\n",
       "    <tr>\n",
       "      <th>1</th>\n",
       "      <td>Python, Java, HTML, CSS</td>\n",
       "      <td>[1, 0, 0, 0, 0]</td>\n",
       "    </tr>\n",
       "    <tr>\n",
       "      <th>2</th>\n",
       "      <td>C, Python, Java, SQL, Go</td>\n",
       "      <td>[1, 0, 0, 1, 0]</td>\n",
       "    </tr>\n",
       "    <tr>\n",
       "      <th>3</th>\n",
       "      <td>C, Python, Django, Pandas</td>\n",
       "      <td>[1, 1, 0, 0, 0]</td>\n",
       "    </tr>\n",
       "    <tr>\n",
       "      <th>4</th>\n",
       "      <td>Python, JavaScript, ReactJS, Express, Node</td>\n",
       "      <td>[1, 0, 0, 0, 0]</td>\n",
       "    </tr>\n",
       "  </tbody>\n",
       "</table>\n",
       "</div>"
      ],
      "text/plain": [
       "                                       skills    skills_vector\n",
       "0                       C, Python, JavaScript  [1, 0, 0, 0, 0]\n",
       "1                     Python, Java, HTML, CSS  [1, 0, 0, 0, 0]\n",
       "2                    C, Python, Java, SQL, Go  [1, 0, 0, 1, 0]\n",
       "3                   C, Python, Django, Pandas  [1, 1, 0, 0, 0]\n",
       "4  Python, JavaScript, ReactJS, Express, Node  [1, 0, 0, 0, 0]"
      ]
     },
     "execution_count": 54,
     "metadata": {},
     "output_type": "execute_result"
    }
   ],
   "source": [
    "df_resume_rankings['skills_vector'] = df_resume['skills'].apply(vectorize_skills)\n",
    "df_resume_rankings[['skills', 'skills_vector']]"
   ]
  },
  {
   "cell_type": "code",
   "execution_count": 55,
   "metadata": {},
   "outputs": [],
   "source": [
    "def get_skills_score():\n",
    "    similarity_scores = []\n",
    "    for applicant_vector in df_resume_rankings['skills_vector']:\n",
    "        similarity = cosine_similarity(target_job['skills_vector'], applicant_vector)\n",
    "        similarity_scores.append(similarity)\n",
    "    df_resume_rankings['skills_score'] = similarity_scores"
   ]
  },
  {
   "cell_type": "code",
   "execution_count": 56,
   "metadata": {},
   "outputs": [],
   "source": [
    "get_skills_score()"
   ]
  },
  {
   "cell_type": "code",
   "execution_count": 57,
   "metadata": {},
   "outputs": [
    {
     "data": {
      "text/html": [
       "<div>\n",
       "<style scoped>\n",
       "    .dataframe tbody tr th:only-of-type {\n",
       "        vertical-align: middle;\n",
       "    }\n",
       "\n",
       "    .dataframe tbody tr th {\n",
       "        vertical-align: top;\n",
       "    }\n",
       "\n",
       "    .dataframe thead th {\n",
       "        text-align: right;\n",
       "    }\n",
       "</style>\n",
       "<table border=\"1\" class=\"dataframe\">\n",
       "  <thead>\n",
       "    <tr style=\"text-align: right;\">\n",
       "      <th></th>\n",
       "      <th>skills</th>\n",
       "      <th>skills_vector</th>\n",
       "      <th>skills_score</th>\n",
       "    </tr>\n",
       "  </thead>\n",
       "  <tbody>\n",
       "    <tr>\n",
       "      <th>0</th>\n",
       "      <td>C, Python, JavaScript</td>\n",
       "      <td>[1, 0, 0, 0, 0]</td>\n",
       "      <td>0.447214</td>\n",
       "    </tr>\n",
       "    <tr>\n",
       "      <th>1</th>\n",
       "      <td>Python, Java, HTML, CSS</td>\n",
       "      <td>[1, 0, 0, 0, 0]</td>\n",
       "      <td>0.447214</td>\n",
       "    </tr>\n",
       "    <tr>\n",
       "      <th>2</th>\n",
       "      <td>C, Python, Java, SQL, Go</td>\n",
       "      <td>[1, 0, 0, 1, 0]</td>\n",
       "      <td>0.632456</td>\n",
       "    </tr>\n",
       "    <tr>\n",
       "      <th>3</th>\n",
       "      <td>C, Python, Django, Pandas</td>\n",
       "      <td>[1, 1, 0, 0, 0]</td>\n",
       "      <td>0.632456</td>\n",
       "    </tr>\n",
       "    <tr>\n",
       "      <th>4</th>\n",
       "      <td>Python, JavaScript, ReactJS, Express, Node</td>\n",
       "      <td>[1, 0, 0, 0, 0]</td>\n",
       "      <td>0.447214</td>\n",
       "    </tr>\n",
       "  </tbody>\n",
       "</table>\n",
       "</div>"
      ],
      "text/plain": [
       "                                       skills    skills_vector  skills_score\n",
       "0                       C, Python, JavaScript  [1, 0, 0, 0, 0]      0.447214\n",
       "1                     Python, Java, HTML, CSS  [1, 0, 0, 0, 0]      0.447214\n",
       "2                    C, Python, Java, SQL, Go  [1, 0, 0, 1, 0]      0.632456\n",
       "3                   C, Python, Django, Pandas  [1, 1, 0, 0, 0]      0.632456\n",
       "4  Python, JavaScript, ReactJS, Express, Node  [1, 0, 0, 0, 0]      0.447214"
      ]
     },
     "execution_count": 57,
     "metadata": {},
     "output_type": "execute_result"
    }
   ],
   "source": [
    "df_resume_rankings[['skills', 'skills_vector', 'skills_score']]"
   ]
  },
  {
   "cell_type": "markdown",
   "metadata": {},
   "source": [
    "## 2. Projects"
   ]
  },
  {
   "cell_type": "markdown",
   "metadata": {},
   "source": [
    "#### How it works?\n",
    "***It checks if the applicant has made at least one project using the required skills or not.***\n",
    "\n",
    "1. The job description skills are converted into a binary feature vector, where each element represents the presence or absence of a skill in the job description.\n",
    "\n",
    "2. A helper function skill_present is defined to check if a skill is present in the project description using regular expression pattern matching to match the whole word.\n",
    "\n",
    "3. The vectorize_project function takes the applicant projects and job skills as input and converts the project descriptions into binary feature vectors. For each applicant, it iterates over the skills and checks if any of the skills are present in the project descriptions using the skill_present function.\n",
    "\n",
    "4. The cosine similarity is calculated between the job_skills_vector and each applicant's project vector using the cosine_similarity function. The similarity score represents how closely the applicant's projects match the job description skills."
   ]
  },
  {
   "cell_type": "code",
   "execution_count": 58,
   "metadata": {},
   "outputs": [
    {
     "data": {
      "text/plain": [
       "\"[{'title': 'Project X', 'description': 'Created a mobile app for social networking using Python'}, {'title': 'Project Y', 'description': 'Built a recommendation system for movie ratings using Java'}]\""
      ]
     },
     "execution_count": 58,
     "metadata": {},
     "output_type": "execute_result"
    }
   ],
   "source": [
    "df_resume_rankings['projects'][0]"
   ]
  },
  {
   "cell_type": "markdown",
   "metadata": {},
   "source": [
    "This is supposed to be list of dictionary. But it is stored as string."
   ]
  },
  {
   "cell_type": "code",
   "execution_count": 59,
   "metadata": {},
   "outputs": [],
   "source": [
    "import ast"
   ]
  },
  {
   "cell_type": "code",
   "execution_count": 60,
   "metadata": {},
   "outputs": [],
   "source": [
    "# Convert the string representation to a list of dictionaries\n",
    "df_resume_rankings['projects'] = df_resume_rankings['projects'].apply(ast.literal_eval)"
   ]
  },
  {
   "cell_type": "code",
   "execution_count": 61,
   "metadata": {},
   "outputs": [
    {
     "data": {
      "text/plain": [
       "'Project X'"
      ]
     },
     "execution_count": 61,
     "metadata": {},
     "output_type": "execute_result"
    }
   ],
   "source": [
    "df_resume_rankings['projects'][0][0]['title']"
   ]
  },
  {
   "cell_type": "markdown",
   "metadata": {},
   "source": [
    "Now, it is converted to list of dictionaries."
   ]
  },
  {
   "cell_type": "code",
   "execution_count": 62,
   "metadata": {},
   "outputs": [],
   "source": [
    "# Helper function to check if a skill is present in the project description\n",
    "def skill_present(skill, description):\n",
    "    # Use regular expression pattern matching to match the whole word\n",
    "    pattern = r\"\\b\" + re.escape(skill) + r\"\\b\"\n",
    "    return bool(re.search(pattern, description, re.IGNORECASE))\n",
    "\n",
    "\n",
    "def vectorize_projects(df_resume_projects):\n",
    "    # applicant_vectors = []\n",
    "    # for applicant in applicant_projects:\n",
    "    #     applicant_vector = [1 if any(skill.lower() in project['description'].lower() for project in applicant['projects']) else 0 for skill in skills]\n",
    "    #     applicant_vectors.append(applicant_vector)\n",
    "\n",
    "    target_job_skills = target_job['skills'].split(', ')\n",
    "    applicant_vectors = []\n",
    "    for applicant_projects in df_resume_projects:\n",
    "        applicant_vector = []\n",
    "        for skill in target_job_skills:\n",
    "            found_in_projects = any(skill_present(skill.lower(), project['description'].lower()) for project in applicant_projects)\n",
    "            applicant_vector.append(1 if found_in_projects else 0)\n",
    "        applicant_vectors.append(applicant_vector)\n",
    "\n",
    "    return applicant_vectors\n"
   ]
  },
  {
   "cell_type": "code",
   "execution_count": 63,
   "metadata": {},
   "outputs": [],
   "source": [
    "# Convert applicant projects into binary feature vectors\n",
    "df_resume_rankings['projects_vector'] = vectorize_projects(df_resume_rankings['projects'])"
   ]
  },
  {
   "cell_type": "code",
   "execution_count": 64,
   "metadata": {},
   "outputs": [],
   "source": [
    "def get_projects_score():\n",
    "    similarity_scores = []\n",
    "    for applicant_vector in df_resume_rankings['projects_vector']:\n",
    "        similarity = cosine_similarity(target_job['skills_vector'], applicant_vector)\n",
    "        similarity_scores.append(similarity)\n",
    "    df_resume_rankings['projects_score'] = similarity_scores"
   ]
  },
  {
   "cell_type": "code",
   "execution_count": 65,
   "metadata": {},
   "outputs": [],
   "source": [
    "get_projects_score()"
   ]
  },
  {
   "cell_type": "code",
   "execution_count": 66,
   "metadata": {},
   "outputs": [
    {
     "data": {
      "text/html": [
       "<div>\n",
       "<style scoped>\n",
       "    .dataframe tbody tr th:only-of-type {\n",
       "        vertical-align: middle;\n",
       "    }\n",
       "\n",
       "    .dataframe tbody tr th {\n",
       "        vertical-align: top;\n",
       "    }\n",
       "\n",
       "    .dataframe thead th {\n",
       "        text-align: right;\n",
       "    }\n",
       "</style>\n",
       "<table border=\"1\" class=\"dataframe\">\n",
       "  <thead>\n",
       "    <tr style=\"text-align: right;\">\n",
       "      <th></th>\n",
       "      <th>projects</th>\n",
       "      <th>projects_vector</th>\n",
       "      <th>projects_score</th>\n",
       "    </tr>\n",
       "  </thead>\n",
       "  <tbody>\n",
       "    <tr>\n",
       "      <th>0</th>\n",
       "      <td>[{'title': 'Project X', 'description': 'Create...</td>\n",
       "      <td>[1, 0, 0, 0, 0]</td>\n",
       "      <td>0.447214</td>\n",
       "    </tr>\n",
       "    <tr>\n",
       "      <th>1</th>\n",
       "      <td>[{'title': 'Project A', 'description': 'Develo...</td>\n",
       "      <td>[1, 0, 0, 0, 0]</td>\n",
       "      <td>0.447214</td>\n",
       "    </tr>\n",
       "    <tr>\n",
       "      <th>2</th>\n",
       "      <td>[{'title': 'Project Z', 'description': 'Design...</td>\n",
       "      <td>[1, 0, 0, 1, 0]</td>\n",
       "      <td>0.632456</td>\n",
       "    </tr>\n",
       "    <tr>\n",
       "      <th>3</th>\n",
       "      <td>[{'title': 'Project K', 'description': 'Create...</td>\n",
       "      <td>[0, 1, 0, 0, 0]</td>\n",
       "      <td>0.447214</td>\n",
       "    </tr>\n",
       "    <tr>\n",
       "      <th>4</th>\n",
       "      <td>[{'title': 'Project K', 'description': 'Create...</td>\n",
       "      <td>[0, 0, 0, 0, 0]</td>\n",
       "      <td>0.000000</td>\n",
       "    </tr>\n",
       "  </tbody>\n",
       "</table>\n",
       "</div>"
      ],
      "text/plain": [
       "                                            projects  projects_vector   \n",
       "0  [{'title': 'Project X', 'description': 'Create...  [1, 0, 0, 0, 0]  \\\n",
       "1  [{'title': 'Project A', 'description': 'Develo...  [1, 0, 0, 0, 0]   \n",
       "2  [{'title': 'Project Z', 'description': 'Design...  [1, 0, 0, 1, 0]   \n",
       "3  [{'title': 'Project K', 'description': 'Create...  [0, 1, 0, 0, 0]   \n",
       "4  [{'title': 'Project K', 'description': 'Create...  [0, 0, 0, 0, 0]   \n",
       "\n",
       "   projects_score  \n",
       "0        0.447214  \n",
       "1        0.447214  \n",
       "2        0.632456  \n",
       "3        0.447214  \n",
       "4        0.000000  "
      ]
     },
     "execution_count": 66,
     "metadata": {},
     "output_type": "execute_result"
    }
   ],
   "source": [
    "df_resume_rankings[['projects', 'projects_vector', 'projects_score']]"
   ]
  },
  {
   "cell_type": "markdown",
   "metadata": {},
   "source": [
    "## 3. Education"
   ]
  },
  {
   "cell_type": "markdown",
   "metadata": {},
   "source": [
    "#### How it works?\n",
    "It considers two factors seperately: degree and field of study.\n",
    "\n",
    "1. Degree\n",
    "- Values are assigned to different degree levels. Eg: Bachelor=1, Master=2, PhD=3\n",
    "- A lower degree score indicates better similarity, with 0 being the best possible score.\n",
    "- Normalize the score to be between 0 and 1 and adjust such that a higher score indicates better similarity.\n",
    "\n",
    "2. Field of Study\n",
    "- measures the text similarity between the applicant's field of study and the job's required field of study.\n",
    "3. Combining Degree and Field Scores\n",
    "The degree score is weighted by 0.7, and the field score is weighted by 0.3.\n"
   ]
  },
  {
   "cell_type": "code",
   "execution_count": 67,
   "metadata": {},
   "outputs": [],
   "source": [
    "from difflib import SequenceMatcher\n",
    "\n",
    "# Define a mapping for degree levels\n",
    "degree_mapping = {\n",
    "    'Bachelor': 1,\n",
    "    'Master': 2,\n",
    "    'PhD': 3,\n",
    "}\n",
    "\n",
    "# Function to calculate text similarity using SequenceMatcher\n",
    "def calculate_education_similarity(str1, str2):\n",
    "    return SequenceMatcher(None, str1.lower(), str2.lower()).ratio()\n",
    "\n",
    "\n",
    "# Function to extract the field of study from education\n",
    "def extract_field_of_study(education):\n",
    "    fields_of_study = education.split('in', maxsplit=1)\n",
    "    if len(fields_of_study) > 1:\n",
    "        return fields_of_study[1].strip()\n",
    "    return None\n",
    "\n",
    "\n",
    "# Function to extract degree level and field of study from education\n",
    "def extract_education_info(education):\n",
    "    degree = None\n",
    "    field_of_study = None\n",
    "    \n",
    "    for degree_name, degree_value in degree_mapping.items():\n",
    "        if degree_name.lower() in education.lower():\n",
    "            degree = degree_value\n",
    "            break\n",
    "    \n",
    "    field_of_study = extract_field_of_study(education)\n",
    "    \n",
    "    return (degree, field_of_study)"
   ]
  },
  {
   "cell_type": "code",
   "execution_count": 68,
   "metadata": {},
   "outputs": [],
   "source": [
    "# Convert job description education into degree level and field of study\n",
    "target_job['education_vector'] = extract_education_info(target_job['education'])\n",
    "\n",
    "# Convert applicant's education into degree level and field of study\n",
    "df_resume_rankings['education_vector'] = df_resume_rankings['education'].apply(extract_education_info)\n",
    "\n",
    "def get_education_score():\n",
    "    applicant_scores = []\n",
    "    for applicant_education in df_resume_rankings['education_vector']:\n",
    "        applicant_degree, applicant_field_of_study = applicant_education\n",
    "        job_degree, job_field_of_study = target_job['education_vector']\n",
    "        degree_score = 0\n",
    "        field_score = 0\n",
    "        \n",
    "        if applicant_degree and job_degree:\n",
    "            if applicant_degree >= job_degree:\n",
    "                degree_score = 0\n",
    "            else:\n",
    "                degree_score = job_degree-applicant_degree\n",
    "        \n",
    "        if applicant_field_of_study and job_field_of_study:\n",
    "            field_score = calculate_education_similarity(applicant_field_of_study, job_field_of_study)\n",
    "\n",
    "        # Set weights for degree and field_of_study\n",
    "        degree_weight = 0.7\n",
    "        field_weight = 0.3\n",
    "        # smaller degree score means greater similarity (0 means exact)\n",
    "        # the max_degree_score may be 2 (eg: phd vs bachelor)\n",
    "        max_degree_score = 2 \n",
    "        # By dividing (max_score - degree_score) by max_score, you normalize the score to be between 0 and 1, where a higher score indicates better similarity.\n",
    "        degree_score = (max_degree_score - degree_score) / max_degree_score\n",
    "        \n",
    "        total_score = degree_weight * degree_score + field_weight * field_score\n",
    "        applicant_scores.append(total_score)\n",
    "    df_resume_rankings['education_score'] = applicant_scores\n"
   ]
  },
  {
   "cell_type": "code",
   "execution_count": 69,
   "metadata": {},
   "outputs": [],
   "source": [
    "get_education_score()"
   ]
  },
  {
   "cell_type": "code",
   "execution_count": 70,
   "metadata": {},
   "outputs": [
    {
     "data": {
      "text/plain": [
       "education           Masters in IT\n",
       "education_vector          (2, IT)\n",
       "Name: 2, dtype: object"
      ]
     },
     "execution_count": 70,
     "metadata": {},
     "output_type": "execute_result"
    }
   ],
   "source": [
    "target_job[['education', 'education_vector']]"
   ]
  },
  {
   "cell_type": "code",
   "execution_count": 71,
   "metadata": {},
   "outputs": [
    {
     "data": {
      "text/html": [
       "<div>\n",
       "<style scoped>\n",
       "    .dataframe tbody tr th:only-of-type {\n",
       "        vertical-align: middle;\n",
       "    }\n",
       "\n",
       "    .dataframe tbody tr th {\n",
       "        vertical-align: top;\n",
       "    }\n",
       "\n",
       "    .dataframe thead th {\n",
       "        text-align: right;\n",
       "    }\n",
       "</style>\n",
       "<table border=\"1\" class=\"dataframe\">\n",
       "  <thead>\n",
       "    <tr style=\"text-align: right;\">\n",
       "      <th></th>\n",
       "      <th>education</th>\n",
       "      <th>education_vector</th>\n",
       "      <th>education_score</th>\n",
       "    </tr>\n",
       "  </thead>\n",
       "  <tbody>\n",
       "    <tr>\n",
       "      <th>0</th>\n",
       "      <td>Bachelor in Computer Engineering</td>\n",
       "      <td>(1, Computer Engineering)</td>\n",
       "      <td>0.377273</td>\n",
       "    </tr>\n",
       "    <tr>\n",
       "      <th>1</th>\n",
       "      <td>Bachelor Degree in Computer Science</td>\n",
       "      <td>(1, Computer Science)</td>\n",
       "      <td>0.383333</td>\n",
       "    </tr>\n",
       "    <tr>\n",
       "      <th>2</th>\n",
       "      <td>Masters in IT</td>\n",
       "      <td>(2, IT)</td>\n",
       "      <td>1.000000</td>\n",
       "    </tr>\n",
       "    <tr>\n",
       "      <th>3</th>\n",
       "      <td>PhD in Computer Science</td>\n",
       "      <td>(3, Computer Science)</td>\n",
       "      <td>0.733333</td>\n",
       "    </tr>\n",
       "    <tr>\n",
       "      <th>4</th>\n",
       "      <td>Bachelor in Computer Engineering</td>\n",
       "      <td>(1, Computer Engineering)</td>\n",
       "      <td>0.377273</td>\n",
       "    </tr>\n",
       "  </tbody>\n",
       "</table>\n",
       "</div>"
      ],
      "text/plain": [
       "                             education           education_vector   \n",
       "0     Bachelor in Computer Engineering  (1, Computer Engineering)  \\\n",
       "1  Bachelor Degree in Computer Science      (1, Computer Science)   \n",
       "2                        Masters in IT                    (2, IT)   \n",
       "3              PhD in Computer Science      (3, Computer Science)   \n",
       "4     Bachelor in Computer Engineering  (1, Computer Engineering)   \n",
       "\n",
       "   education_score  \n",
       "0         0.377273  \n",
       "1         0.383333  \n",
       "2         1.000000  \n",
       "3         0.733333  \n",
       "4         0.377273  "
      ]
     },
     "execution_count": 71,
     "metadata": {},
     "output_type": "execute_result"
    }
   ],
   "source": [
    "df_resume_rankings[['education', 'education_vector', 'education_score']]"
   ]
  },
  {
   "cell_type": "markdown",
   "metadata": {},
   "source": [
    "## 4. Experience"
   ]
  },
  {
   "cell_type": "markdown",
   "metadata": {},
   "source": [
    "- Extracts the 'X years' part from the target job experience.\n",
    "- Calculates similarity scores for each applicant's experience, taking the ratio of their 'X years' to the target job's 'X years'. \n",
    "- The score is limited it to a maximum of 1.0 to avoid giving excessive credit to applicants with more experience than needed."
   ]
  },
  {
   "cell_type": "code",
   "execution_count": 72,
   "metadata": {},
   "outputs": [],
   "source": [
    "# Function to extract 'X years' part from experience\n",
    "def extract_years(experience):\n",
    "    match = re.search(r'\\d+ years?', experience)\n",
    "    if match:\n",
    "        return int(match.group().split()[0])\n",
    "    return 0\n",
    "\n",
    "# Convert job experience to 'X years' information\n",
    "target_job_experience = extract_years(target_job['experience'])\n",
    "\n",
    "def get_experience_score():\n",
    "    # Calculate similarity scores for each applicant\n",
    "    applicant_scores = []\n",
    "    for applicant_experience in df_resume_rankings['experience']:\n",
    "        applicant_years = extract_years(applicant_experience)\n",
    "        similarity_score = min(applicant_years / target_job_experience, 1.0)\n",
    "        applicant_scores.append(similarity_score)\n",
    "\n",
    "    df_resume_rankings['experience_score'] = applicant_scores"
   ]
  },
  {
   "cell_type": "code",
   "execution_count": 73,
   "metadata": {},
   "outputs": [],
   "source": [
    "get_experience_score()"
   ]
  },
  {
   "cell_type": "code",
   "execution_count": 74,
   "metadata": {},
   "outputs": [
    {
     "data": {
      "text/plain": [
       "'4 years of marketing experience with a focus on social media marketing and SEO.'"
      ]
     },
     "execution_count": 74,
     "metadata": {},
     "output_type": "execute_result"
    }
   ],
   "source": [
    "target_job['experience']"
   ]
  },
  {
   "cell_type": "code",
   "execution_count": 75,
   "metadata": {},
   "outputs": [
    {
     "data": {
      "text/html": [
       "<div>\n",
       "<style scoped>\n",
       "    .dataframe tbody tr th:only-of-type {\n",
       "        vertical-align: middle;\n",
       "    }\n",
       "\n",
       "    .dataframe tbody tr th {\n",
       "        vertical-align: top;\n",
       "    }\n",
       "\n",
       "    .dataframe thead th {\n",
       "        text-align: right;\n",
       "    }\n",
       "</style>\n",
       "<table border=\"1\" class=\"dataframe\">\n",
       "  <thead>\n",
       "    <tr style=\"text-align: right;\">\n",
       "      <th></th>\n",
       "      <th>experience</th>\n",
       "      <th>experience_score</th>\n",
       "    </tr>\n",
       "  </thead>\n",
       "  <tbody>\n",
       "    <tr>\n",
       "      <th>0</th>\n",
       "      <td>5 years of experience in software development ...</td>\n",
       "      <td>1.00</td>\n",
       "    </tr>\n",
       "    <tr>\n",
       "      <th>1</th>\n",
       "      <td>3 years of experience in data science and mach...</td>\n",
       "      <td>0.75</td>\n",
       "    </tr>\n",
       "    <tr>\n",
       "      <th>2</th>\n",
       "      <td>1 years of experience in project management an...</td>\n",
       "      <td>0.25</td>\n",
       "    </tr>\n",
       "    <tr>\n",
       "      <th>3</th>\n",
       "      <td>2 years of experience in mobile app developmen...</td>\n",
       "      <td>0.50</td>\n",
       "    </tr>\n",
       "    <tr>\n",
       "      <th>4</th>\n",
       "      <td>4 years of experience in financial analysis an...</td>\n",
       "      <td>1.00</td>\n",
       "    </tr>\n",
       "  </tbody>\n",
       "</table>\n",
       "</div>"
      ],
      "text/plain": [
       "                                          experience  experience_score\n",
       "0  5 years of experience in software development ...              1.00\n",
       "1  3 years of experience in data science and mach...              0.75\n",
       "2  1 years of experience in project management an...              0.25\n",
       "3  2 years of experience in mobile app developmen...              0.50\n",
       "4  4 years of experience in financial analysis an...              1.00"
      ]
     },
     "execution_count": 75,
     "metadata": {},
     "output_type": "execute_result"
    }
   ],
   "source": [
    "df_resume_rankings[['experience', 'experience_score']]"
   ]
  },
  {
   "cell_type": "markdown",
   "metadata": {},
   "source": [
    "#### Finally, so far"
   ]
  },
  {
   "cell_type": "code",
   "execution_count": 76,
   "metadata": {},
   "outputs": [
    {
     "data": {
      "text/html": [
       "<div>\n",
       "<style scoped>\n",
       "    .dataframe tbody tr th:only-of-type {\n",
       "        vertical-align: middle;\n",
       "    }\n",
       "\n",
       "    .dataframe tbody tr th {\n",
       "        vertical-align: top;\n",
       "    }\n",
       "\n",
       "    .dataframe thead th {\n",
       "        text-align: right;\n",
       "    }\n",
       "</style>\n",
       "<table border=\"1\" class=\"dataframe\">\n",
       "  <thead>\n",
       "    <tr style=\"text-align: right;\">\n",
       "      <th></th>\n",
       "      <th>Category</th>\n",
       "      <th>Resume</th>\n",
       "      <th>education</th>\n",
       "      <th>skills</th>\n",
       "      <th>projects</th>\n",
       "      <th>experience</th>\n",
       "      <th>clean_resume</th>\n",
       "      <th>description_score</th>\n",
       "      <th>skills_vector</th>\n",
       "      <th>skills_score</th>\n",
       "      <th>projects_vector</th>\n",
       "      <th>projects_score</th>\n",
       "      <th>education_vector</th>\n",
       "      <th>education_score</th>\n",
       "      <th>experience_score</th>\n",
       "    </tr>\n",
       "  </thead>\n",
       "  <tbody>\n",
       "    <tr>\n",
       "      <th>0</th>\n",
       "      <td>Java Developer</td>\n",
       "      <td>Operating Systems Windows XP, 7, 10. Tools/Pac...</td>\n",
       "      <td>Bachelor in Computer Engineering</td>\n",
       "      <td>C, Python, JavaScript</td>\n",
       "      <td>[{'title': 'Project X', 'description': 'Create...</td>\n",
       "      <td>5 years of experience in software development ...</td>\n",
       "      <td>operating systems windows xp         tools pac...</td>\n",
       "      <td>0.215306</td>\n",
       "      <td>[1, 0, 0, 0, 0]</td>\n",
       "      <td>0.447214</td>\n",
       "      <td>[1, 0, 0, 0, 0]</td>\n",
       "      <td>0.447214</td>\n",
       "      <td>(1, Computer Engineering)</td>\n",
       "      <td>0.377273</td>\n",
       "      <td>1.00</td>\n",
       "    </tr>\n",
       "    <tr>\n",
       "      <th>1</th>\n",
       "      <td>Java Developer</td>\n",
       "      <td>Operating Systems Windows XP, 7, 10. Tools/Pac...</td>\n",
       "      <td>Bachelor Degree in Computer Science</td>\n",
       "      <td>Python, Java, HTML, CSS</td>\n",
       "      <td>[{'title': 'Project A', 'description': 'Develo...</td>\n",
       "      <td>3 years of experience in data science and mach...</td>\n",
       "      <td>operating systems windows xp         tools pac...</td>\n",
       "      <td>0.215306</td>\n",
       "      <td>[1, 0, 0, 0, 0]</td>\n",
       "      <td>0.447214</td>\n",
       "      <td>[1, 0, 0, 0, 0]</td>\n",
       "      <td>0.447214</td>\n",
       "      <td>(1, Computer Science)</td>\n",
       "      <td>0.383333</td>\n",
       "      <td>0.75</td>\n",
       "    </tr>\n",
       "    <tr>\n",
       "      <th>2</th>\n",
       "      <td>Python Developer</td>\n",
       "      <td>â¢ Operating Systems: Windows â¢ Others: MS ...</td>\n",
       "      <td>Masters in IT</td>\n",
       "      <td>C, Python, Java, SQL, Go</td>\n",
       "      <td>[{'title': 'Project Z', 'description': 'Design...</td>\n",
       "      <td>1 years of experience in project management an...</td>\n",
       "      <td>operating systems  windows     others  ms ...</td>\n",
       "      <td>0.336201</td>\n",
       "      <td>[1, 0, 0, 1, 0]</td>\n",
       "      <td>0.632456</td>\n",
       "      <td>[1, 0, 0, 1, 0]</td>\n",
       "      <td>0.632456</td>\n",
       "      <td>(2, IT)</td>\n",
       "      <td>1.000000</td>\n",
       "      <td>0.25</td>\n",
       "    </tr>\n",
       "    <tr>\n",
       "      <th>3</th>\n",
       "      <td>Python Developer</td>\n",
       "      <td>â¢ Operating Systems: Windows â¢ Others: MS ...</td>\n",
       "      <td>PhD in Computer Science</td>\n",
       "      <td>C, Python, Django, Pandas</td>\n",
       "      <td>[{'title': 'Project K', 'description': 'Create...</td>\n",
       "      <td>2 years of experience in mobile app developmen...</td>\n",
       "      <td>operating systems  windows     others  ms ...</td>\n",
       "      <td>0.336201</td>\n",
       "      <td>[1, 1, 0, 0, 0]</td>\n",
       "      <td>0.632456</td>\n",
       "      <td>[0, 1, 0, 0, 0]</td>\n",
       "      <td>0.447214</td>\n",
       "      <td>(3, Computer Science)</td>\n",
       "      <td>0.733333</td>\n",
       "      <td>0.50</td>\n",
       "    </tr>\n",
       "    <tr>\n",
       "      <th>4</th>\n",
       "      <td>Python Developer</td>\n",
       "      <td>â¢ Operating Systems: Windows â¢ Others: MS ...</td>\n",
       "      <td>Bachelor in Computer Engineering</td>\n",
       "      <td>Python, JavaScript, ReactJS, Express, Node</td>\n",
       "      <td>[{'title': 'Project K', 'description': 'Create...</td>\n",
       "      <td>4 years of experience in financial analysis an...</td>\n",
       "      <td>operating systems  windows     others  ms ...</td>\n",
       "      <td>0.336201</td>\n",
       "      <td>[1, 0, 0, 0, 0]</td>\n",
       "      <td>0.447214</td>\n",
       "      <td>[0, 0, 0, 0, 0]</td>\n",
       "      <td>0.000000</td>\n",
       "      <td>(1, Computer Engineering)</td>\n",
       "      <td>0.377273</td>\n",
       "      <td>1.00</td>\n",
       "    </tr>\n",
       "  </tbody>\n",
       "</table>\n",
       "</div>"
      ],
      "text/plain": [
       "           Category                                             Resume   \n",
       "0    Java Developer  Operating Systems Windows XP, 7, 10. Tools/Pac...  \\\n",
       "1    Java Developer  Operating Systems Windows XP, 7, 10. Tools/Pac...   \n",
       "2  Python Developer  â¢ Operating Systems: Windows â¢ Others: MS ...   \n",
       "3  Python Developer  â¢ Operating Systems: Windows â¢ Others: MS ...   \n",
       "4  Python Developer  â¢ Operating Systems: Windows â¢ Others: MS ...   \n",
       "\n",
       "                             education   \n",
       "0     Bachelor in Computer Engineering  \\\n",
       "1  Bachelor Degree in Computer Science   \n",
       "2                        Masters in IT   \n",
       "3              PhD in Computer Science   \n",
       "4     Bachelor in Computer Engineering   \n",
       "\n",
       "                                       skills   \n",
       "0                       C, Python, JavaScript  \\\n",
       "1                     Python, Java, HTML, CSS   \n",
       "2                    C, Python, Java, SQL, Go   \n",
       "3                   C, Python, Django, Pandas   \n",
       "4  Python, JavaScript, ReactJS, Express, Node   \n",
       "\n",
       "                                            projects   \n",
       "0  [{'title': 'Project X', 'description': 'Create...  \\\n",
       "1  [{'title': 'Project A', 'description': 'Develo...   \n",
       "2  [{'title': 'Project Z', 'description': 'Design...   \n",
       "3  [{'title': 'Project K', 'description': 'Create...   \n",
       "4  [{'title': 'Project K', 'description': 'Create...   \n",
       "\n",
       "                                          experience   \n",
       "0  5 years of experience in software development ...  \\\n",
       "1  3 years of experience in data science and mach...   \n",
       "2  1 years of experience in project management an...   \n",
       "3  2 years of experience in mobile app developmen...   \n",
       "4  4 years of experience in financial analysis an...   \n",
       "\n",
       "                                        clean_resume  description_score   \n",
       "0  operating systems windows xp         tools pac...           0.215306  \\\n",
       "1  operating systems windows xp         tools pac...           0.215306   \n",
       "2      operating systems  windows     others  ms ...           0.336201   \n",
       "3      operating systems  windows     others  ms ...           0.336201   \n",
       "4      operating systems  windows     others  ms ...           0.336201   \n",
       "\n",
       "     skills_vector  skills_score  projects_vector  projects_score   \n",
       "0  [1, 0, 0, 0, 0]      0.447214  [1, 0, 0, 0, 0]        0.447214  \\\n",
       "1  [1, 0, 0, 0, 0]      0.447214  [1, 0, 0, 0, 0]        0.447214   \n",
       "2  [1, 0, 0, 1, 0]      0.632456  [1, 0, 0, 1, 0]        0.632456   \n",
       "3  [1, 1, 0, 0, 0]      0.632456  [0, 1, 0, 0, 0]        0.447214   \n",
       "4  [1, 0, 0, 0, 0]      0.447214  [0, 0, 0, 0, 0]        0.000000   \n",
       "\n",
       "            education_vector  education_score  experience_score  \n",
       "0  (1, Computer Engineering)         0.377273              1.00  \n",
       "1      (1, Computer Science)         0.383333              0.75  \n",
       "2                    (2, IT)         1.000000              0.25  \n",
       "3      (3, Computer Science)         0.733333              0.50  \n",
       "4  (1, Computer Engineering)         0.377273              1.00  "
      ]
     },
     "execution_count": 76,
     "metadata": {},
     "output_type": "execute_result"
    }
   ],
   "source": [
    "df_resume_rankings"
   ]
  }
 ],
 "metadata": {
  "kernelspec": {
   "display_name": "Python 3",
   "language": "python",
   "name": "python3"
  },
  "language_info": {
   "codemirror_mode": {
    "name": "ipython",
    "version": 3
   },
   "file_extension": ".py",
   "mimetype": "text/x-python",
   "name": "python",
   "nbconvert_exporter": "python",
   "pygments_lexer": "ipython3",
   "version": "3.11.0"
  },
  "orig_nbformat": 4
 },
 "nbformat": 4,
 "nbformat_minor": 2
}
